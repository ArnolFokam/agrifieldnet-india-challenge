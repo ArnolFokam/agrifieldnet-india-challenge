{
 "cells": [
  {
   "cell_type": "code",
   "execution_count": null,
   "metadata": {},
   "outputs": [],
   "source": [
    "import os\n",
    "import pandas as pd\n",
    "import numpy as np\n",
    "import json\n",
    "import rasterio"
   ]
  },
  {
   "cell_type": "code",
   "execution_count": null,
   "metadata": {},
   "outputs": [],
   "source": [
    "data_dir = '../data/train_test'\n",
    "\n",
    "main = 'ref_agrifieldnet_competition_v1'\n",
    "\n",
    "source_collection = f'{main}_source'\n",
    "train_label_collection = f'{main}_labels_train'\n",
    "test_label_collection = f'{main}_labels_test'"
   ]
  },
  {
   "cell_type": "code",
   "execution_count": null,
   "metadata": {},
   "outputs": [
    {
     "name": "stdout",
     "output_type": "stream",
     "text": [
      "dict_keys(['type', 'stac_version', 'stac_extensions', 'id', 'title', 'description', 'license', 'sci:doi', 'sci:citation', 'extent', 'links'])\n"
     ]
    }
   ],
   "source": [
    "with open (f'{data_dir}/{main}/{train_label_collection}/collection.json') as f:\n",
    "    train_json = json.load(f)\n",
    "\n",
    "print(train_json.keys())"
   ]
  },
  {
   "cell_type": "code",
   "execution_count": null,
   "metadata": {},
   "outputs": [
    {
     "name": "stdout",
     "output_type": "stream",
     "text": [
      "28852\n",
      "../data/train_test/ref_agrifieldnet_competition_v1/ref_agrifieldnet_competition_v1_labels_train/ref_agrifieldnet_competition_v1_labels_train_28852/field_ids.tif\n",
      "../data/train_test/ref_agrifieldnet_competition_v1/ref_agrifieldnet_competition_v1_labels_train/ref_agrifieldnet_competition_v1_labels_train_28852/raster_labels.tif\n"
     ]
    }
   ],
   "source": [
    "train_folder_ids = [i['href'].split('_')[-1].split('.')[0] for i in train_json['links'][4:]]\n",
    "train_field_paths = [f'{data_dir}/{main}/{train_label_collection}/{train_label_collection}_{i}/field_ids.tif' for i in train_folder_ids]\n",
    "train_label_paths = [f'{data_dir}/{main}/{train_label_collection}/{train_label_collection}_{i}/raster_labels.tif' for i in train_folder_ids]\n",
    "\n",
    "print(train_folder_ids[0])\n",
    "print(train_field_paths[0])\n",
    "print(train_label_paths[0])"
   ]
  },
  {
   "cell_type": "code",
   "execution_count": null,
   "metadata": {},
   "outputs": [
    {
     "data": {
      "text/html": [
       "<div>\n",
       "<style scoped>\n",
       "    .dataframe tbody tr th:only-of-type {\n",
       "        vertical-align: middle;\n",
       "    }\n",
       "\n",
       "    .dataframe tbody tr th {\n",
       "        vertical-align: top;\n",
       "    }\n",
       "\n",
       "    .dataframe thead th {\n",
       "        text-align: right;\n",
       "    }\n",
       "</style>\n",
       "<table border=\"1\" class=\"dataframe\">\n",
       "  <thead>\n",
       "    <tr style=\"text-align: right;\">\n",
       "      <th></th>\n",
       "      <th>unique_folder_id</th>\n",
       "      <th>field_paths</th>\n",
       "    </tr>\n",
       "  </thead>\n",
       "  <tbody>\n",
       "    <tr>\n",
       "      <th>0</th>\n",
       "      <td>28852</td>\n",
       "      <td>../data/train_test/ref_agrifieldnet_competitio...</td>\n",
       "    </tr>\n",
       "    <tr>\n",
       "      <th>1</th>\n",
       "      <td>d987c</td>\n",
       "      <td>../data/train_test/ref_agrifieldnet_competitio...</td>\n",
       "    </tr>\n",
       "    <tr>\n",
       "      <th>2</th>\n",
       "      <td>ca1d4</td>\n",
       "      <td>../data/train_test/ref_agrifieldnet_competitio...</td>\n",
       "    </tr>\n",
       "    <tr>\n",
       "      <th>3</th>\n",
       "      <td>2ec18</td>\n",
       "      <td>../data/train_test/ref_agrifieldnet_competitio...</td>\n",
       "    </tr>\n",
       "    <tr>\n",
       "      <th>4</th>\n",
       "      <td>7575d</td>\n",
       "      <td>../data/train_test/ref_agrifieldnet_competitio...</td>\n",
       "    </tr>\n",
       "  </tbody>\n",
       "</table>\n",
       "</div>"
      ],
      "text/plain": [
       "  unique_folder_id                                        field_paths\n",
       "0            28852  ../data/train_test/ref_agrifieldnet_competitio...\n",
       "1            d987c  ../data/train_test/ref_agrifieldnet_competitio...\n",
       "2            ca1d4  ../data/train_test/ref_agrifieldnet_competitio...\n",
       "3            2ec18  ../data/train_test/ref_agrifieldnet_competitio...\n",
       "4            7575d  ../data/train_test/ref_agrifieldnet_competitio..."
      ]
     },
     "execution_count": 7,
     "metadata": {},
     "output_type": "execute_result"
    }
   ],
   "source": [
    "competition_train_data = pd.DataFrame(train_folder_ids, columns=['unique_folder_id'])\n",
    "competition_train_data['field_paths'] = train_field_paths\n",
    "competition_train_data.head()"
   ]
  },
  {
   "cell_type": "code",
   "execution_count": null,
   "metadata": {},
   "outputs": [
    {
     "name": "stdout",
     "output_type": "stream",
     "text": [
      "(1, 256, 256)\n",
      "(array([   0,  756,  757, 1372, 1374], dtype=uint16), array([65461,    14,    21,    38,     2]))\n"
     ]
    }
   ],
   "source": [
    "with rasterio.open(f'{data_dir}/{main}/{train_label_collection}/{train_label_collection}_{train_folder_ids[0]}/field_ids.tif') as src:\n",
    "    field_data = src.read()\n",
    "\n",
    "print(field_data.shape)\n",
    "print(np.unique(field_data, return_counts=True))\n",
    "\n",
    "field_data = field_data[0]"
   ]
  },
  {
   "cell_type": "code",
   "execution_count": null,
   "metadata": {},
   "outputs": [],
   "source": [
    "from collections import defaultdict\n",
    "\n",
    "field_crops = defaultdict(lambda : [])"
   ]
  },
  {
   "cell_type": "code",
   "execution_count": null,
   "metadata": {},
   "outputs": [
    {
     "name": "stdout",
     "output_type": "stream",
     "text": [
      "(1, 256, 256)\n",
      "(array([0, 1, 5, 6], dtype=uint16), array([65461,     2,    38,    35]))\n"
     ]
    }
   ],
   "source": [
    "with rasterio.open(f'{data_dir}/{main}/{train_label_collection}/{train_label_collection}_{train_folder_ids[0]}/raster_labels.tif') as src:\n",
    "    crop_data = src.read()\n",
    "\n",
    "print(crop_data.shape)\n",
    "print(np.unique(crop_data, return_counts=True))\n",
    "\n",
    "# zero because we index a one-dimension input\n",
    "crop_data = crop_data[0]"
   ]
  },
  {
   "cell_type": "code",
   "execution_count": null,
   "metadata": {},
   "outputs": [
    {
     "name": "stdout",
     "output_type": "stream",
     "text": [
      "defaultdict(<function <lambda> at 0x7f47fb539900>, {'0': [0], '757': [6], '756': [6], '1372': [5], '1374': [1]})\n"
     ]
    }
   ],
   "source": [
    "for x in range(crop_data.shape[0]):\n",
    "    for y in range(crop_data.shape[1]):\n",
    "        # get the field id and label of the pixel\n",
    "        field_id = str(field_data[x][y])\n",
    "        field_crop = crop_data[x][y]\n",
    "\n",
    "        if field_crop not in field_crops[field_id]:\n",
    "            field_crops[field_id].append(field_crop)\n",
    "\n",
    "print(field_crops)"
   ]
  },
  {
   "cell_type": "code",
   "execution_count": null,
   "metadata": {},
   "outputs": [
    {
     "name": "stdout",
     "output_type": "stream",
     "text": [
      "[['0', 0], ['757', 6], ['756', 6], ['1372', 5], ['1374', 1]]\n"
     ]
    }
   ],
   "source": [
    "field_crop_map  =[[k, v[0]]  for k, v in field_crops.items() ]\n",
    "# why first item?\n",
    "print(field_crop_map)"
   ]
  },
  {
   "cell_type": "code",
   "execution_count": null,
   "metadata": {},
   "outputs": [
    {
     "data": {
      "text/html": [
       "<div>\n",
       "<style scoped>\n",
       "    .dataframe tbody tr th:only-of-type {\n",
       "        vertical-align: middle;\n",
       "    }\n",
       "\n",
       "    .dataframe tbody tr th {\n",
       "        vertical-align: top;\n",
       "    }\n",
       "\n",
       "    .dataframe thead th {\n",
       "        text-align: right;\n",
       "    }\n",
       "</style>\n",
       "<table border=\"1\" class=\"dataframe\">\n",
       "  <thead>\n",
       "    <tr style=\"text-align: right;\">\n",
       "      <th></th>\n",
       "      <th>field_id</th>\n",
       "      <th>crop_id</th>\n",
       "    </tr>\n",
       "  </thead>\n",
       "  <tbody>\n",
       "    <tr>\n",
       "      <th>0</th>\n",
       "      <td>0</td>\n",
       "      <td>0</td>\n",
       "    </tr>\n",
       "    <tr>\n",
       "      <th>1</th>\n",
       "      <td>757</td>\n",
       "      <td>6</td>\n",
       "    </tr>\n",
       "    <tr>\n",
       "      <th>2</th>\n",
       "      <td>756</td>\n",
       "      <td>6</td>\n",
       "    </tr>\n",
       "    <tr>\n",
       "      <th>3</th>\n",
       "      <td>1372</td>\n",
       "      <td>5</td>\n",
       "    </tr>\n",
       "    <tr>\n",
       "      <th>4</th>\n",
       "      <td>1374</td>\n",
       "      <td>1</td>\n",
       "    </tr>\n",
       "  </tbody>\n",
       "</table>\n",
       "</div>"
      ],
      "text/plain": [
       "  field_id  crop_id\n",
       "0        0        0\n",
       "1      757        6\n",
       "2      756        6\n",
       "3     1372        5\n",
       "4     1374        1"
      ]
     },
     "execution_count": 52,
     "metadata": {},
     "output_type": "execute_result"
    }
   ],
   "source": [
    "field_crop = pd.DataFrame(field_crop_map , columns=['field_id','crop_id'])\n",
    "field_crop.head()"
   ]
  },
  {
   "cell_type": "code",
   "execution_count": null,
   "metadata": {},
   "outputs": [
    {
     "data": {
      "text/html": [
       "<div>\n",
       "<style scoped>\n",
       "    .dataframe tbody tr th:only-of-type {\n",
       "        vertical-align: middle;\n",
       "    }\n",
       "\n",
       "    .dataframe tbody tr th {\n",
       "        vertical-align: top;\n",
       "    }\n",
       "\n",
       "    .dataframe thead th {\n",
       "        text-align: right;\n",
       "    }\n",
       "</style>\n",
       "<table border=\"1\" class=\"dataframe\">\n",
       "  <thead>\n",
       "    <tr style=\"text-align: right;\">\n",
       "      <th></th>\n",
       "      <th>field_id</th>\n",
       "      <th>crop_id</th>\n",
       "    </tr>\n",
       "  </thead>\n",
       "  <tbody>\n",
       "    <tr>\n",
       "      <th>1</th>\n",
       "      <td>757</td>\n",
       "      <td>6</td>\n",
       "    </tr>\n",
       "    <tr>\n",
       "      <th>2</th>\n",
       "      <td>756</td>\n",
       "      <td>6</td>\n",
       "    </tr>\n",
       "    <tr>\n",
       "      <th>3</th>\n",
       "      <td>1372</td>\n",
       "      <td>5</td>\n",
       "    </tr>\n",
       "    <tr>\n",
       "      <th>4</th>\n",
       "      <td>1374</td>\n",
       "      <td>1</td>\n",
       "    </tr>\n",
       "  </tbody>\n",
       "</table>\n",
       "</div>"
      ],
      "text/plain": [
       "  field_id  crop_id\n",
       "1      757        6\n",
       "2      756        6\n",
       "3     1372        5\n",
       "4     1374        1"
      ]
     },
     "execution_count": 53,
     "metadata": {},
     "output_type": "execute_result"
    }
   ],
   "source": [
    "field_crop[field_crop['field_id']!='0']"
   ]
  },
  {
   "cell_type": "markdown",
   "metadata": {},
   "source": [
    "### Pixel-based Random Forest model"
   ]
  },
  {
   "cell_type": "code",
   "execution_count": null,
   "metadata": {},
   "outputs": [
    {
     "data": {
      "text/plain": [
       "(256, 256)"
      ]
     },
     "execution_count": 82,
     "metadata": {},
     "output_type": "execute_result"
    }
   ],
   "source": [
    "Full_bands = ['B01', 'B02', 'B03', 'B04','B05', 'B06', 'B07', 'B08','B8A', 'B09', 'B11', 'B12']\n",
    "\n",
    "img_sh = 256\n",
    "n_selected_bands= len(Full_bands[:3])\n",
    "n_obs = 1  # imagery per chip (no time series)\n",
    "\n",
    "X = np.empty((0, n_selected_bands * n_obs))\n",
    "X_tile = np.empty((img_sh * img_sh, 0))\n",
    "X_arrays = []\n",
    "\n",
    "field_src = rasterio.open(competition_train_data['field_paths'].values[0])\n",
    "field_array = field_src.read(1)\n",
    "field_array.shape"
   ]
  },
  {
   "cell_type": "code",
   "execution_count": null,
   "metadata": {},
   "outputs": [
    {
     "name": "stdout",
     "output_type": "stream",
     "text": [
      "(0, 1)\n",
      "(65536,)\n",
      "(array([   0.,  756.,  757., 1372., 1374.]), array([65461,    14,    21,    38,     2]))\n"
     ]
    }
   ],
   "source": [
    "field_ids = np.empty((0, 1))\n",
    "print(field_ids.shape)\n",
    "\n",
    "field_ids = np.append(field_ids, field_array.flatten())\n",
    "print(field_ids.shape)\n",
    "print(np.unique(field_ids, return_counts=True))"
   ]
  },
  {
   "cell_type": "code",
   "execution_count": 91,
   "metadata": {},
   "outputs": [],
   "source": [
    "bands_src = [rasterio.open(f'{data_dir}/{main}/{source_collection}/{source_collection}_{competition_train_data[\"unique_folder_id\"][0]}/{band}.tif') for band in Full_bands[:3]]"
   ]
  },
  {
   "cell_type": "code",
   "execution_count": 92,
   "metadata": {},
   "outputs": [
    {
     "data": {
      "text/plain": [
       "[<open DatasetReader name='../data/train_test/ref_agrifieldnet_competition_v1/ref_agrifieldnet_competition_v1_source/ref_agrifieldnet_competition_v1_source_28852/B01.tif' mode='r'>,\n",
       " <open DatasetReader name='../data/train_test/ref_agrifieldnet_competition_v1/ref_agrifieldnet_competition_v1_source/ref_agrifieldnet_competition_v1_source_28852/B02.tif' mode='r'>,\n",
       " <open DatasetReader name='../data/train_test/ref_agrifieldnet_competition_v1/ref_agrifieldnet_competition_v1_source/ref_agrifieldnet_competition_v1_source_28852/B03.tif' mode='r'>]"
      ]
     },
     "execution_count": 92,
     "metadata": {},
     "output_type": "execute_result"
    }
   ],
   "source": [
    "bands_array = [np.expand_dims(band.read(1).flatten(), axis=1) for band in bands_src]"
   ]
  },
  {
   "cell_type": "code",
   "execution_count": null,
   "metadata": {},
   "outputs": [],
   "source": [
    "bands_array = [np.expand_dims(band.read(1).flatten(), axis=1) for band in bands_src]"
   ]
  },
  {
   "cell_type": "code",
   "execution_count": null,
   "metadata": {},
   "outputs": [],
   "source": []
  }
 ],
 "metadata": {
  "kernelspec": {
   "display_name": "Python 3.9.13 ('aic')",
   "language": "python",
   "name": "python3"
  },
  "language_info": {
   "codemirror_mode": {
    "name": "ipython",
    "version": 3
   },
   "file_extension": ".py",
   "mimetype": "text/x-python",
   "name": "python",
   "nbconvert_exporter": "python",
   "pygments_lexer": "ipython3",
   "version": "3.10.4"
  },
  "orig_nbformat": 4,
  "vscode": {
   "interpreter": {
    "hash": "343d5314fc48f5bfb4cd63254b1e722eb3b6098face60236b2a96d94efec6dd0"
   }
  }
 },
 "nbformat": 4,
 "nbformat_minor": 2
}
