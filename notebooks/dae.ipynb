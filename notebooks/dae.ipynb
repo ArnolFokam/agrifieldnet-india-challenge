{
 "cells": [
  {
   "cell_type": "markdown",
   "metadata": {},
   "source": [
    "- Chips distribution (source, train, test)\n",
    "    - [How many chips are there for the test, train and overall dataset?](#how-many-chips-are-there-for-the-test-train-and-overall-dataset)\n",
    "    - [Are there some unused chips in different splits as well as the overall dataset?](#are-there-some-unused-chips-in-different-splits-as-well-as-the-overall-dataset)\n",
    "- Fields distribution\n",
    "    - [What is the total number of fields in different splits?](#what-is-the-total-number-of-fields-in-different-splits)\n",
    "    - [What are the chips with overlapping field ids?](#what-are-the-chips-with-overlapping-field-ids)\n",
    "- Crops distribution\n",
    "    - [What is the crop distribution per chip?](#what-is-the-crop-distribution-per-chip)\n",
    "    - [What is the crop distribution per field id?](#what-is-the-crop-distribution-per-field-id)\n",
    "    - [What is the crop distribution per pixels?](#what-is-the-crop-distribution-per-pixels)\n",
    "- Field Area\n",
    "    - [What is the max, min and mean area of training and testing fields?](#what-is-the-max-min-and-mean-area-of-training-and-testing-fields)\n",
    "    - [At what area does the training and testing field starts to overlap?](#at-what-patch-size-does-the-training-and-testing-field-start-to-overlap)"
   ]
  },
  {
   "cell_type": "code",
   "execution_count": 1,
   "metadata": {},
   "outputs": [],
   "source": [
    "import json\n",
    "import rasterio\n",
    "import pandas as pd\n",
    "import numpy as np\n",
    "from matplotlib import pyplot as plt\n",
    "import seaborn as sns\n",
    "import glob\n",
    "from tqdm import tqdm\n",
    "from collections import defaultdict\n"
   ]
  },
  {
   "cell_type": "code",
   "execution_count": 2,
   "metadata": {},
   "outputs": [],
   "source": [
    "bands = ['B01', 'B02', 'B03', 'B04','B05', 'B06', 'B07', 'B08','B8A', 'B09', 'B11', 'B12']\n",
    "\n",
    "data_dir = '../data/source'\n",
    "\n",
    "main = 'ref_agrifieldnet_competition_v1'\n",
    "\n",
    "source_collection = f'{main}_source'\n",
    "train_label_collection = f'{main}_labels_train'\n",
    "test_label_collection = f'{main}_labels_test'"
   ]
  },
  {
   "cell_type": "code",
   "execution_count": 3,
   "metadata": {},
   "outputs": [],
   "source": [
    "with open (f'{data_dir}/{main}/{source_collection}/collection.json') as f:\n",
    "    source_json = json.load(f)\n",
    "    source_folder_ids = [i['href'].split('_')[-1].split('.')[0] for i in source_json['links'][4:]]\n",
    "    source_band_paths = [[f'{data_dir}/{main}/{source_collection}/{source_collection}_{i}/{band}.tif'  for band in bands ] for i in source_folder_ids]\n",
    "    \n",
    "with open (f'{data_dir}/{main}/{train_label_collection}/collection.json') as f:\n",
    "    train_json = json.load(f)\n",
    "    train_folder_ids = [i['href'].split('_')[-1].split('.')[0] for i in train_json['links'][4:]]\n",
    "    train_field_paths = [f'{data_dir}/{main}/{train_label_collection}/{train_label_collection}_{i}/field_ids.tif' for i in train_folder_ids]\n",
    "    train_label_paths = [f'{data_dir}/{main}/{train_label_collection}/{train_label_collection}_{i}/raster_labels.tif' for i in train_folder_ids]\n",
    "\n",
    "with open (f'{data_dir}/{main}/{test_label_collection}/collection.json') as f: \n",
    "    test_json = json.load(f)\n",
    "    test_folder_ids = [i['href'].split('_')[-1].split('.')[0] for i in test_json['links'][4:]]\n",
    "    test_field_paths = [f'{data_dir}/{main}/{test_label_collection}/{test_label_collection}_{i}/field_ids.tif' for i in test_folder_ids]\n",
    "    test_label_paths = [f'{data_dir}/{main}/{test_label_collection}/{test_label_collection}_{i}/raster_labels.tif' for i in test_folder_ids]"
   ]
  },
  {
   "cell_type": "markdown",
   "metadata": {},
   "source": [
    "## Chips distribution"
   ]
  },
  {
   "cell_type": "markdown",
   "metadata": {},
   "source": [
    "### How many chips are there for the test, train and overall dataset?"
   ]
  },
  {
   "cell_type": "code",
   "execution_count": 4,
   "metadata": {},
   "outputs": [
    {
     "name": "stdout",
     "output_type": "stream",
     "text": [
      "number of train chips:  1165\n"
     ]
    }
   ],
   "source": [
    "assert len(train_folder_ids) == len(train_field_paths) == len(train_label_paths)\n",
    "print(\"number of train chips: \", len(train_folder_ids))"
   ]
  },
  {
   "cell_type": "code",
   "execution_count": 5,
   "metadata": {},
   "outputs": [
    {
     "name": "stdout",
     "output_type": "stream",
     "text": [
      "number of test chips:  707\n"
     ]
    }
   ],
   "source": [
    "assert len(test_folder_ids) == len(test_field_paths) == len(test_label_paths)\n",
    "print(\"number of test chips: \", len(test_folder_ids))"
   ]
  },
  {
   "cell_type": "code",
   "execution_count": 6,
   "metadata": {},
   "outputs": [
    {
     "name": "stdout",
     "output_type": "stream",
     "text": [
      "number of source chips:  1217\n"
     ]
    }
   ],
   "source": [
    "assert len(source_folder_ids) == len(source_band_paths)\n",
    "print(\"number of source chips: \", len(source_folder_ids))"
   ]
  },
  {
   "cell_type": "markdown",
   "metadata": {},
   "source": [
    "### Are there some unused chips in different splits as well as the overall dataset?"
   ]
  },
  {
   "cell_type": "code",
   "execution_count": 7,
   "metadata": {},
   "outputs": [
    {
     "name": "stdout",
     "output_type": "stream",
     "text": [
      "1212 total chips used in train/test splits\n"
     ]
    }
   ],
   "source": [
    "print(f\"{len(set(test_folder_ids).union(set(train_folder_ids)))} total chips used in train/test splits\")"
   ]
  },
  {
   "cell_type": "code",
   "execution_count": 8,
   "metadata": {},
   "outputs": [
    {
     "name": "stdout",
     "output_type": "stream",
     "text": [
      "5 unused chips from the source collection\n"
     ]
    }
   ],
   "source": [
    "print(f\"{len(source_folder_ids) - len(set(source_folder_ids).intersection(set(test_folder_ids).union(set(train_folder_ids))))} unused chips from the source collection\")"
   ]
  },
  {
   "cell_type": "code",
   "execution_count": 9,
   "metadata": {},
   "outputs": [
    {
     "name": "stdout",
     "output_type": "stream",
     "text": [
      "52 unused chips from the source collection (by the train split).\n"
     ]
    }
   ],
   "source": [
    "print(f\"{len(source_folder_ids) - len(set(source_folder_ids).intersection(set(train_folder_ids)))} unused chips from the source collection (by the train split).\")"
   ]
  },
  {
   "cell_type": "code",
   "execution_count": 10,
   "metadata": {},
   "outputs": [
    {
     "name": "stdout",
     "output_type": "stream",
     "text": [
      "505 unused chips from the train collection (by the test split).\n"
     ]
    }
   ],
   "source": [
    "print(f\"{len(train_folder_ids) - len(set(train_folder_ids).intersection(set(test_folder_ids)))} unused chips from the train collection (by the test split).\")"
   ]
  },
  {
   "cell_type": "code",
   "execution_count": 11,
   "metadata": {},
   "outputs": [
    {
     "name": "stdout",
     "output_type": "stream",
     "text": [
      "510 unused chips from the source collection (by the test split).\n"
     ]
    }
   ],
   "source": [
    "print(f\"{len(source_folder_ids) - len(set(source_folder_ids).intersection(set(test_folder_ids)))} unused chips from the source collection (by the test split).\")\n"
   ]
  },
  {
   "cell_type": "markdown",
   "metadata": {},
   "source": [
    "(505) missing chips from the train + (5) chips missing from both splits  = 510 from source collection."
   ]
  },
  {
   "cell_type": "code",
   "execution_count": 12,
   "metadata": {},
   "outputs": [
    {
     "name": "stdout",
     "output_type": "stream",
     "text": [
      "47 chips in the test data but absent in the train data.\n"
     ]
    }
   ],
   "source": [
    "print(f\"{len(test_folder_ids) - len(set(test_folder_ids).intersection(train_folder_ids))} chips in the test data but absent in the train data.\")"
   ]
  },
  {
   "cell_type": "markdown",
   "metadata": {},
   "source": [
    "## Fields distribution"
   ]
  },
  {
   "cell_type": "code",
   "execution_count": 13,
   "metadata": {},
   "outputs": [],
   "source": [
    "\n",
    "def get_field_ids_per_chips(collection, folder_ids):\n",
    "\n",
    "    chips = {}\n",
    "\n",
    "    pbar = tqdm(folder_ids)\n",
    "    pbar.set_description(f'Extracting {collection}',)\n",
    "\n",
    "    for idx in pbar:\n",
    "        with rasterio.open(f'{data_dir}/{main}/{collection}/{collection}_{idx}/field_ids.tif') as src:\n",
    "            field_data = src.read()\n",
    "            field_data = list(np.unique(field_data))\n",
    "            field_data.remove(0)\n",
    "            chips[idx] = field_data\n",
    "\n",
    "    return chips"
   ]
  },
  {
   "cell_type": "code",
   "execution_count": 14,
   "metadata": {},
   "outputs": [
    {
     "name": "stderr",
     "output_type": "stream",
     "text": [
      "Extracting ref_agrifieldnet_competition_v1_labels_train: 100%|██████████| 1165/1165 [00:02<00:00, 390.28it/s]\n",
      "Extracting ref_agrifieldnet_competition_v1_labels_test: 100%|██████████| 707/707 [00:01<00:00, 398.94it/s]\n"
     ]
    }
   ],
   "source": [
    "train_field_ids_per_chip = get_field_ids_per_chips(train_label_collection, train_folder_ids)\n",
    "test_field_ids_per_chip = get_field_ids_per_chips(test_label_collection, test_folder_ids)"
   ]
  },
  {
   "cell_type": "code",
   "execution_count": 15,
   "metadata": {},
   "outputs": [],
   "source": [
    "train_field_ids = [field for fields in train_field_ids_per_chip.values() for field in fields]\n",
    "test_field_ids = [field for fields in test_field_ids_per_chip.values() for field in fields]"
   ]
  },
  {
   "cell_type": "markdown",
   "metadata": {},
   "source": [
    "### What is the total number of fields in different splits?"
   ]
  },
  {
   "cell_type": "markdown",
   "metadata": {},
   "source": [
    "- The same chips from source collection may have both training and testing fields. An elegant way to seperate them might be nice."
   ]
  },
  {
   "cell_type": "code",
   "execution_count": 16,
   "metadata": {},
   "outputs": [
    {
     "name": "stdout",
     "output_type": "stream",
     "text": [
      "5551 fields in the train split\n"
     ]
    }
   ],
   "source": [
    "print(f\"{len(np.unique(train_field_ids))} fields in the train split\")"
   ]
  },
  {
   "cell_type": "code",
   "execution_count": 17,
   "metadata": {},
   "outputs": [
    {
     "name": "stdout",
     "output_type": "stream",
     "text": [
      "1530 fields in the test split\n"
     ]
    }
   ],
   "source": [
    "print(f\"{len(np.unique(test_field_ids))} fields in the test split\")"
   ]
  },
  {
   "cell_type": "code",
   "execution_count": 18,
   "metadata": {},
   "outputs": [
    {
     "name": "stdout",
     "output_type": "stream",
     "text": [
      "7081 fields in the dataset\n"
     ]
    }
   ],
   "source": [
    "print(f\"{len(np.unique(test_field_ids)) + len(np.unique(train_field_ids))} fields in the dataset\")"
   ]
  },
  {
   "cell_type": "markdown",
   "metadata": {},
   "source": [
    "### What are the chips with overlapping field ids?"
   ]
  },
  {
   "cell_type": "code",
   "execution_count": 19,
   "metadata": {},
   "outputs": [],
   "source": [
    "def get_overlapping_chips_per_field(field_ids_per_chip):\n",
    "    field_ids = np.unique([field for fields in field_ids_per_chip.values() for field in fields])\n",
    "\n",
    "    chips = {}\n",
    "\n",
    "    for idx in tqdm(field_ids):\n",
    "        chips[idx] = [chip for chip in field_ids_per_chip.keys() if idx in field_ids_per_chip[chip]]\n",
    "\n",
    "    return chips"
   ]
  },
  {
   "cell_type": "code",
   "execution_count": 20,
   "metadata": {},
   "outputs": [
    {
     "name": "stderr",
     "output_type": "stream",
     "text": [
      "100%|██████████| 5551/5551 [00:00<00:00, 6795.47it/s]"
     ]
    },
    {
     "name": "stdout",
     "output_type": "stream",
     "text": [
      "5285 sets of 1 overlapping training chips\n",
      "264 sets of 2 overlapping training chips\n",
      "1 sets of 3 overlapping training chips\n",
      "1 sets of 4 overlapping training chips\n"
     ]
    },
    {
     "name": "stderr",
     "output_type": "stream",
     "text": [
      "\n"
     ]
    }
   ],
   "source": [
    "overlapping_train_chips = get_overlapping_chips_per_field(train_field_ids_per_chip)\n",
    "sets, counts = np.unique([len(chips) for chips in overlapping_train_chips.values()], return_counts=True)\n",
    "\n",
    "for v, c in zip(sets, counts):\n",
    "    print(f\"{c} sets of {v} overlapping training chips\")"
   ]
  },
  {
   "cell_type": "code",
   "execution_count": 21,
   "metadata": {},
   "outputs": [
    {
     "name": "stderr",
     "output_type": "stream",
     "text": [
      "100%|██████████| 1530/1530 [00:00<00:00, 14601.56it/s]"
     ]
    },
    {
     "name": "stdout",
     "output_type": "stream",
     "text": [
      "1458 sets of 1 overlapping testing chips\n",
      "70 sets of 2 overlapping testing chips\n",
      "2 sets of 4 overlapping testing chips\n"
     ]
    },
    {
     "name": "stderr",
     "output_type": "stream",
     "text": [
      "\n"
     ]
    }
   ],
   "source": [
    "overlapping_test_chips = get_overlapping_chips_per_field(test_field_ids_per_chip)\n",
    "sets, counts = np.unique([len(chips) for chips in overlapping_test_chips.values()], return_counts=True)\n",
    "\n",
    "for v, c in zip(sets, counts):\n",
    "    print(f\"{c} sets of {v} overlapping testing chips\")"
   ]
  },
  {
   "cell_type": "markdown",
   "metadata": {},
   "source": [
    "## Crops distribution"
   ]
  },
  {
   "cell_type": "code",
   "execution_count": 22,
   "metadata": {},
   "outputs": [],
   "source": [
    "crops = {\n",
    "    \"1\": \"Wheat\",\n",
    "    \"2\": \"Mustard\",\n",
    "    \"3\": \"Lentil\",\n",
    "    \"4\": \"No Crop/Fallow\",\n",
    "    \"5\": \"Green pea\",\n",
    "    \"6\": \"Sugarcane\",\n",
    "    \"8\": \"Garlic\",\n",
    "    \"9\": \"Maize\",\n",
    "    \"13\": \"Gram\",\n",
    "    \"14\": \"Coriander\",\n",
    "    \"15\": \"Potato\",\n",
    "    \"16\": \"Bersem\",\n",
    "    \"36\": \"Rice\",\n",
    "}"
   ]
  },
  {
   "cell_type": "markdown",
   "metadata": {},
   "source": [
    "### What is the crop distribution per chip?"
   ]
  },
  {
   "cell_type": "code",
   "execution_count": 23,
   "metadata": {},
   "outputs": [],
   "source": [
    "def get_crop_labels_per_chips(collection, folder_ids):\n",
    "\n",
    "    chips = {}\n",
    "\n",
    "    pbar = tqdm(folder_ids)\n",
    "    pbar.set_description(f'Extracting {collection}',)\n",
    "\n",
    "    for idx in pbar:\n",
    "        with rasterio.open(f'{data_dir}/{main}/{collection}/{collection}_{idx}/raster_labels.tif') as src:\n",
    "            label_data = src.read()\n",
    "            label_data = list(np.unique(label_data))\n",
    "            label_data.remove(0)\n",
    "            chips[idx] = [crops[str(label_idx)] for label_idx in label_data]\n",
    "\n",
    "    return chips\n",
    "\n",
    "\n",
    "def get_overlapping_crops_in_chips(train_crops_per_chip):\n",
    "\n",
    "    chips = {}\n",
    "\n",
    "    pbar = tqdm(crops.values())\n",
    "\n",
    "    for crop in pbar:\n",
    "        pbar.set_description(f\"Extracting {crop}\")\n",
    "        chips[crop] = [chip for chip in train_crops_per_chip.keys() if crop in train_crops_per_chip[chip]]\n",
    "\n",
    "    return chips"
   ]
  },
  {
   "cell_type": "code",
   "execution_count": 24,
   "metadata": {},
   "outputs": [
    {
     "name": "stderr",
     "output_type": "stream",
     "text": [
      "Extracting ref_agrifieldnet_competition_v1_labels_train: 100%|██████████| 1165/1165 [00:02<00:00, 401.15it/s]"
     ]
    },
    {
     "name": "stdout",
     "output_type": "stream",
     "text": [
      "586 chips containing 1 crops type(s)\n",
      "313 chips containing 2 crops type(s)\n",
      "178 chips containing 3 crops type(s)\n",
      "69 chips containing 4 crops type(s)\n",
      "14 chips containing 5 crops type(s)\n",
      "3 chips containing 6 crops type(s)\n",
      "2 chips containing 7 crops type(s)\n"
     ]
    },
    {
     "name": "stderr",
     "output_type": "stream",
     "text": [
      "\n"
     ]
    }
   ],
   "source": [
    "train_crops_per_chip = get_crop_labels_per_chips(train_label_collection, train_folder_ids)\n",
    "\n",
    "sets, counts = np.unique([len(crops_set) for crops_set in train_crops_per_chip.values()], return_counts=True)\n",
    "\n",
    "for v, c in zip(sets, counts):\n",
    "    print(f\"{c} chips containing {v} crops type(s)\")"
   ]
  },
  {
   "cell_type": "code",
   "execution_count": 25,
   "metadata": {},
   "outputs": [
    {
     "name": "stderr",
     "output_type": "stream",
     "text": [
      "Extracting Rice: 100%|██████████| 13/13 [00:00<00:00, 1195.33it/s]"
     ]
    },
    {
     "name": "stdout",
     "output_type": "stream",
     "text": [
      "Wheat can be found in 661 chips\n",
      "Mustard can be found in 479 chips\n",
      "Lentil can be found in 82 chips\n",
      "No Crop/Fallow can be found in 446 chips\n",
      "Green pea can be found in 24 chips\n",
      "Sugarcane can be found in 111 chips\n",
      "Garlic can be found in 40 chips\n",
      "Maize can be found in 119 chips\n",
      "Gram can be found in 42 chips\n",
      "Coriander can be found in 11 chips\n",
      "Potato can be found in 38 chips\n",
      "Bersem can be found in 16 chips\n",
      "Rice can be found in 55 chips\n"
     ]
    },
    {
     "name": "stderr",
     "output_type": "stream",
     "text": [
      "\n"
     ]
    }
   ],
   "source": [
    "overlapping_crops_in_chips = get_overlapping_crops_in_chips(train_crops_per_chip)\n",
    "\n",
    "crop_counts_chip = {crop: len(chips) for crop, chips in overlapping_crops_in_chips.items()}\n",
    "\n",
    "for crop, count in crop_counts_chip.items():\n",
    "    print(f\"{crop} can be found in {count} chips\")"
   ]
  },
  {
   "cell_type": "markdown",
   "metadata": {},
   "source": [
    "### What is the crop distribution per field id?"
   ]
  },
  {
   "cell_type": "code",
   "execution_count": 26,
   "metadata": {},
   "outputs": [],
   "source": [
    "def get_crop_labels_per_field_ids(collection, folder_ids):\n",
    "\n",
    "    crop_labels_per_field_ids = defaultdict(lambda: set())\n",
    "\n",
    "    pbar = tqdm(folder_ids)\n",
    "    pbar.set_description(f'Extracting {collection}',)\n",
    "\n",
    "    for idx in pbar:\n",
    "\n",
    "        with rasterio.open(f'{data_dir}/{main}/{collection}/{collection}_{idx}/raster_labels.tif') as src:\n",
    "            label_data = src.read()[0]\n",
    "\n",
    "        with rasterio.open(f'{data_dir}/{main}/{collection}/{collection}_{idx}/field_ids.tif') as src:\n",
    "            field_data = src.read()[0]\n",
    "\n",
    "        field_ids = list(np.unique(field_data))\n",
    "        field_ids.remove(0)\n",
    "\n",
    "        for fidx in field_ids:\n",
    "            crop_labels_per_field_ids[fidx] = crop_labels_per_field_ids[fidx].union(set([crops[str(cidx)] for cidx in np.unique(label_data[field_data == fidx])]))\n",
    "\n",
    "    return crop_labels_per_field_ids\n",
    "\n",
    "\n",
    "def get_overlapping_crops_in_field_ids(train_crops_per_field_ids):\n",
    "\n",
    "    chips = {}\n",
    "\n",
    "    pbar = tqdm(crops.values())\n",
    "\n",
    "    for crop in pbar:\n",
    "        pbar.set_description(f\"Extracting {crop}\")\n",
    "        chips[crop] = [chip for chip in train_crops_per_field_ids.keys() if crop in train_crops_per_field_ids[chip]]\n",
    "\n",
    "    return chips"
   ]
  },
  {
   "cell_type": "code",
   "execution_count": 27,
   "metadata": {},
   "outputs": [
    {
     "name": "stderr",
     "output_type": "stream",
     "text": [
      "Extracting ref_agrifieldnet_competition_v1_labels_train: 100%|██████████| 1165/1165 [00:05<00:00, 201.87it/s]"
     ]
    },
    {
     "name": "stdout",
     "output_type": "stream",
     "text": [
      "5551 fields containing 1 crops type(s)\n"
     ]
    },
    {
     "name": "stderr",
     "output_type": "stream",
     "text": [
      "\n"
     ]
    }
   ],
   "source": [
    "crop_labels_per_field_ids = get_crop_labels_per_field_ids(train_label_collection, train_folder_ids)\n",
    "\n",
    "sets, counts = np.unique([len(crops_set) for crops_set in crop_labels_per_field_ids.values()], return_counts=True)\n",
    "\n",
    "for v, c in zip(sets, counts):\n",
    "    print(f\"{c} fields containing {v} crops type(s)\")"
   ]
  },
  {
   "cell_type": "code",
   "execution_count": 28,
   "metadata": {},
   "outputs": [
    {
     "name": "stderr",
     "output_type": "stream",
     "text": [
      "Extracting Rice: 100%|██████████| 13/13 [00:00<00:00, 710.08it/s]"
     ]
    },
    {
     "name": "stdout",
     "output_type": "stream",
     "text": [
      "Wheat can be found in 2031 fields\n",
      "Mustard can be found in 990 fields\n",
      "Lentil can be found in 103 fields\n",
      "No Crop/Fallow can be found in 1641 fields\n",
      "Green pea can be found in 23 fields\n",
      "Sugarcane can be found in 163 fields\n",
      "Garlic can be found in 48 fields\n",
      "Maize can be found in 293 fields\n",
      "Gram can be found in 59 fields\n",
      "Coriander can be found in 14 fields\n",
      "Potato can be found in 41 fields\n",
      "Bersem can be found in 16 fields\n",
      "Rice can be found in 129 fields\n"
     ]
    },
    {
     "name": "stderr",
     "output_type": "stream",
     "text": [
      "\n"
     ]
    }
   ],
   "source": [
    "overlapping_crops_in_field_ids = get_overlapping_crops_in_field_ids(crop_labels_per_field_ids)\n",
    "\n",
    "crop_counts_field = {crop: len(chips) for crop, chips in overlapping_crops_in_field_ids.items()}\n",
    "\n",
    "for crop, count in crop_counts_field.items():\n",
    "    print(f\"{crop} can be found in {count} fields\")"
   ]
  },
  {
   "cell_type": "markdown",
   "metadata": {},
   "source": [
    "### What is the crop distribution per pixels?"
   ]
  },
  {
   "cell_type": "code",
   "execution_count": 29,
   "metadata": {},
   "outputs": [],
   "source": [
    "def get_num_pixels_per_crops_in_each_chip(collection, folder_ids):\n",
    "\n",
    "    num_pixels_per_field_ids = defaultdict(lambda: {})\n",
    "\n",
    "    pbar = tqdm(folder_ids)\n",
    "    pbar.set_description(f'Extracting {collection}',)\n",
    "\n",
    "    for idx in pbar:\n",
    "\n",
    "        with rasterio.open(f'{data_dir}/{main}/{collection}/{collection}_{idx}/raster_labels.tif') as src:\n",
    "            label_data = src.read()[0]\n",
    "\n",
    "        for crop in crops.keys():\n",
    "            num_pixels_per_field_ids[idx][crops[crop]] = len(label_data[label_data == int(crop)])\n",
    "\n",
    "    return num_pixels_per_field_ids"
   ]
  },
  {
   "cell_type": "code",
   "execution_count": 30,
   "metadata": {},
   "outputs": [
    {
     "name": "stderr",
     "output_type": "stream",
     "text": [
      "Extracting ref_agrifieldnet_competition_v1_labels_train: 100%|██████████| 1165/1165 [00:03<00:00, 377.03it/s]\n"
     ]
    }
   ],
   "source": [
    "num_pixels_per_field_ids = get_num_pixels_per_crops_in_each_chip(train_label_collection, train_folder_ids)"
   ]
  },
  {
   "cell_type": "code",
   "execution_count": 31,
   "metadata": {},
   "outputs": [
    {
     "name": "stdout",
     "output_type": "stream",
     "text": [
      "'Wheat' can be found in 75118 pixels\n",
      "'Mustard' can be found in 46818 pixels\n",
      "'Lentil' can be found in 2883 pixels\n",
      "'No Crop/Fallow' can be found in 36397 pixels\n",
      "'Green pea' can be found in 531 pixels\n",
      "'Sugarcane' can be found in 5820 pixels\n",
      "'Garlic' can be found in 3150 pixels\n",
      "'Maize' can be found in 8773 pixels\n",
      "'Gram' can be found in 3503 pixels\n",
      "'Coriander' can be found in 678 pixels\n",
      "'Potato' can be found in 886 pixels\n",
      "'Bersem' can be found in 261 pixels\n",
      "'Rice' can be found in 3410 pixels\n"
     ]
    }
   ],
   "source": [
    "pixel_dist = np.asarray([list(num_pixels_per_field_ids[idx].values())  for idx in num_pixels_per_field_ids.keys()]).sum(axis=0)\n",
    "\n",
    "for i in range(len(crops.keys())):\n",
    "    print(f\"'{crops[list(crops.keys())[i]]}' can be found in {pixel_dist[i]} pixels\")"
   ]
  },
  {
   "cell_type": "markdown",
   "metadata": {},
   "source": [
    "# Field Area"
   ]
  },
  {
   "cell_type": "code",
   "execution_count": 64,
   "metadata": {},
   "outputs": [],
   "source": [
    "import cv2\n",
    "import random\n",
    "from matplotlib import pyplot as plt\n",
    "\n",
    "def get_fields_coordinates(overlapping_chips, collection):\n",
    "\n",
    "    areas_chips = defaultdict(lambda : {})\n",
    "\n",
    "    for fidx in overlapping_chips.keys():\n",
    "        for idx in overlapping_chips[fidx]:\n",
    "            with rasterio.open(f'{data_dir}/{main}/{collection}/{collection}_{idx}/field_ids.tif') as src:\n",
    "                field_data = src.read()[0]\n",
    "\n",
    "            # bands_src = [rasterio.open(f'{data_dir}/{main}/{source_collection}/{source_collection}_{idx}/{band}.tif') for band in [\"B02\", \"B03\", \"B04\"]]\n",
    "            # bands_array = [band.read(1) for band in bands_src]\n",
    "            # bands = np.stack(bands_array, axis=-1)\n",
    "                \n",
    "            contours = cv2.findContours(np.where(field_data == fidx, 1, 0).astype(np.uint8), cv2.RETR_EXTERNAL, cv2.CHAIN_APPROX_SIMPLE)\n",
    "                \n",
    "            contours = contours[0] if len(contours) == 2 else contours[1]\n",
    "            # print(len(contours))\n",
    "            for cntr in contours:\n",
    "                x, y, w, h = cv2.boundingRect(cntr)\n",
    "                areas_chips[idx][fidx] = (())\n",
    "                # cv2.rectangle(bands, (x, y), (x+w, y+h), (0, 0, 255), 2)\n",
    "                # plt.imshow(bands)\n",
    "                # print(\"x,y,w,h:\",x,y,w,h)\n",
    "\n",
    "    return areas_chips"
   ]
  },
  {
   "cell_type": "code",
   "execution_count": 65,
   "metadata": {},
   "outputs": [],
   "source": [
    "train_areas_fids = get_fields_coordinates(overlapping_train_chips, train_label_collection)\n",
    "test_areas_fids = get_fields_coordinates(overlapping_test_chips, test_label_collection)"
   ]
  },
  {
   "cell_type": "markdown",
   "metadata": {},
   "source": [
    "### What is the max, min and mean area of training and testing fields?"
   ]
  },
  {
   "cell_type": "markdown",
   "metadata": {},
   "source": [
    "#### Train areas"
   ]
  },
  {
   "cell_type": "code",
   "execution_count": 66,
   "metadata": {},
   "outputs": [
    {
     "name": "stdout",
     "output_type": "stream",
     "text": [
      "min:  1\n",
      "max:  2106\n",
      "mean  51.44862542955327\n"
     ]
    }
   ],
   "source": [
    "areas = [ w*h for fids in train_areas_fids.values() for x, y, w, h in fids.values()]\n",
    "print(\"min: \", min(areas))\n",
    "print(\"max: \", max(areas))\n",
    "print(\"mean \", sum(areas)/len(areas))"
   ]
  },
  {
   "cell_type": "markdown",
   "metadata": {},
   "source": [
    "#### Testing areas"
   ]
  },
  {
   "cell_type": "code",
   "execution_count": 67,
   "metadata": {},
   "outputs": [
    {
     "name": "stdout",
     "output_type": "stream",
     "text": [
      "min:  1\n",
      "max:  630\n",
      "mean  47.125778331257784\n"
     ]
    }
   ],
   "source": [
    "areas = [ w*h for fids in test_areas_fids.values() for x, y, w, h in fids.values()]\n",
    "print(\"min: \", min(areas))\n",
    "print(\"max: \", max(areas))\n",
    "print(\"mean \", sum(areas)/len(areas))"
   ]
  },
  {
   "cell_type": "markdown",
   "metadata": {},
   "source": [
    "\n",
    "### At what patch size does the training and testing field start to overlap?"
   ]
  },
  {
   "cell_type": "code",
   "execution_count": 72,
   "metadata": {},
   "outputs": [],
   "source": [
    "chips_intersection = list(set(train_field_ids_per_chip.keys()).intersection(set(test_field_ids_per_chip.keys())))"
   ]
  },
  {
   "cell_type": "code",
   "execution_count": 76,
   "metadata": {},
   "outputs": [
    {
     "name": "stdout",
     "output_type": "stream",
     "text": [
      "{4404: (14, 222, 2, 3), 4408: (12, 220, 3, 2)} {4405: (12, 221, 3, 4), 4407: (12, 218, 2, 2), 4409: (16, 222, 2, 3)}\n",
      "{3774: (59, 0, 1, 1)} {3778: (54, 0, 4, 2), 3779: (57, 0, 2, 1)}\n",
      "{7201: (191, 128, 7, 5), 7287: (139, 139, 13, 5), 7288: (146, 136, 6, 4), 7292: (158, 137, 3, 4)} {7203: (168, 123, 8, 7), 7289: (140, 135, 3, 6), 7290: (142, 135, 5, 6), 7291: (151, 136, 10, 6)}\n",
      "{3889: (236, 149, 5, 3), 4280: (238, 162, 4, 3)} {3795: (28, 113, 2, 1), 3796: (31, 110, 1, 1), 3797: (31, 111, 3, 3), 3798: (85, 38, 2, 6), 3799: (25, 110, 4, 3), 3800: (29, 110, 2, 3), 3884: (241, 152, 1, 1), 3885: (236, 154, 2, 2), 3886: (233, 150, 4, 4), 3887: (236, 151, 5, 3), 3888: (240, 150, 3, 2), 4024: (178, 161, 3, 4), 4278: (235, 156, 5, 4), 4279: (239, 159, 3, 4), 4281: (237, 164, 5, 3), 4282: (235, 159, 4, 4), 4470: (239, 156, 4, 2), 4471: (238, 153, 3, 3), 4730: (53, 75, 7, 6), 4731: (86, 38, 4, 6), 5135: (192, 184, 3, 4), 5136: (248, 146, 4, 4), 5137: (239, 147, 5, 3), 5138: (247, 153, 3, 2), 5139: (246, 149, 4, 4), 5140: (242, 151, 5, 3), 5141: (243, 147, 5, 3), 5153: (177, 184, 3, 4)}\n",
      "{3855: (137, 130, 4, 4), 4374: (124, 125, 5, 7), 4959: (143, 150, 5, 5), 4961: (141, 151, 5, 5)} {3856: (140, 138, 5, 5), 3857: (139, 143, 6, 3), 3858: (138, 136, 5, 3), 3859: (131, 131, 8, 11), 3860: (137, 134, 5, 2), 4305: (103, 140, 6, 8), 4373: (124, 131, 2, 5), 4375: (127, 127, 6, 5), 4376: (128, 132, 3, 5), 4377: (129, 122, 6, 7), 4378: (125, 131, 4, 6), 4960: (139, 148, 5, 5)}\n",
      "{3788: (105, 148, 3, 3)} {3789: (164, 117, 3, 5), 3790: (107, 199, 7, 5), 3791: (102, 156, 5, 7), 4357: (210, 225, 8, 8), 4358: (215, 160, 5, 3), 5119: (203, 142, 5, 5), 5120: (248, 152, 5, 3), 5121: (230, 153, 5, 6)}\n",
      "{3726: (207, 131, 3, 3), 3729: (239, 97, 11, 8), 3773: (217, 65, 3, 3)} {3727: (208, 126, 3, 2), 3728: (229, 94, 9, 6), 3730: (214, 128, 6, 4), 3967: (61, 2, 3, 3), 3970: (72, 29, 3, 4), 4330: (41, 11, 6, 7), 4331: (39, 0, 6, 6), 4332: (27, 0, 5, 5), 4576: (74, 27, 2, 3), 4577: (81, 26, 4, 3), 4578: (83, 29, 3, 2), 4579: (77, 23, 3, 3), 5162: (211, 37, 8, 13), 5241: (205, 81, 2, 5), 5242: (231, 71, 4, 4), 5243: (227, 74, 4, 5), 5244: (230, 76, 4, 4)}\n",
      "{1987: (206, 58, 6, 4)} {2913: (125, 23, 6, 4), 2914: (137, 22, 6, 6), 2915: (153, 42, 4, 6), 3317: (151, 7, 6, 5), 3318: (89, 18, 5, 3)}\n",
      "{6979: (194, 230, 4, 7)} {6976: (249, 230, 5, 4), 6980: (186, 246, 5, 7)}\n",
      "{7231: (156, 14, 9, 10), 7234: (223, 75, 7, 5)} {7226: (213, 108, 3, 3), 7232: (141, 40, 5, 13), 7233: (226, 60, 4, 5), 7235: (219, 63, 4, 6)}\n",
      "{119: (204, 248, 7, 5), 1105: (223, 241, 3, 4), 1617: (139, 164, 5, 4)} {118: (236, 164, 15, 8), 1107: (186, 163, 4, 5), 1493: (160, 235, 10, 18), 1615: (153, 183, 6, 5), 1616: (132, 232, 7, 12)}\n",
      "{4483: (102, 33, 4, 4)} {4482: (96, 27, 2, 2), 4484: (93, 31, 4, 3), 4485: (97, 29, 2, 1), 4486: (97, 30, 3, 4), 4487: (94, 28, 3, 3)}\n",
      "{345: (107, 167, 5, 5), 724: (80, 162, 5, 4)} {343: (101, 168, 4, 4), 344: (110, 164, 4, 5), 346: (105, 169, 6, 5), 347: (96, 171, 6, 6), 348: (100, 174, 7, 8), 416: (97, 149, 5, 5), 417: (88, 156, 5, 4), 418: (97, 135, 5, 5), 419: (105, 135, 4, 5), 722: (107, 136, 4, 5), 723: (81, 155, 6, 5), 760: (122, 147, 4, 3), 761: (119, 167, 6, 5), 851: (100, 133, 5, 5), 852: (98, 128, 6, 5), 853: (88, 135, 6, 6), 854: (93, 125, 5, 5), 855: (86, 126, 5, 9), 856: (101, 137, 4, 5), 1414: (105, 160, 4, 4), 1415: (114, 161, 5, 5), 1416: (107, 164, 4, 4), 1417: (104, 170, 5, 4), 1641: (113, 149, 7, 5), 1642: (115, 136, 4, 5), 1643: (122, 138, 5, 6), 1644: (116, 142, 8, 6), 1645: (123, 143, 5, 5), 1646: (115, 146, 7, 6)}\n",
      "{6880: (18, 54, 4, 6), 6939: (85, 41, 4, 5)} {6698: (71, 46, 4, 6), 6877: (24, 52, 6, 15), 6940: (64, 46, 6, 5), 6942: (74, 41, 12, 8)}\n",
      "{5654: (215, 143, 12, 20)} {5653: (190, 217, 5, 5), 5655: (218, 168, 14, 9), 5656: (222, 162, 10, 9), 5877: (168, 142, 11, 26), 5878: (184, 191, 6, 10), 6054: (88, 171, 14, 12), 6055: (203, 235, 7, 18), 6056: (200, 220, 8, 7), 6057: (197, 235, 7, 16)}\n",
      "{5463: (43, 51, 6, 5), 5743: (19, 103, 11, 13), 6014: (55, 203, 14, 16)} {5464: (46, 53, 5, 5), 5874: (41, 157, 8, 13), 5963: (112, 15, 4, 13), 5966: (13, 103, 10, 11), 6015: (49, 228, 11, 14)}\n",
      "{5705: (252, 251, 4, 5), 6162: (35, 164, 9, 3)} {5443: (59, 145, 8, 10), 5444: (67, 130, 7, 15), 5445: (49, 134, 14, 5), 5514: (33, 177, 8, 6), 5515: (32, 164, 4, 7), 5516: (36, 167, 8, 2), 5517: (43, 122, 12, 7), 5519: (46, 194, 5, 13), 5704: (167, 250, 12, 6), 5706: (247, 229, 9, 12), 6157: (62, 121, 13, 6), 6158: (44, 180, 8, 4), 6159: (36, 161, 7, 2), 6160: (35, 181, 7, 10), 6161: (33, 167, 10, 4)}\n",
      "{4792: (23, 33, 3, 4)} {3640: (156, 109, 7, 5), 3641: (199, 106, 2, 6), 3642: (153, 102, 4, 8), 4789: (24, 30, 3, 4), 4790: (24, 35, 5, 4), 4791: (26, 32, 2, 3)}\n",
      "{5622: (152, 236, 10, 13), 5623: (146, 230, 9, 10), 5625: (52, 90, 8, 15), 6100: (72, 253, 12, 3)} {5621: (153, 231, 11, 6), 5624: (34, 76, 22, 43), 6102: (84, 255, 1, 1)}\n",
      "{208: (0, 250, 3, 5)} {323: (0, 254, 3, 2), 1295: (43, 245, 3, 5), 1296: (31, 240, 5, 5), 1298: (40, 246, 2, 4), 1299: (35, 247, 3, 6)}\n",
      "{5638: (36, 156, 12, 10)} {5639: (35, 163, 13, 8), 5640: (7, 187, 6, 11), 5641: (25, 156, 4, 7)}\n",
      "{3359: (99, 249, 4, 3)} {1926: (75, 219, 4, 3), 1927: (71, 250, 3, 4), 1928: (82, 224, 4, 4), 1929: (75, 220, 5, 6), 1930: (81, 155, 3, 2), 3356: (92, 245, 4, 2), 3357: (93, 250, 6, 5), 3358: (91, 247, 5, 5), 3360: (95, 246, 5, 4), 3361: (100, 219, 7, 7)}\n",
      "{1265: (255, 253, 1, 3), 1267: (244, 231, 3, 3)} {781: (34, 71, 7, 9), 782: (6, 87, 15, 7), 1266: (201, 186, 7, 11)}\n",
      "{26: (142, 42, 9, 4), 29: (112, 40, 7, 4), 48: (166, 24, 4, 7)} {27: (158, 47, 2, 2), 28: (150, 45, 8, 4), 30: (108, 38, 6, 5), 47: (101, 24, 8, 3), 59: (155, 33, 8, 6), 530: (100, 25, 11, 6), 531: (93, 23, 8, 5)}\n",
      "{6217: (67, 205, 8, 10)} {6213: (73, 197, 7, 18), 6214: (70, 186, 25, 7), 6215: (66, 174, 24, 8), 6216: (52, 172, 15, 9)}\n",
      "{6574: (183, 149, 6, 6)} {6393: (187, 122, 6, 5), 6394: (165, 77, 7, 5), 6395: (186, 127, 7, 3), 6575: (186, 140, 4, 6), 6576: (197, 147, 9, 6)}\n",
      "{3949: (21, 102, 5, 6)} {3947: (18, 9, 11, 8), 3948: (0, 51, 1, 3), 3950: (0, 43, 2, 6), 3951: (9, 134, 6, 6)}\n",
      "{3286: (240, 148, 4, 4), 3595: (135, 208, 7, 7)} {1937: (244, 153, 6, 5), 1938: (250, 155, 3, 4), 1939: (253, 156, 3, 4), 2172: (153, 209, 9, 9), 2772: (181, 249, 9, 7), 2773: (186, 241, 14, 12), 2956: (26, 37, 4, 5), 2958: (29, 38, 5, 6), 3283: (238, 144, 3, 4), 3284: (242, 149, 5, 4), 3285: (240, 143, 5, 6), 3594: (138, 206, 7, 7)}\n",
      "{4878: (241, 139, 5, 6)} {3781: (252, 127, 4, 6), 3782: (244, 129, 4, 6), 3783: (248, 127, 6, 9), 4879: (245, 144, 8, 5), 4880: (251, 146, 5, 6)}\n",
      "{5274: (239, 19, 5, 9)} {5273: (243, 19, 7, 9)}\n",
      "{3233: (162, 218, 4, 4), 3235: (162, 186, 4, 4)} {2801: (251, 250, 4, 6), 2805: (243, 248, 7, 8), 3231: (76, 92, 5, 6), 3232: (134, 209, 4, 4), 3234: (129, 214, 4, 5)}\n",
      "{482: (250, 194, 4, 3), 483: (246, 191, 5, 5), 1629: (224, 219, 4, 4)} {481: (237, 204, 4, 3), 484: (253, 195, 3, 3), 485: (244, 204, 4, 3), 486: (241, 205, 4, 4), 1426: (226, 209, 1, 1), 1427: (224, 213, 3, 1), 1428: (228, 206, 4, 3), 1429: (227, 209, 4, 3), 1430: (224, 214, 2, 3), 1626: (222, 206, 3, 4), 1627: (224, 217, 3, 3), 1628: (223, 210, 2, 2)}\n",
      "{6358: (92, 148, 5, 2), 6359: (98, 143, 6, 4), 6534: (88, 153, 6, 4), 6539: (86, 182, 4, 5), 6581: (167, 81, 4, 4), 6701: (154, 89, 4, 5), 6732: (52, 207, 4, 5), 6737: (58, 178, 5, 6), 6787: (185, 77, 9, 9), 6789: (183, 43, 9, 6), 6860: (212, 59, 5, 6), 6876: (160, 70, 3, 3), 6878: (241, 96, 2, 4), 7319: (147, 240, 3, 7)} {6357: (87, 155, 6, 3), 6361: (96, 158, 6, 7), 6535: (97, 149, 3, 3), 6536: (82, 199, 6, 7), 6537: (94, 145, 4, 4), 6538: (88, 143, 6, 4), 6582: (214, 34, 5, 5), 6583: (180, 82, 6, 7), 6700: (227, 68, 4, 6), 6702: (167, 79, 4, 3), 6733: (52, 215, 3, 3), 6734: (42, 201, 6, 4), 6735: (52, 210, 3, 5), 6736: (55, 214, 3, 5), 6785: (191, 33, 5, 3), 6786: (183, 35, 4, 5), 6788: (188, 35, 8, 6), 6857: (205, 68, 6, 8), 6858: (133, 2, 5, 3), 6859: (215, 69, 4, 5), 6861: (135, 1, 3, 2), 6879: (164, 81, 4, 4), 6937: (166, 88, 5, 4), 6938: (169, 92, 6, 6), 6941: (173, 92, 7, 4), 6999: (157, 255, 1, 1), 7000: (155, 254, 2, 2), 7096: (43, 153, 6, 8), 7097: (39, 147, 6, 13), 7320: (151, 244, 3, 3), 7321: (147, 246, 3, 4), 7322: (151, 241, 3, 3), 7323: (150, 246, 3, 4), 7324: (148, 241, 3, 6)}\n",
      "{4920: (63, 125, 10, 6), 4921: (65, 119, 9, 6)} {3785: (41, 192, 3, 4), 3786: (34, 192, 7, 4), 3787: (43, 203, 2, 2), 3819: (43, 194, 4, 6), 3820: (48, 195, 3, 7), 3821: (39, 201, 4, 4), 3822: (88, 137, 7, 6), 4400: (41, 199, 3, 3), 4401: (45, 199, 4, 6), 4922: (61, 130, 9, 5), 4924: (70, 133, 7, 4), 5052: (35, 189, 4, 4), 5053: (32, 197, 6, 5), 5054: (42, 200, 4, 3), 5206: (71, 129, 8, 6), 5207: (65, 121, 9, 5), 5208: (62, 127, 9, 6), 5209: (64, 124, 9, 5)}\n",
      "{6563: (227, 188, 7, 6)} {6517: (83, 194, 13, 3), 6559: (245, 174, 9, 7), 6560: (226, 171, 11, 11), 6561: (236, 174, 8, 6), 6562: (254, 172, 2, 6), 6822: (65, 210, 13, 4)}\n",
      "{2510: (128, 127, 5, 4), 2515: (127, 133, 5, 5), 2830: (63, 50, 10, 10), 3079: (183, 228, 5, 5)} {1740: (132, 151, 5, 4), 1741: (106, 200, 8, 8), 1742: (131, 143, 5, 5), 1910: (191, 203, 8, 7), 2035: (140, 189, 6, 8), 2036: (119, 192, 10, 10), 2037: (171, 203, 6, 9), 2038: (181, 189, 5, 4), 2089: (189, 236, 5, 5), 2090: (193, 232, 4, 6), 2175: (30, 147, 6, 8), 2176: (25, 151, 6, 7), 2177: (24, 143, 6, 5), 2178: (49, 151, 4, 3), 2511: (183, 172, 5, 5), 2512: (137, 146, 7, 5), 2513: (175, 112, 7, 9), 2514: (127, 203, 5, 5), 2613: (140, 210, 5, 4), 2774: (87, 192, 9, 6), 2775: (102, 175, 5, 5), 2776: (154, 192, 6, 6), 2777: (44, 149, 6, 7), 2831: (13, 113, 7, 7), 2832: (57, 60, 8, 10), 2833: (39, 55, 6, 7), 2835: (84, 40, 11, 10), 3078: (141, 213, 10, 9), 3081: (1, 161, 10, 6), 3082: (27, 130, 7, 7), 3083: (0, 133, 10, 9), 3230: (183, 197, 5, 6), 3245: (113, 183, 9, 7), 3246: (120, 171, 4, 4), 3247: (102, 160, 8, 5), 3248: (122, 186, 4, 4), 3249: (110, 144, 7, 8), 3250: (162, 188, 9, 4), 3252: (130, 225, 6, 5), 3449: (218, 161, 8, 11), 3450: (247, 182, 6, 9)}\n",
      "{65: (6, 158, 5, 4)} {1262: (0, 159, 3, 4), 1263: (0, 166, 1, 2)}\n",
      "{6120: (69, 123, 19, 21)} {6121: (44, 132, 29, 15), 6122: (85, 128, 25, 15)}\n",
      "{4824: (95, 157, 18, 26)} {4823: (168, 255, 1, 1)}\n",
      "{4259: (78, 59, 1, 2), 4260: (76, 56, 3, 3), 4261: (75, 59, 3, 3)} {4262: (73, 55, 3, 2), 4263: (74, 57, 3, 3), 4962: (76, 53, 3, 2)}\n",
      "{4986: (112, 209, 5, 4), 5051: (147, 252, 4, 4)} {4984: (117, 196, 5, 3), 4985: (126, 190, 4, 6), 4987: (120, 193, 4, 5), 4988: (122, 196, 4, 4), 4989: (109, 208, 5, 5), 5029: (142, 206, 4, 5), 5030: (167, 93, 7, 5), 5050: (146, 255, 5, 1)}\n",
      "{5288: (235, 251, 15, 5), 5289: (231, 219, 2, 3), 5290: (233, 236, 17, 10), 5648: (234, 204, 7, 13), 5649: (231, 217, 18, 7)} {5291: (232, 241, 18, 7)}\n",
      "{6718: (244, 10, 3, 9), 6721: (252, 5, 3, 3), 7100: (183, 37, 6, 3)} {6720: (202, 12, 4, 9), 7098: (180, 52, 4, 10), 7099: (213, 32, 2, 5), 7101: (176, 43, 8, 5), 7103: (212, 37, 3, 10)}\n",
      "{7005: (152, 255, 3, 1)} {6331: (163, 140, 5, 5), 6332: (155, 139, 8, 6), 6333: (194, 202, 4, 4), 6334: (127, 207, 4, 4)}\n",
      "{5143: (84, 28, 7, 8), 5253: (112, 186, 3, 3), 5254: (110, 190, 3, 3)} {5142: (93, 31, 12, 8), 5251: (111, 190, 2, 2), 5252: (109, 191, 3, 3), 5255: (109, 193, 2, 3), 5256: (111, 187, 3, 3)}\n",
      "{2213: (37, 227, 5, 4), 2258: (245, 163, 9, 9)} {2211: (71, 255, 1, 1), 2212: (46, 146, 10, 9), 3002: (231, 129, 9, 9)}\n",
      "{1904: (57, 76, 4, 4)} {1905: (96, 94, 6, 5), 1906: (122, 113, 4, 6), 2950: (33, 96, 8, 7), 3037: (98, 102, 4, 5), 3038: (95, 100, 3, 5), 3039: (115, 106, 4, 5), 3105: (14, 104, 6, 7), 3106: (44, 61, 18, 10), 3107: (10, 92, 8, 10)}\n",
      "{501: (13, 34, 8, 6)} {319: (175, 15, 9, 7), 320: (172, 56, 13, 9), 500: (29, 38, 24, 10), 1656: (162, 19, 10, 6)}\n",
      "{7109: (34, 86, 6, 4)} {6422: (161, 87, 4, 4), 6423: (127, 32, 3, 4), 6425: (157, 86, 5, 5), 6711: (122, 27, 5, 3), 6712: (114, 3, 5, 4), 6713: (122, 30, 5, 4), 7104: (116, 5, 3, 2), 7105: (141, 53, 6, 5), 7106: (141, 49, 5, 4), 7107: (150, 60, 4, 5), 7108: (29, 98, 8, 4)}\n",
      "{758: (32, 61, 6, 9), 759: (27, 60, 8, 9)} {756: (40, 45, 4, 5), 757: (23, 43, 8, 6), 1372: (108, 247, 9, 9), 1374: (98, 255, 2, 1)}\n",
      "{4817: (80, 100, 5, 4), 5176: (78, 96, 5, 5)} {4102: (77, 99, 4, 4), 4103: (76, 102, 4, 4), 4816: (154, 86, 5, 5), 4818: (86, 100, 4, 5), 4820: (79, 103, 5, 4)}\n",
      "{5532: (79, 209, 6, 7), 6182: (69, 19, 6, 6), 6247: (93, 20, 4, 14), 6250: (70, 88, 6, 12)} {5531: (79, 166, 17, 16), 5533: (88, 210, 8, 5), 6185: (64, 0, 11, 2), 6245: (5, 16, 10, 8), 6246: (73, 86, 4, 4), 6248: (74, 78, 4, 4), 6249: (82, 78, 6, 10)}\n",
      "{11: (199, 149, 9, 16), 1434: (96, 4, 5, 5), 1438: (69, 65, 6, 8)} {10: (202, 187, 5, 6), 511: (166, 183, 7, 6), 1435: (60, 63, 9, 15), 1436: (59, 57, 5, 8), 1437: (66, 60, 7, 5)}\n",
      "{5508: (82, 189, 5, 6), 5509: (87, 207, 8, 6), 5995: (190, 255, 2, 1)} {5266: (229, 248, 11, 8), 5506: (79, 194, 10, 9), 5507: (79, 190, 4, 5), 5510: (93, 207, 7, 7), 5511: (81, 180, 7, 6), 5997: (186, 254, 5, 2)}\n",
      "{4115: (144, 15, 4, 3), 4741: (30, 67, 5, 5)} {3763: (141, 13, 4, 5), 3764: (143, 17, 3, 3), 4113: (139, 14, 3, 4), 4114: (149, 16, 3, 3), 4515: (104, 19, 13, 5), 4742: (29, 71, 4, 4)}\n",
      "{6449: (150, 108, 3, 3), 7163: (149, 96, 6, 4), 7263: (217, 34, 9, 8), 7264: (152, 106, 7, 3)} {6450: (152, 107, 4, 4), 6451: (146, 93, 4, 5), 7164: (142, 98, 7, 10), 7265: (228, 32, 6, 7)}\n",
      "{2651: (145, 243, 8, 9)} {2595: (195, 248, 5, 5)}\n",
      "{2504: (174, 124, 5, 5)} {2101: (180, 126, 6, 7), 2102: (155, 72, 10, 8), 2103: (159, 69, 7, 7), 2104: (169, 133, 4, 5), 2502: (177, 126, 5, 5), 2503: (161, 138, 7, 7), 2505: (178, 124, 5, 5)}\n",
      "{6356: (149, 200, 11, 5), 6485: (136, 203, 14, 8)} {6354: (123, 178, 6, 17), 6355: (158, 209, 6, 12), 6969: (26, 120, 5, 5)}\n",
      "{5703: (13, 40, 10, 5), 6259: (0, 83, 18, 9), 6264: (0, 19, 2, 5)} {5698: (0, 42, 7, 5), 5699: (14, 24, 12, 15), 5700: (13, 44, 10, 5), 5701: (14, 47, 10, 4), 5702: (9, 40, 5, 8), 5893: (53, 0, 15, 10), 5897: (53, 0, 8, 3), 6257: (0, 87, 16, 9), 6258: (0, 91, 6, 5), 6260: (20, 73, 5, 4), 6261: (1, 77, 24, 8), 6262: (10, 72, 10, 6)}\n",
      "{381: (221, 112, 5, 7)} {357: (176, 121, 5, 5), 379: (185, 159, 5, 11), 382: (219, 162, 8, 17), 397: (189, 129, 4, 6), 398: (200, 94, 5, 4), 399: (182, 130, 4, 3), 1288: (210, 153, 3, 6), 1289: (254, 150, 2, 4)}\n",
      "{44: (121, 0, 9, 7)} {45: (116, 0, 3, 2), 46: (72, 21, 8, 6), 107: (67, 9, 9, 9), 110: (76, 20, 6, 5)}\n",
      "{5952: (181, 0, 8, 12)} {5950: (185, 0, 8, 13), 5951: (189, 9, 8, 5), 5953: (179, 0, 5, 10), 5954: (174, 0, 6, 9), 5955: (189, 13, 7, 7)}\n",
      "{2982: (198, 103, 8, 11), 3276: (80, 90, 7, 9), 3602: (205, 108, 4, 4)} {1911: (165, 65, 6, 4), 1912: (180, 75, 6, 7), 1913: (180, 81, 8, 9), 2237: (101, 106, 9, 8), 2238: (71, 40, 5, 5), 2753: (238, 57, 7, 6), 2754: (214, 133, 3, 4), 2983: (210, 93, 10, 12), 3275: (98, 97, 7, 8), 3277: (106, 124, 7, 7), 3603: (218, 111, 6, 6), 3604: (220, 136, 11, 10)}\n",
      "{7299: (42, 99, 6, 10), 7329: (31, 103, 7, 3), 7330: (28, 107, 4, 5)} {7298: (34, 89, 16, 12), 7328: (12, 85, 4, 6), 7331: (25, 81, 4, 8)}\n",
      "{7197: (237, 250, 7, 3)} {6397: (221, 227, 4, 8), 6844: (59, 232, 10, 7)}\n",
      "{4496: (95, 3, 3, 3)} {4495: (97, 1, 4, 5), 4497: (90, 0, 3, 3), 4498: (93, 3, 2, 4), 4499: (98, 0, 4, 2), 4500: (89, 2, 4, 5), 5237: (108, 65, 3, 3), 5238: (104, 61, 6, 4), 5239: (78, 118, 6, 5)}\n",
      "{208: (253, 249, 3, 6), 209: (218, 198, 5, 3), 321: (222, 159, 8, 9), 1297: (238, 241, 8, 6)} {206: (204, 227, 7, 5), 207: (241, 230, 6, 8), 322: (213, 192, 3, 4), 422: (221, 164, 9, 7), 960: (142, 244, 5, 4), 961: (159, 246, 6, 6), 962: (157, 236, 3, 4), 963: (120, 215, 6, 7), 964: (112, 210, 3, 4), 965: (164, 252, 3, 4)}\n",
      "{3101: (79, 120, 5, 4)} {2428: (74, 125, 5, 6), 3098: (82, 122, 4, 4), 3099: (81, 121, 4, 4), 3100: (59, 80, 4, 3)}\n",
      "{2542: (235, 107, 9, 3)} {2361: (221, 0, 6, 10), 2363: (196, 67, 8, 9), 2543: (207, 60, 4, 5), 2544: (213, 53, 9, 9)}\n",
      "{5418: (151, 211, 7, 9), 5583: (145, 236, 10, 16), 5595: (128, 191, 7, 11), 5943: (175, 177, 10, 7), 5944: (177, 183, 9, 8), 6030: (229, 167, 3, 6), 6032: (232, 166, 6, 6), 6033: (218, 170, 5, 4)} {5417: (139, 240, 3, 11), 5419: (145, 226, 8, 5), 5420: (149, 219, 8, 9), 5421: (145, 210, 8, 11), 5422: (148, 228, 1, 1), 5489: (208, 203, 6, 5), 5490: (150, 210, 7, 9), 5491: (214, 203, 8, 5), 5492: (160, 211, 3, 6), 5493: (155, 213, 4, 6), 5580: (141, 218, 5, 6), 5581: (140, 234, 8, 17), 5582: (146, 222, 6, 6), 5584: (147, 219, 3, 4), 5591: (138, 204, 7, 11), 5592: (158, 193, 8, 8), 5593: (198, 221, 7, 2), 5594: (80, 64, 4, 16), 5596: (199, 216, 13, 3), 5945: (176, 180, 10, 7), 6031: (224, 168, 6, 5), 6034: (236, 165, 9, 6), 6127: (121, 21, 6, 4), 6128: (119, 14, 5, 7), 6129: (126, 21, 8, 5), 6130: (98, 66, 7, 9), 6286: (190, 211, 5, 3), 6287: (83, 0, 2, 1), 6288: (65, 47, 12, 7)}\n",
      "{2018: (91, 159, 17, 13)} {2077: (166, 67, 6, 8), 2154: (182, 72, 7, 8), 2155: (181, 66, 5, 8), 2599: (79, 151, 6, 5), 2848: (60, 139, 6, 10), 2849: (58, 139, 6, 9), 3419: (239, 41, 8, 8)}\n",
      "{2867: (19, 102, 5, 4)} {2170: (96, 84, 9, 9), 2171: (108, 142, 8, 5), 2864: (8, 129, 7, 6), 3057: (44, 83, 7, 9), 3490: (38, 167, 9, 6)}\n",
      "{5636: (48, 250, 5, 6)} {5635: (44, 244, 4, 10), 5637: (46, 246, 5, 6), 5918: (41, 247, 3, 6), 5919: (29, 249, 7, 6), 5920: (34, 248, 8, 4)}\n",
      "{6126: (189, 111, 8, 8)} {5276: (152, 250, 8, 3), 5277: (151, 245, 8, 6), 5628: (136, 190, 9, 8), 5629: (101, 97, 6, 5), 5630: (98, 98, 4, 9), 5709: (214, 130, 4, 7), 5715: (94, 174, 14, 17), 5716: (103, 58, 7, 6), 5729: (164, 58, 4, 3), 5730: (140, 10, 3, 12), 5731: (138, 26, 7, 4), 5732: (166, 52, 3, 7), 6125: (219, 62, 3, 7), 6166: (158, 142, 9, 7), 6167: (147, 221, 7, 7), 6177: (178, 77, 39, 54), 6203: (158, 244, 4, 4), 6204: (151, 239, 7, 7)}\n",
      "{5297: (1, 141, 6, 11), 5408: (156, 74, 10, 14)} {5292: (0, 109, 3, 12), 5293: (0, 104, 5, 6), 5294: (0, 121, 4, 10), 5295: (0, 131, 5, 12), 5410: (151, 73, 9, 14)}\n",
      "{3774: (59, 255, 2, 1), 3835: (118, 181, 4, 6), 4018: (28, 240, 3, 3), 4512: (51, 247, 2, 2)} {3775: (59, 254, 2, 2), 3776: (55, 251, 4, 4), 3777: (28, 241, 5, 5), 3778: (55, 255, 2, 1), 3779: (57, 255, 2, 1), 3830: (114, 176, 2, 5), 3831: (116, 177, 3, 4), 3833: (114, 181, 4, 5), 3834: (116, 181, 4, 3), 4015: (24, 238, 5, 5), 4016: (23, 244, 4, 2), 4017: (27, 241, 3, 3), 4510: (50, 248, 4, 3), 4511: (51, 246, 5, 5), 4513: (49, 250, 4, 4)}\n",
      "{6442: (178, 157, 7, 6), 6695: (254, 69, 2, 5), 6703: (129, 200, 4, 3), 6704: (131, 210, 4, 3)} {6443: (174, 160, 6, 6), 6444: (178, 162, 4, 4), 6445: (171, 162, 6, 7), 6446: (190, 152, 7, 7), 6948: (180, 152, 6, 5)}\n",
      "{6434: (109, 141, 6, 4), 6435: (100, 139, 10, 5), 6922: (91, 230, 9, 4), 6923: (64, 218, 5, 4)} {6436: (121, 133, 5, 4), 6920: (56, 218, 9, 5), 6921: (64, 220, 5, 4), 7143: (102, 216, 6, 4), 7145: (80, 231, 8, 3), 7248: (97, 251, 4, 3), 7250: (96, 215, 6, 5)}\n",
      "{3861: (87, 59, 2, 3), 3862: (84, 56, 4, 4), 4302: (77, 30, 9, 14), 4303: (96, 24, 5, 3), 4366: (99, 21, 3, 2), 4367: (99, 18, 5, 4), 4369: (101, 22, 3, 4), 4370: (97, 21, 5, 4), 4609: (84, 61, 5, 10), 4662: (90, 66, 3, 4)} {4299: (86, 9, 9, 16), 4301: (98, 19, 6, 3), 4307: (194, 249, 4, 4), 4368: (99, 15, 5, 4), 4608: (85, 58, 4, 5), 4658: (90, 64, 4, 2), 4659: (92, 69, 2, 3), 4660: (94, 69, 3, 3), 4661: (91, 65, 5, 5), 4663: (87, 67, 4, 4), 4941: (106, 14, 5, 6), 4942: (102, 10, 5, 7), 5037: (95, 71, 7, 3), 5038: (96, 64, 5, 7), 5039: (86, 70, 8, 8), 5151: (230, 60, 20, 17)}\n",
      "{6421: (86, 84, 5, 6)} {6418: (82, 85, 4, 2), 6419: (82, 86, 6, 4), 6420: (86, 84, 6, 4)}\n",
      "{6643: (2, 189, 3, 3), 6646: (68, 198, 4, 3), 6648: (69, 90, 2, 5), 7061: (67, 193, 4, 5), 7126: (29, 78, 4, 5)} {6645: (66, 90, 3, 4), 6647: (62, 108, 5, 2), 6837: (30, 74, 5, 5), 7058: (112, 192, 4, 12), 7060: (7, 191, 3, 2), 7127: (8, 72, 3, 4), 7128: (12, 83, 10, 7), 7129: (25, 72, 5, 7), 7189: (5, 118, 3, 4)}\n",
      "{5616: (231, 79, 5, 6), 5619: (235, 80, 6, 5)} {5617: (241, 80, 6, 6), 5618: (231, 84, 8, 8), 5620: (239, 84, 8, 7)}\n",
      "{3871: (106, 28, 3, 4), 3872: (108, 30, 4, 3), 5096: (114, 33, 3, 4), 5097: (115, 37, 5, 3), 5098: (116, 34, 3, 3), 5099: (111, 37, 3, 3)} {3873: (103, 27, 3, 3), 3874: (111, 30, 5, 3), 5100: (113, 36, 4, 4), 5101: (115, 39, 4, 2)}\n",
      "{6200: (246, 196, 10, 10)} {5798: (94, 64, 11, 19), 6198: (253, 200, 3, 10), 6211: (86, 19, 7, 22), 6212: (90, 23, 11, 18)}\n",
      "{7207: (197, 244, 7, 5), 7210: (204, 239, 4, 4), 7211: (200, 242, 5, 4)} {7209: (201, 241, 4, 4)}\n",
      "{2406: (233, 51, 10, 6), 3018: (125, 70, 7, 5), 3147: (179, 171, 6, 5)} {2477: (218, 139, 5, 4), 2478: (203, 163, 6, 6), 2479: (219, 154, 5, 4), 2480: (217, 142, 4, 4), 2569: (238, 223, 5, 3), 2570: (234, 224, 5, 4), 2571: (242, 225, 4, 5), 2572: (250, 150, 4, 5), 2573: (243, 222, 5, 4), 2574: (242, 219, 4, 5), 2695: (248, 117, 7, 9), 2699: (243, 29, 10, 8), 2840: (23, 139, 7, 6), 2955: (16, 219, 2, 2), 2957: (2, 197, 4, 5), 3016: (127, 68, 7, 4), 3017: (126, 69, 7, 6), 3019: (125, 55, 9, 7), 3020: (124, 72, 7, 5), 3108: (238, 38, 7, 6), 3111: (248, 51, 5, 3), 3112: (243, 43, 5, 6), 3146: (177, 165, 7, 7), 3148: (181, 168, 6, 6), 3149: (112, 64, 5, 7), 3150: (112, 60, 4, 4)}\n",
      "{6820: (183, 199, 7, 5), 6958: (245, 206, 5, 2), 7158: (205, 180, 7, 8)} {6818: (170, 182, 5, 7), 6819: (145, 195, 8, 6), 6957: (170, 178, 7, 5), 6959: (252, 156, 4, 3), 7157: (207, 199, 7, 8)}\n",
      "{2974: (241, 33, 3, 4)} {2469: (250, 38, 6, 6), 2971: (247, 0, 6, 3), 2972: (253, 30, 3, 4), 2973: (235, 34, 5, 5)}\n",
      "{823: (166, 20, 3, 4), 1581: (250, 143, 3, 3)} {330: (148, 185, 8, 6), 331: (128, 189, 7, 5), 655: (141, 82, 6, 6), 702: (107, 52, 4, 6), 703: (188, 0, 12, 12), 704: (150, 28, 3, 4), 705: (138, 0, 8, 5), 706: (101, 62, 6, 12), 824: (175, 4, 6, 5), 825: (160, 66, 3, 4), 826: (165, 100, 3, 3), 827: (168, 99, 4, 5), 828: (172, 99, 4, 4), 1580: (249, 140, 3, 4), 1583: (254, 144, 2, 3)}\n",
      "{6501: (255, 51, 1, 5), 6503: (228, 69, 6, 4)} {6502: (249, 54, 7, 4), 6504: (239, 60, 9, 3), 7308: (252, 115, 4, 5)}\n",
      "{4116: (126, 42, 2, 2), 4117: (128, 43, 3, 4), 4118: (128, 38, 2, 2), 4121: (128, 40, 3, 3), 4325: (122, 44, 3, 4), 4326: (124, 43, 3, 4), 4943: (120, 114, 2, 2), 4947: (122, 106, 2, 5)} {4119: (126, 43, 4, 5), 4120: (126, 39, 3, 3), 4944: (121, 112, 1, 2), 4945: (122, 109, 2, 2), 4946: (122, 111, 2, 3), 4948: (121, 114, 2, 2)}\n",
      "{6477: (156, 72, 5, 5), 6603: (140, 115, 7, 5), 6742: (157, 70, 6, 4), 6871: (222, 95, 6, 6), 6874: (203, 96, 6, 5), 6927: (149, 152, 6, 4), 6929: (152, 151, 3, 3), 6930: (160, 153, 6, 4)} {6476: (162, 67, 7, 7), 6604: (145, 117, 9, 4), 6741: (163, 86, 8, 7), 6743: (162, 93, 8, 5), 6931: (160, 156, 7, 8), 6977: (200, 22, 10, 9), 6978: (204, 5, 6, 5)}\n",
      "{1221: (234, 183, 7, 6)} {1220: (222, 165, 4, 4), 1222: (227, 199, 8, 9)}\n",
      "{1280: (159, 255, 2, 1)} {796: (253, 248, 3, 7), 797: (250, 246, 4, 4), 1279: (111, 202, 8, 8), 1281: (121, 179, 9, 7), 1379: (186, 159, 8, 13), 1464: (63, 254, 4, 2), 1674: (38, 254, 4, 2)}\n",
      "{3521: (146, 14, 8, 5)} {1841: (148, 149, 9, 12), 1898: (214, 115, 9, 9), 3522: (132, 59, 6, 4), 3523: (181, 195, 6, 5)}\n",
      "{1771: (162, 182, 8, 7), 2140: (240, 91, 5, 5), 2577: (145, 94, 16, 16), 2580: (198, 152, 4, 4), 2619: (209, 108, 9, 8), 2620: (163, 94, 4, 5), 2622: (229, 142, 6, 7), 2623: (159, 89, 6, 5), 3136: (157, 189, 6, 7), 3137: (235, 145, 3, 3), 3496: (219, 0, 4, 2), 3498: (223, 0, 4, 4)} {1769: (170, 189, 8, 6), 1770: (169, 191, 8, 6), 1772: (158, 190, 7, 8), 1868: (202, 0, 4, 2), 1971: (207, 147, 12, 6), 1972: (206, 149, 12, 8), 2135: (242, 92, 5, 5), 2138: (238, 94, 6, 6), 2578: (201, 153, 4, 5), 2579: (139, 108, 11, 12), 2618: (162, 205, 7, 8), 2621: (228, 145, 7, 6), 3132: (229, 152, 6, 5), 3133: (219, 158, 3, 5), 3134: (161, 185, 4, 4), 3135: (163, 187, 5, 3), 3199: (224, 92, 4, 4), 3200: (222, 94, 4, 4)}\n",
      "{2416: (54, 233, 4, 6), 2420: (58, 229, 7, 7), 2902: (98, 143, 4, 5)} {2415: (54, 230, 5, 5), 2417: (44, 242, 7, 6), 2418: (53, 223, 6, 7), 2419: (65, 223, 7, 12), 2900: (97, 139, 7, 6), 2901: (99, 143, 8, 8)}\n",
      "{3570: (58, 78, 4, 4)} {3571: (62, 75, 3, 4), 3572: (54, 79, 8, 6), 3573: (59, 78, 5, 5), 3574: (63, 79, 5, 3), 3575: (64, 76, 6, 5)}\n",
      "{1779: (112, 128, 10, 9), 1784: (114, 126, 10, 8), 3183: (183, 190, 8, 12), 3417: (121, 121, 4, 4)} {1780: (99, 131, 10, 10), 1781: (190, 96, 13, 10), 1782: (123, 122, 8, 8), 1783: (85, 156, 10, 11), 2072: (217, 43, 5, 9), 2164: (88, 0, 4, 3), 2260: (79, 136, 14, 11), 2963: (218, 66, 13, 8), 2964: (206, 23, 4, 7), 3184: (212, 40, 6, 9), 3416: (108, 122, 7, 9)}\n",
      "{340: (98, 230, 6, 6)} {337: (98, 227, 7, 4), 338: (115, 243, 6, 3), 339: (96, 229, 4, 5), 1087: (137, 249, 5, 6), 1088: (118, 248, 7, 3), 1405: (122, 243, 4, 3), 1406: (142, 251, 6, 5), 1407: (110, 229, 4, 2)}\n",
      "{3518: (14, 118, 9, 8)} {2136: (4, 76, 5, 5), 2137: (56, 33, 8, 7), 2139: (26, 52, 6, 6), 3519: (59, 37, 8, 6), 3520: (61, 40, 8, 7)}\n",
      "{162: (26, 228, 4, 7)} {163: (18, 213, 14, 8), 862: (62, 195, 6, 4), 863: (6, 209, 8, 5), 865: (28, 222, 4, 8), 1524: (101, 61, 22, 11)}\n",
      "{6309: (245, 227, 3, 9), 6310: (243, 242, 7, 3), 6311: (248, 231, 4, 5), 6314: (243, 239, 5, 4)} {6312: (242, 244, 8, 6), 6313: (247, 227, 5, 5), 6340: (185, 0, 5, 4), 6341: (127, 4, 19, 9), 6862: (191, 237, 7, 13), 6995: (232, 250, 5, 6)}\n",
      "{1109: (125, 84, 4, 3)} {117: (194, 13, 10, 6), 1106: (247, 12, 5, 5), 1110: (119, 65, 15, 5), 1494: (155, 100, 9, 23)}\n",
      "{4365: (173, 154, 14, 12)} {3847: (174, 108, 5, 4), 3848: (171, 109, 4, 4), 3849: (171, 109, 3, 3), 4534: (180, 165, 16, 19), 5245: (180, 144, 12, 11)}\n",
      "{2127: (214, 45, 10, 6), 2278: (125, 0, 7, 10)} {2128: (219, 72, 9, 2), 2129: (247, 5, 8, 8), 2277: (201, 9, 3, 10), 2642: (215, 76, 9, 8), 2643: (251, 72, 4, 6), 2644: (209, 73, 8, 8)}\n",
      "{5473: (75, 226, 8, 6)} {5550: (53, 226, 8, 6), 5866: (82, 208, 7, 7), 5867: (130, 173, 10, 9)}\n",
      "{168: (68, 210, 5, 4), 882: (38, 255, 1, 1)} {243: (15, 214, 4, 4), 914: (64, 189, 3, 4), 915: (0, 222, 6, 8)}\n",
      "{4759: (231, 111, 4, 6)} {4757: (228, 112, 4, 5), 4758: (234, 111, 5, 5)}\n",
      "{4150: (121, 124, 4, 6), 4154: (132, 125, 11, 5), 4155: (129, 114, 4, 5)} {4151: (125, 112, 4, 5), 4156: (146, 127, 3, 4), 4158: (116, 131, 7, 4), 4159: (88, 125, 14, 8), 4160: (93, 131, 7, 9)}\n",
      "{457: (196, 79, 5, 8), 460: (195, 107, 8, 6)} {456: (201, 84, 6, 6), 458: (201, 80, 5, 4), 459: (203, 77, 4, 4), 1329: (255, 27, 1, 3)}\n",
      "{341: (189, 158, 26, 13), 882: (37, 0, 5, 4), 883: (41, 1, 7, 6), 1564: (215, 159, 4, 3)} {578: (11, 249, 5, 7), 580: (29, 201, 11, 6), 640: (250, 203, 4, 2), 641: (208, 156, 3, 3), 642: (218, 160, 6, 3), 663: (18, 49, 6, 7), 664: (0, 65, 11, 7), 890: (249, 202, 1, 1), 893: (210, 157, 4, 3), 894: (216, 158, 1, 3), 912: (50, 15, 16, 9), 1489: (181, 213, 6, 7), 1563: (212, 158, 4, 4), 1567: (249, 201, 7, 3), 1571: (32, 156, 10, 6), 1572: (34, 211, 7, 6)}\n",
      "{6755: (173, 200, 5, 4), 6756: (179, 189, 4, 8), 6776: (128, 169, 5, 4), 7018: (28, 240, 8, 5), 7019: (31, 234, 5, 7), 7020: (14, 232, 5, 5), 7021: (22, 239, 7, 5)} {6774: (129, 162, 5, 8), 6775: (147, 164, 5, 5), 7022: (18, 234, 11, 7), 7023: (17, 230, 9, 7)}\n",
      "{857: (57, 149, 6, 7), 1167: (22, 251, 4, 5)} {455: (73, 193, 13, 8), 858: (134, 134, 10, 7)}\n",
      "{6137: (98, 182, 12, 15), 6140: (93, 185, 8, 3), 6141: (94, 182, 8, 5)} {5283: (220, 150, 5, 5), 5285: (89, 79, 9, 7), 6012: (154, 45, 8, 13), 6013: (159, 46, 10, 15), 6138: (215, 44, 6, 6), 6139: (209, 42, 7, 7), 6142: (211, 33, 15, 12)}\n",
      "{626: (131, 201, 4, 5), 971: (80, 99, 25, 12)} {624: (141, 199, 4, 4), 625: (136, 204, 7, 4), 627: (143, 206, 6, 4), 763: (98, 5, 4, 5), 935: (144, 152, 6, 7), 936: (114, 231, 4, 4), 937: (105, 234, 5, 9), 967: (103, 132, 4, 4), 968: (87, 189, 12, 8), 969: (175, 145, 9, 9), 970: (171, 149, 4, 4), 972: (101, 233, 5, 5), 1488: (169, 158, 7, 4)}\n",
      "{2242: (118, 72, 8, 7), 2290: (42, 77, 5, 5), 2862: (34, 0, 2, 1), 3003: (28, 135, 7, 7)} {2239: (41, 26, 6, 5), 2240: (58, 81, 5, 6), 2241: (85, 85, 7, 6), 2291: (41, 20, 6, 6), 2292: (48, 93, 9, 9), 2770: (98, 161, 4, 5), 2863: (25, 76, 7, 6), 3004: (30, 96, 8, 9), 3392: (68, 147, 13, 13), 3393: (92, 163, 7, 8), 3394: (69, 142, 5, 5)}\n",
      "{6154: (70, 167, 6, 7)} {5451: (60, 205, 8, 11), 5748: (58, 215, 8, 9), 5749: (82, 207, 6, 18), 6151: (69, 147, 8, 19), 6155: (61, 179, 9, 7)}\n",
      "{5705: (0, 0, 8, 8)} {5668: (2, 30, 11, 12), 5670: (9, 47, 14, 14)}\n",
      "{6136: (160, 18, 9, 12)} {5865: (221, 43, 18, 11)}\n",
      "{5218: (184, 50, 4, 3), 5219: (185, 48, 3, 3)} {4386: (194, 54, 3, 3), 4387: (190, 50, 5, 6), 4388: (187, 50, 3, 4)}\n",
      "{716: (205, 143, 4, 3)} {602: (225, 147, 3, 3), 604: (228, 147, 4, 4)}\n",
      "{6685: (189, 70, 4, 4), 6686: (194, 70, 3, 4), 6688: (192, 68, 3, 3)} {6683: (192, 70, 3, 5), 6684: (188, 68, 5, 3), 6687: (194, 69, 5, 3), 7171: (203, 61, 5, 4), 7172: (204, 63, 3, 3), 7173: (200, 61, 4, 5), 7174: (202, 66, 5, 7), 7175: (199, 65, 4, 6)}\n",
      "{5505: (86, 38, 10, 10)} {5503: (132, 0, 15, 13), 5504: (67, 41, 12, 10)}\n",
      "{5240: (184, 105, 10, 7)} {4108: (25, 207, 5, 7)}\n",
      "{7079: (254, 21, 2, 3), 7114: (8, 150, 7, 9)} {7078: (252, 16, 4, 4), 7080: (253, 19, 3, 3), 7094: (59, 185, 6, 6), 7095: (62, 186, 4, 5), 7110: (8, 201, 4, 4), 7111: (9, 197, 4, 4), 7112: (0, 152, 5, 8), 7113: (4, 154, 5, 4), 7115: (5, 149, 3, 5)}\n",
      "{1412: (219, 225, 6, 4)} {1084: (254, 118, 2, 5), 1408: (223, 222, 3, 3), 1409: (213, 224, 4, 4), 1410: (224, 225, 4, 4), 1411: (225, 228, 5, 5), 1413: (216, 220, 3, 4)}\n",
      "{5898: (72, 104, 16, 6), 5899: (53, 156, 13, 10), 5900: (85, 112, 10, 12), 5901: (91, 158, 20, 13)} {5902: (214, 98, 9, 7)}\n",
      "{250: (251, 179, 5, 6)} {1605: (255, 178, 1, 2)}\n",
      "{3295: (28, 17, 5, 7)} {3296: (36, 20, 8, 9)}\n",
      "{3836: (35, 24, 9, 7), 3838: (53, 14, 3, 11), 4089: (85, 0, 3, 13)} {3837: (13, 11, 18, 7), 4088: (82, 13, 5, 29), 4919: (16, 0, 4, 7)}\n",
      "{2883: (161, 250, 7, 6), 2949: (131, 69, 8, 8)} {1785: (57, 173, 9, 10), 1787: (117, 148, 7, 6), 1788: (60, 168, 7, 6), 1790: (93, 170, 7, 6), 2640: (2, 41, 6, 5), 2806: (74, 26, 5, 6), 2808: (86, 39, 7, 6), 2813: (29, 189, 6, 3), 2948: (126, 50, 6, 5), 3114: (57, 214, 5, 3), 3569: (44, 214, 6, 10), 3606: (15, 0, 2, 1)}\n",
      "{4760: (159, 199, 4, 6)} {4096: (170, 200, 5, 3), 4097: (169, 205, 6, 4), 4098: (167, 202, 5, 3), 4099: (173, 201, 4, 6), 4100: (164, 204, 6, 6), 4101: (168, 194, 4, 6), 4762: (163, 201, 7, 4)}\n",
      "{2020: (163, 234, 10, 8), 2158: (134, 41, 6, 7)} {2019: (158, 241, 7, 10), 2021: (174, 198, 9, 8), 2022: (172, 227, 10, 9), 2053: (176, 208, 10, 10), 2054: (130, 146, 8, 7), 2838: (83, 207, 7, 6), 2839: (207, 250, 7, 6), 3264: (152, 23, 5, 5), 3265: (145, 17, 9, 8), 3492: (69, 249, 7, 7), 3493: (66, 245, 6, 6)}\n",
      "{6316: (107, 122, 4, 17), 6318: (106, 113, 6, 6), 7218: (146, 109, 6, 3), 7229: (141, 103, 14, 7)} {6317: (75, 0, 6, 7), 6319: (84, 96, 9, 7), 6347: (48, 60, 6, 5), 7217: (125, 128, 4, 12), 7230: (170, 118, 10, 5)}\n",
      "{3998: (157, 148, 4, 4)} {3995: (169, 113, 4, 3), 3996: (158, 149, 5, 5), 3997: (171, 110, 4, 3), 3999: (161, 150, 6, 5)}\n",
      "{469: (41, 12, 13, 10)} {421: (34, 29, 11, 7), 470: (55, 20, 9, 8)}\n",
      "{5370: (238, 104, 10, 13), 5372: (238, 96, 13, 12)} {5371: (244, 108, 12, 12), 5373: (247, 97, 9, 14), 5405: (121, 82, 14, 23), 5597: (43, 141, 13, 17), 5598: (92, 82, 6, 5)}\n",
      "{1945: (102, 143, 5, 5), 3382: (222, 28, 10, 13)} {1943: (124, 161, 4, 4), 1944: (127, 162, 5, 6), 1946: (86, 214, 5, 6), 2637: (233, 94, 13, 11)}\n",
      "{4145: (99, 236, 4, 6)} {4144: (130, 189, 5, 5), 4603: (98, 203, 4, 6), 4604: (50, 183, 5, 5), 4605: (97, 210, 4, 7), 4626: (22, 166, 3, 3), 4937: (100, 176, 4, 7)}\n",
      "{1254: (17, 111, 5, 5)} {1121: (48, 42, 17, 7)}\n",
      "{6540: (19, 14, 3, 1)} {6770: (20, 26, 4, 7), 7206: (229, 237, 3, 6), 7224: (112, 227, 3, 6), 7225: (108, 240, 4, 6)}\n",
      "{6996: (132, 239, 6, 4)} {6518: (141, 8, 7, 4), 6628: (112, 226, 14, 6), 6629: (123, 221, 7, 6), 6631: (112, 232, 11, 2), 6632: (140, 229, 4, 6), 6633: (111, 235, 12, 5)}\n",
      "{6634: (196, 253, 3, 3)} {6635: (195, 254, 3, 2), 6968: (169, 255, 3, 1)}\n",
      "{5407: (205, 137, 12, 18)} {5409: (196, 155, 8, 8)}\n",
      "{3720: (45, 154, 3, 4)} {3718: (48, 157, 3, 3), 3719: (45, 157, 3, 2)}\n",
      "{4973: (201, 116, 11, 13)} {3839: (222, 117, 13, 13), 3840: (255, 211, 1, 3), 3842: (116, 75, 12, 10)}\n",
      "{836: (126, 39, 6, 6)} {835: (124, 46, 5, 5), 838: (139, 84, 5, 10), 868: (16, 0, 9, 13), 1028: (149, 17, 3, 3), 1031: (141, 42, 6, 11)}\n",
      "{2581: (5, 90, 5, 7), 2851: (20, 0, 4, 1)} {2091: (19, 0, 2, 1), 2293: (136, 213, 3, 3), 2294: (138, 213, 4, 3), 2295: (135, 215, 6, 4), 2336: (142, 214, 5, 3), 2337: (140, 216, 6, 4), 2582: (19, 180, 6, 2), 3189: (152, 199, 3, 3), 3190: (128, 213, 8, 7), 3191: (152, 194, 3, 5)}\n",
      "{2332: (61, 196, 9, 7), 2656: (95, 236, 11, 8)} {2331: (71, 203, 5, 5), 2657: (78, 210, 6, 3), 2658: (52, 206, 7, 6), 2659: (78, 231, 6, 6), 2660: (81, 246, 6, 5), 3554: (59, 173, 7, 8), 3555: (45, 179, 8, 9)}\n",
      "{6639: (68, 99, 5, 10)} {6729: (34, 116, 7, 10)}\n",
      "{395: (91, 237, 8, 12), 463: (109, 203, 5, 4), 572: (177, 139, 4, 3), 699: (160, 186, 10, 9), 700: (187, 191, 11, 9), 1040: (111, 207, 5, 5), 1041: (138, 237, 8, 8), 1042: (90, 191, 9, 8), 1043: (124, 206, 5, 5), 1277: (169, 255, 2, 1), 1684: (219, 69, 12, 7)} {396: (156, 179, 3, 3), 464: (135, 224, 5, 4), 465: (161, 140, 2, 2), 466: (176, 142, 4, 3), 467: (218, 71, 12, 6), 468: (163, 142, 8, 7), 567: (220, 68, 11, 6), 568: (208, 102, 5, 8), 569: (149, 218, 4, 6), 570: (93, 253, 4, 3), 571: (160, 146, 6, 4), 701: (198, 193, 9, 9), 1278: (171, 240, 9, 11), 1304: (167, 181, 2, 2), 1305: (173, 238, 5, 9), 1681: (93, 255, 3, 1), 1682: (90, 255, 1, 1), 1683: (176, 140, 4, 3), 1685: (148, 135, 20, 15), 1686: (137, 218, 6, 7)}\n",
      "{5684: (126, 67, 5, 4), 5686: (136, 62, 6, 4), 6219: (128, 55, 9, 12), 6224: (128, 47, 8, 8)} {5663: (155, 67, 7, 5), 5664: (146, 73, 10, 4), 5685: (130, 66, 7, 8), 5687: (126, 70, 6, 4), 6220: (124, 47, 5, 8), 6221: (122, 55, 7, 12), 6222: (135, 47, 5, 8), 6223: (135, 53, 10, 10)}\n",
      "{2483: (178, 64, 4, 5), 2484: (170, 65, 5, 5)} {1852: (99, 87, 6, 7), 1853: (94, 86, 7, 9), 1854: (116, 89, 5, 7), 2481: (163, 65, 4, 4), 2482: (182, 70, 5, 5)}\n",
      "{3256: (25, 33, 7, 9)} {1767: (94, 245, 9, 6), 1934: (129, 251, 4, 5), 3300: (131, 253, 3, 3), 3301: (109, 254, 2, 2), 3302: (110, 252, 5, 4), 3476: (134, 254, 4, 2), 3477: (124, 249, 6, 6)}\n",
      "{650: (112, 86, 3, 3), 651: (113, 87, 5, 6), 652: (115, 91, 4, 4), 989: (82, 62, 8, 6), 1036: (52, 50, 5, 4), 1133: (80, 58, 4, 4), 1352: (0, 95, 6, 6), 1420: (0, 167, 1, 3), 1422: (13, 105, 5, 5), 1597: (88, 46, 5, 5)} {135: (46, 53, 8, 7), 136: (62, 64, 5, 6), 137: (55, 61, 3, 3), 138: (57, 61, 6, 6), 518: (26, 124, 12, 10), 649: (113, 76, 4, 3), 653: (117, 79, 5, 4), 654: (115, 82, 4, 4), 987: (94, 71, 3, 3), 988: (89, 68, 5, 3), 990: (83, 60, 6, 5), 991: (79, 60, 4, 4), 992: (99, 79, 5, 5), 1037: (56, 54, 5, 4), 1038: (61, 57, 7, 5), 1039: (48, 48, 5, 3), 1132: (90, 64, 4, 4), 1134: (93, 67, 5, 4), 1135: (95, 77, 5, 4), 1157: (38, 46, 5, 6), 1158: (36, 46, 5, 5), 1161: (58, 72, 4, 4), 1418: (0, 161, 3, 6), 1506: (55, 72, 3, 7), 1507: (51, 72, 5, 6), 1547: (73, 55, 6, 6), 1548: (71, 42, 8, 7), 1549: (69, 39, 4, 6), 1550: (78, 56, 5, 5), 1551: (67, 37, 4, 4), 1552: (76, 45, 5, 6), 1596: (67, 117, 4, 4), 1598: (83, 42, 3, 4), 1599: (94, 50, 5, 4)}\n",
      "{166: (232, 237, 7, 6), 1333: (194, 198, 5, 3)} {165: (177, 208, 8, 6), 1332: (185, 142, 10, 12)}\n",
      "{1773: (35, 11, 7, 8)} {1774: (80, 50, 7, 7), 1775: (1, 18, 4, 5), 1776: (18, 13, 6, 6), 1777: (74, 89, 6, 6), 2215: (98, 25, 5, 6)}\n",
      "{4761: (55, 222, 9, 8)} {4709: (62, 222, 1, 1), 4710: (191, 179, 2, 9), 4763: (190, 169, 4, 9), 4764: (82, 182, 7, 5), 4765: (216, 184, 6, 14), 4766: (112, 171, 10, 5), 4767: (132, 130, 16, 6)}\n",
      "{2647: (232, 108, 6, 6), 3297: (175, 56, 11, 10)} {1947: (78, 160, 7, 7), 2033: (223, 97, 8, 7)}\n",
      "{6226: (171, 49, 8, 6)} {6225: (182, 45, 6, 5), 6227: (170, 45, 8, 7), 6228: (176, 58, 6, 6), 6229: (179, 55, 8, 5), 6274: (179, 36, 8, 7)}\n",
      "{1276: (194, 13, 14, 15)} {966: (57, 165, 7, 5), 1585: (229, 42, 11, 8)}\n",
      "{2148: (96, 177, 7, 10), 2780: (83, 226, 8, 8), 2821: (78, 167, 6, 6), 3076: (161, 203, 6, 5), 3077: (125, 189, 5, 3), 3459: (21, 5, 6, 5)} {1715: (67, 239, 5, 7), 1716: (71, 236, 4, 7), 1718: (88, 218, 7, 9), 1849: (84, 116, 5, 5), 1850: (13, 44, 7, 8), 2141: (127, 189, 2, 1), 2149: (92, 208, 4, 5), 2771: (77, 65, 10, 6), 2778: (2, 138, 4, 3), 2779: (0, 142, 5, 4), 2822: (82, 172, 5, 4), 3460: (17, 1, 7, 5), 3461: (27, 4, 3, 4), 3529: (165, 220, 8, 7), 3530: (124, 187, 6, 3), 3553: (29, 0, 2, 1), 3566: (98, 51, 4, 8)}\n",
      "{4236: (20, 245, 6, 4), 4799: (25, 252, 4, 4), 5182: (31, 250, 8, 3)} {4237: (19, 247, 3, 4), 4238: (14, 245, 5, 6), 4239: (21, 248, 5, 4), 4798: (27, 252, 5, 4), 4800: (32, 252, 4, 3), 4801: (22, 251, 5, 4), 5181: (25, 248, 2, 4), 5183: (27, 249, 5, 3)}\n",
      "{79: (27, 63, 7, 5), 767: (222, 106, 6, 7), 769: (253, 52, 3, 6), 770: (249, 47, 7, 9), 1010: (248, 74, 6, 6), 1055: (143, 41, 6, 6), 1056: (137, 39, 7, 8), 1318: (253, 84, 3, 6)} {80: (49, 65, 15, 12), 81: (77, 84, 23, 15), 771: (224, 108, 7, 7), 772: (254, 44, 2, 5), 1009: (249, 71, 2, 4), 1054: (148, 50, 10, 8), 1316: (239, 18, 16, 20), 1481: (51, 93, 15, 11), 1482: (153, 48, 4, 5)}\n",
      "{4415: (6, 193, 8, 13), 5175: (5, 205, 3, 5)} {3724: (0, 207, 6, 7), 3978: (99, 180, 4, 5), 4241: (25, 159, 5, 4), 4245: (24, 161, 5, 6), 4413: (0, 203, 7, 6), 4414: (11, 190, 5, 5), 4756: (126, 195, 6, 5)}\n",
      "{2661: (45, 184, 2, 3)} {2662: (41, 174, 7, 3), 2663: (69, 204, 6, 5), 2916: (33, 174, 5, 5), 2918: (16, 132, 6, 6), 2919: (9, 126, 6, 8)}\n",
      "{1395: (84, 172, 5, 13)} {152: (33, 234, 8, 6), 1274: (35, 239, 5, 6), 1394: (57, 120, 9, 13)}\n",
      "{6706: (198, 103, 6, 9)} {6707: (207, 113, 3, 5), 6709: (204, 113, 3, 5)}\n",
      "{3483: (92, 119, 3, 3)} {3471: (2, 153, 11, 14), 3472: (87, 253, 10, 3), 3482: (107, 123, 6, 6), 3484: (88, 221, 6, 6)}\n",
      "{6943: (112, 187, 8, 6)} {6823: (22, 166, 7, 4), 6824: (29, 166, 6, 5), 6944: (119, 185, 6, 7), 6945: (127, 189, 5, 3), 6946: (106, 182, 15, 5)}\n",
      "{812: (56, 189, 3, 3)} {82: (85, 184, 4, 7), 326: (0, 14, 4, 4), 811: (52, 183, 4, 4), 1268: (72, 171, 7, 9), 1269: (53, 199, 6, 7), 1270: (49, 203, 5, 6), 1271: (94, 215, 6, 7), 1272: (42, 202, 5, 5)}\n",
      "{5793: (0, 146, 6, 8)} {5792: (0, 137, 7, 6), 5794: (7, 146, 1, 9), 5795: (11, 146, 2, 8), 5796: (8, 146, 3, 8), 5797: (4, 146, 3, 9)}\n",
      "{4391: (169, 214, 4, 3), 4392: (169, 216, 3, 2), 4394: (169, 218, 3, 3)} {4027: (169, 226, 2, 2), 4028: (170, 224, 4, 3), 4029: (166, 224, 4, 3)}\n",
      "{1004: (56, 120, 6, 6)} {981: (72, 139, 7, 6), 982: (70, 148, 5, 4), 1005: (67, 144, 6, 6), 1006: (61, 143, 5, 5), 1085: (97, 183, 7, 6), 1086: (118, 209, 7, 7), 1559: (104, 189, 4, 4), 1560: (109, 191, 5, 4)}\n",
      "{729: (71, 98, 4, 4), 1177: (162, 185, 4, 5)} {440: (133, 215, 9, 6), 441: (130, 220, 4, 3), 539: (67, 175, 13, 17), 727: (111, 110, 1, 1), 728: (106, 109, 8, 9), 730: (69, 99, 4, 5), 879: (131, 218, 10, 7), 880: (134, 220, 4, 4), 1178: (119, 223, 4, 5), 1179: (113, 229, 7, 8), 1180: (106, 235, 8, 8), 1181: (154, 196, 6, 8), 1300: (119, 197, 4, 4), 1301: (117, 201, 4, 4)}\n",
      "{2151: (61, 49, 8, 6), 2152: (31, 38, 8, 7), 2696: (13, 16, 6, 8), 2698: (9, 57, 6, 8)} {2150: (36, 16, 6, 6), 2405: (15, 30, 6, 6), 2497: (39, 9, 10, 9), 2498: (19, 0, 6, 3), 2646: (5, 40, 9, 9), 2697: (30, 66, 8, 7), 3109: (26, 45, 7, 5), 3110: (18, 27, 4, 5), 3182: (20, 37, 7, 10)}\n",
      "{5196: (0, 231, 4, 4)} {4630: (86, 177, 4, 9), 4631: (84, 177, 4, 6), 4632: (88, 181, 7, 6)}\n",
      "{5590: (232, 206, 18, 13)} {5589: (244, 212, 7, 5), 5817: (128, 255, 12, 1)}\n",
      "{6241: (177, 247, 15, 9)} {6242: (202, 210, 16, 12), 6243: (183, 194, 9, 10)}\n",
      "{1206: (59, 5, 5, 4)} {363: (103, 103, 6, 5), 364: (122, 116, 6, 5), 365: (124, 103, 6, 5), 366: (103, 110, 6, 7), 367: (123, 142, 5, 4)}\n",
      "{6241: (183, 0, 10, 4)} {6244: (228, 43, 11, 15)}\n",
      "{212: (182, 209, 6, 5), 873: (157, 211, 5, 5), 973: (115, 44, 7, 9), 1562: (58, 8, 9, 11)} {230: (202, 237, 6, 5), 872: (158, 209, 6, 5), 974: (110, 77, 8, 9), 975: (240, 136, 12, 11), 1372: (105, 0, 6, 6), 1373: (178, 77, 9, 10), 1374: (97, 0, 8, 7), 1561: (66, 2, 9, 10)}\n",
      "{6187: (9, 68, 9, 4)} {5435: (1, 180, 9, 9), 5436: (89, 196, 8, 6), 5437: (139, 213, 9, 7), 5439: (95, 201, 9, 13), 6098: (237, 53, 8, 10), 6186: (124, 110, 13, 10)}\n",
      "{5676: (137, 245, 13, 11)} {5673: (129, 255, 4, 1), 5674: (110, 252, 15, 4), 5675: (129, 243, 11, 13), 5803: (135, 87, 18, 19), 5804: (205, 89, 10, 15)}\n",
      "{6483: (47, 151, 6, 7), 6484: (221, 180, 11, 24)} {6482: (42, 149, 7, 7), 6821: (217, 188, 6, 7), 7273: (10, 170, 2, 4)}\n",
      "{1969: (84, 241, 8, 9)} {2782: (159, 101, 5, 4), 2785: (163, 104, 7, 6), 3324: (207, 253, 4, 3), 3325: (198, 206, 6, 7), 3326: (209, 235, 11, 18)}\n",
      "{105: (241, 34, 2, 2), 734: (236, 33, 2, 2), 737: (234, 35, 2, 3), 738: (236, 34, 1, 1), 1310: (238, 38, 2, 3), 1312: (240, 39, 3, 3), 1356: (235, 34, 2, 2), 1609: (242, 33, 4, 3), 1612: (238, 35, 4, 2), 1640: (245, 36, 4, 3), 1676: (248, 39, 4, 3), 1678: (250, 42, 4, 4)} {23: (255, 41, 1, 3), 24: (255, 46, 1, 1), 101: (241, 38, 1, 3), 102: (241, 34, 3, 4), 103: (237, 32, 3, 3), 106: (237, 39, 2, 2), 525: (235, 15, 2, 3), 526: (229, 10, 4, 4), 735: (235, 32, 2, 2), 736: (233, 37, 2, 1), 1256: (237, 35, 1, 1), 1257: (242, 39, 2, 1), 1258: (244, 42, 3, 2), 1259: (245, 36, 3, 2), 1260: (242, 35, 3, 4), 1261: (239, 37, 2, 2), 1308: (244, 40, 3, 2), 1311: (238, 37, 1, 1), 1313: (242, 40, 2, 3), 1357: (239, 39, 2, 2), 1358: (235, 38, 2, 1), 1359: (237, 38, 2, 2), 1360: (236, 35, 2, 3), 1361: (234, 33, 3, 2), 1610: (238, 35, 3, 2), 1611: (243, 31, 2, 1), 1613: (243, 32, 2, 2), 1614: (239, 33, 4, 3), 1639: (244, 37, 3, 3), 1677: (251, 40, 3, 4), 1679: (247, 41, 3, 4), 1680: (253, 43, 3, 4)}\n",
      "{5538: (62, 181, 6, 5), 5801: (158, 196, 9, 9), 5828: (62, 248, 4, 8)} {5335: (54, 217, 7, 5), 5336: (45, 228, 11, 4), 5337: (53, 212, 8, 5), 5338: (71, 212, 7, 7), 5534: (140, 155, 13, 11), 5535: (65, 185, 4, 3), 5536: (141, 147, 9, 9), 5537: (69, 181, 5, 8), 5799: (194, 238, 7, 5), 5800: (77, 234, 7, 4), 5802: (236, 217, 13, 12), 5829: (41, 225, 14, 7), 6109: (173, 217, 10, 7), 6110: (56, 223, 11, 6), 6111: (131, 189, 2, 9), 6112: (157, 226, 4, 5), 6113: (162, 176, 22, 13)}\n",
      "{4686: (120, 231, 6, 3), 4689: (118, 232, 4, 7), 4897: (131, 228, 5, 5), 4899: (136, 226, 3, 5)} {3657: (121, 217, 5, 5), 3658: (128, 221, 2, 2), 4340: (115, 218, 7, 3), 4341: (129, 214, 5, 7), 4342: (126, 218, 3, 3), 4343: (123, 220, 5, 3), 4344: (125, 215, 5, 3), 4488: (112, 227, 4, 5), 4489: (117, 226, 5, 2), 4490: (121, 233, 5, 4), 4491: (121, 228, 4, 4), 4492: (117, 235, 10, 7), 4688: (114, 228, 7, 4), 4898: (127, 233, 5, 4)}\n",
      "{4389: (159, 88, 2, 4), 4390: (161, 88, 2, 5), 4418: (154, 91, 4, 2)} {4393: (155, 88, 4, 3)}\n",
      "{3738: (0, 139, 1, 3), 4403: (58, 208, 7, 7)} {4530: (55, 207, 7, 7), 5258: (0, 147, 7, 8)}\n",
      "{5840: (230, 157, 9, 13), 5923: (191, 84, 6, 4)} {5767: (60, 13, 8, 23), 5768: (79, 22, 13, 18), 6232: (55, 12, 11, 23)}\n",
      "{6587: (152, 112, 7, 5), 7333: (101, 69, 3, 3)} {6375: (135, 119, 9, 5), 6376: (147, 123, 10, 4), 6401: (110, 80, 11, 5), 6402: (92, 73, 9, 4), 6585: (148, 99, 3, 8), 6586: (147, 119, 11, 7), 6588: (135, 114, 7, 5), 7219: (119, 70, 10, 4), 7220: (121, 54, 9, 15), 7332: (111, 77, 9, 4)}\n",
      "{5111: (200, 163, 12, 8)} {4169: (234, 212, 17, 14), 4655: (37, 9, 6, 4), 4744: (198, 152, 23, 15), 5112: (203, 166, 12, 8)}\n",
      "{850: (142, 137, 7, 11), 1368: (68, 190, 4, 3), 1370: (122, 115, 11, 6), 1371: (90, 165, 13, 9), 1570: (0, 48, 1, 2)} {578: (7, 0, 7, 10), 1369: (54, 112, 9, 20)}\n",
      "{2792: (5, 166, 6, 6)} {2367: (150, 86, 5, 6), 2793: (3, 167, 8, 9)}\n",
      "{4359: (214, 90, 4, 5), 4580: (167, 113, 2, 3)} {4175: (145, 116, 3, 4), 4176: (224, 107, 4, 5), 4177: (208, 137, 5, 5), 4360: (212, 93, 3, 3), 4361: (200, 94, 3, 4), 4362: (213, 84, 4, 6), 4363: (213, 91, 2, 3), 4364: (201, 90, 3, 4), 4581: (136, 103, 6, 5), 4582: (140, 131, 7, 4), 4583: (155, 128, 5, 7), 4584: (146, 104, 3, 5), 4585: (141, 99, 6, 10)}\n",
      "{4272: (32, 195, 30, 21), 4724: (102, 239, 8, 8), 4795: (57, 216, 7, 5), 5127: (88, 233, 7, 4)} {3646: (59, 211, 4, 4), 3647: (69, 245, 5, 10), 3651: (83, 250, 4, 6), 3980: (9, 85, 3, 3), 4191: (95, 233, 4, 5), 4192: (108, 248, 3, 2), 4194: (78, 241, 4, 7), 4213: (29, 135, 14, 14), 4214: (27, 180, 11, 11), 4215: (7, 118, 8, 13), 4216: (43, 178, 17, 19), 4217: (0, 164, 3, 6), 4270: (87, 250, 11, 6), 4271: (25, 252, 24, 4), 4294: (82, 236, 5, 13), 4295: (104, 239, 7, 14), 4296: (35, 220, 5, 19), 4297: (60, 243, 6, 9), 4725: (83, 240, 5, 9), 4726: (93, 234, 3, 4), 4727: (22, 215, 8, 7), 4728: (33, 221, 5, 18), 4739: (0, 38, 8, 14), 4740: (32, 187, 11, 11), 4793: (107, 240, 7, 8)}\n",
      "{6577: (113, 9, 15, 15)} {6437: (141, 8, 8, 10)}\n",
      "{2873: (15, 124, 11, 10)} {2871: (45, 83, 8, 7), 2872: (19, 101, 18, 14)}\n",
      "{7149: (55, 57, 6, 6), 7152: (159, 104, 6, 5)} {6480: (166, 24, 8, 6), 6481: (160, 87, 8, 6), 7093: (172, 14, 8, 7), 7150: (189, 51, 6, 6), 7151: (194, 63, 6, 6), 7153: (168, 99, 8, 5)}\n",
      "{6378: (222, 167, 5, 3), 6925: (215, 173, 8, 7), 6926: (217, 171, 5, 4)} {6377: (215, 181, 6, 6), 6387: (246, 190, 9, 3), 6689: (246, 192, 9, 4)}\n",
      "{3665: (124, 171, 8, 5), 3752: (182, 176, 6, 16), 4633: (180, 177, 3, 14)} {3664: (126, 205, 4, 5), 3749: (142, 188, 4, 10), 3750: (154, 188, 4, 10), 3751: (135, 207, 3, 11), 4110: (49, 53, 11, 3), 4402: (168, 129, 6, 15), 4634: (137, 187, 2, 6), 4635: (152, 173, 3, 6), 4838: (156, 171, 5, 14), 4839: (127, 207, 9, 18), 4860: (139, 167, 3, 10), 4861: (117, 174, 8, 4), 5077: (43, 17, 4, 5), 5078: (38, 20, 7, 11), 5123: (185, 132, 4, 9)}\n",
      "{6522: (254, 161, 2, 3), 6912: (207, 198, 7, 6), 6914: (223, 201, 8, 8), 6915: (239, 207, 8, 9), 6985: (228, 211, 6, 11)} {6519: (223, 225, 6, 7), 6524: (225, 211, 7, 14), 6910: (203, 141, 6, 6), 6911: (234, 193, 6, 9), 6913: (200, 184, 6, 6), 6982: (251, 167, 5, 5), 6984: (246, 141, 6, 5)}\n",
      "{4069: (77, 240, 2, 2), 4070: (80, 241, 4, 3), 4071: (79, 240, 2, 2)} {4072: (76, 241, 2, 3), 4073: (81, 240, 2, 2)}\n",
      "{5233: (147, 196, 7, 4)} {3864: (151, 207, 8, 7)}\n",
      "{1252: (232, 205, 6, 4), 1345: (235, 211, 6, 5)} {88: (68, 40, 16, 33), 89: (83, 90, 13, 9), 694: (248, 214, 8, 13), 1250: (237, 207, 6, 4), 1346: (205, 198, 9, 14), 1348: (232, 210, 4, 4), 1349: (226, 207, 7, 5)}\n",
      "{3496: (219, 253, 5, 3), 3497: (181, 231, 6, 5), 3498: (224, 254, 3, 2)} {1868: (200, 250, 9, 6), 1869: (202, 233, 8, 8), 2248: (169, 143, 9, 8), 2251: (184, 169, 9, 9), 2252: (180, 157, 12, 11), 2253: (198, 104, 7, 10), 2296: (181, 132, 7, 6), 2493: (16, 206, 11, 10), 3495: (182, 245, 9, 8)}\n",
      "{2255: (46, 62, 10, 9)} {1693: (30, 58, 5, 4), 1695: (34, 60, 6, 5), 1696: (39, 63, 6, 4), 1697: (49, 62, 5, 4), 2256: (19, 47, 9, 12), 2257: (29, 60, 13, 10)}\n",
      "{4648: (167, 180, 4, 3), 4704: (248, 153, 7, 7), 4749: (162, 145, 8, 9)} {4128: (167, 152, 7, 16), 4646: (170, 170, 9, 12), 4647: (164, 178, 5, 4), 4702: (253, 156, 3, 4), 4703: (245, 151, 6, 7), 4748: (167, 147, 6, 6), 4875: (234, 160, 3, 6), 4876: (232, 158, 6, 2), 4901: (255, 146, 1, 1), 4902: (249, 147, 4, 3), 4968: (239, 162, 5, 9), 4969: (228, 210, 6, 4), 4970: (236, 164, 5, 6), 5228: (180, 153, 5, 7)}\n",
      "{6430: (130, 159, 4, 6), 6431: (135, 158, 4, 3), 6432: (146, 153, 6, 3)} {6797: (250, 206, 3, 6), 6801: (251, 212, 5, 4), 6932: (254, 160, 2, 4), 6935: (253, 165, 3, 4), 6936: (247, 162, 4, 5), 7208: (244, 11, 5, 8)}\n",
      "{5321: (251, 230, 5, 10)} {5320: (247, 233, 8, 8), 5322: (245, 234, 8, 10)}\n",
      "{5115: (33, 217, 8, 6)} {4842: (105, 223, 10, 8), 5113: (76, 221, 4, 6), 5114: (64, 232, 7, 4), 5116: (128, 123, 24, 13), 5118: (54, 232, 6, 5), 5259: (113, 207, 10, 12)}\n",
      "{1277: (166, 0, 7, 7)} {394: (91, 7, 10, 10), 570: (95, 0, 1, 1), 1681: (92, 0, 3, 4), 1682: (89, 0, 4, 5)}\n",
      "{816: (110, 95, 7, 8)} {815: (111, 89, 3, 5)}\n",
      "{4137: (88, 1, 5, 4), 4346: (179, 144, 3, 3), 4349: (179, 138, 4, 5), 4350: (175, 141, 4, 4)} {4138: (89, 0, 6, 2), 4140: (88, 4, 5, 3), 4345: (177, 144, 3, 2), 4347: (178, 141, 2, 4), 4348: (179, 141, 4, 4), 5199: (58, 1, 6, 4), 5202: (60, 4, 4, 3)}\n",
      "{6884: (90, 2, 6, 3)} {6881: (80, 0, 4, 2), 6882: (82, 6, 5, 5), 6883: (81, 2, 4, 4), 6885: (99, 4, 7, 4)}\n",
      "{4935: (101, 210, 9, 15), 4936: (196, 211, 5, 3)} {4291: (107, 234, 8, 8)}\n",
      "{6498: (19, 15, 7, 9), 6499: (12, 19, 5, 9)} {6494: (15, 18, 5, 9), 6495: (6, 14, 9, 5), 6496: (20, 11, 7, 6), 6497: (20, 20, 7, 7), 6855: (146, 191, 10, 8), 6856: (144, 186, 8, 7), 7180: (22, 22, 8, 6)}\n",
      "{660: (250, 40, 6, 8), 841: (197, 58, 4, 5), 842: (196, 177, 7, 10), 845: (191, 116, 9, 6), 1339: (168, 75, 5, 4)} {843: (200, 167, 5, 7), 844: (214, 105, 6, 10), 1338: (203, 160, 9, 11), 1340: (191, 120, 2, 2), 1402: (232, 95, 6, 5), 1403: (191, 119, 7, 4), 1404: (196, 156, 11, 10)}\n",
      "{6058: (0, 171, 2, 12)} {5611: (92, 241, 4, 15), 5612: (96, 186, 5, 18), 6037: (34, 90, 14, 9), 6059: (12, 191, 7, 9)}\n",
      "{7251: (195, 214, 2, 4), 7252: (167, 196, 4, 3)} {7202: (34, 161, 11, 6), 7253: (175, 202, 3, 4), 7254: (190, 221, 3, 4), 7255: (179, 197, 6, 6)}\n",
      "{6399: (138, 221, 8, 3), 7132: (41, 132, 10, 6), 7133: (38, 139, 11, 11)} {6398: (138, 222, 8, 5), 6400: (138, 219, 8, 4), 6416: (88, 134, 5, 11), 6417: (86, 145, 4, 13), 6489: (79, 239, 8, 4), 6544: (51, 252, 4, 4), 6545: (81, 232, 12, 9), 6546: (53, 248, 8, 4)}\n",
      "{3690: (94, 0, 2, 1), 5103: (108, 38, 5, 5)} {4025: (109, 29, 5, 9), 4026: (109, 27, 4, 4), 4199: (110, 40, 7, 5), 5102: (114, 35, 3, 3), 5104: (111, 37, 5, 4), 5231: (91, 0, 4, 2)}\n",
      "{5368: (205, 83, 8, 13)} {5271: (214, 113, 9, 8), 5272: (206, 110, 10, 10), 5365: (204, 89, 15, 14), 5366: (204, 119, 12, 10), 5367: (201, 106, 9, 6), 5369: (125, 102, 9, 10), 5462: (189, 100, 19, 10), 5964: (213, 136, 15, 14), 5965: (181, 10, 14, 15)}\n",
      "{6525: (62, 119, 5, 5), 6527: (81, 119, 8, 4), 7011: (52, 117, 7, 4), 7013: (50, 134, 4, 4), 7274: (61, 32, 7, 10)} {6526: (88, 118, 9, 4), 6972: (117, 89, 9, 4), 6973: (59, 125, 10, 7), 6974: (40, 112, 6, 9), 7012: (121, 103, 4, 2), 7014: (54, 131, 4, 5), 7177: (49, 126, 8, 4), 7178: (59, 122, 6, 3), 7179: (56, 129, 5, 4), 7275: (61, 56, 8, 5), 7276: (72, 57, 3, 6)}\n",
      "{1915: (71, 107, 7, 8), 2274: (50, 46, 4, 4), 2596: (51, 0, 8, 8), 2816: (106, 37, 7, 7)} {1914: (78, 131, 6, 5), 1916: (77, 114, 6, 6), 2272: (50, 41, 7, 5), 2273: (48, 52, 4, 5), 2407: (65, 111, 5, 5), 2498: (19, 253, 5, 3), 2597: (57, 38, 3, 4), 2604: (48, 226, 3, 2), 2814: (84, 32, 5, 6), 2815: (123, 33, 6, 4), 3066: (44, 222, 7, 4), 3067: (73, 224, 7, 7), 3262: (78, 105, 6, 7), 3263: (65, 120, 8, 7), 3432: (109, 36, 6, 6), 3433: (116, 84, 3, 6), 3512: (51, 36, 7, 7), 3513: (54, 0, 5, 3), 3515: (15, 28, 6, 7), 3587: (113, 25, 5, 5), 3588: (110, 28, 6, 6), 3589: (95, 4, 5, 6)}\n",
      "{6411: (100, 46, 6, 5), 6596: (65, 79, 5, 4), 6597: (32, 138, 5, 5), 7038: (103, 57, 10, 13), 7039: (109, 45, 10, 9)} {6407: (111, 47, 10, 10), 6408: (97, 68, 8, 9), 6409: (82, 15, 10, 5), 6410: (92, 87, 6, 7), 6412: (106, 98, 5, 6), 6595: (57, 82, 5, 4), 7006: (95, 93, 10, 8), 7037: (135, 86, 11, 10)}\n",
      "{3931: (118, 120, 8, 8), 4821: (126, 205, 6, 7)} {3882: (147, 214, 9, 5), 3883: (94, 172, 8, 7)}\n",
      "{6695: (0, 68, 3, 6), 6697: (25, 36, 6, 7), 6842: (217, 90, 3, 9), 7118: (252, 171, 4, 5)} {6694: (52, 32, 9, 5), 6696: (14, 44, 7, 6), 6719: (206, 243, 4, 10), 6843: (218, 82, 3, 9), 7117: (247, 166, 5, 7), 7327: (254, 164, 2, 4)}\n",
      "{3584: (6, 27, 10, 5)} {2047: (5, 74, 6, 3), 2048: (51, 101, 8, 7), 2049: (0, 62, 8, 4), 3064: (1, 59, 4, 3), 3403: (14, 42, 7, 4), 3583: (25, 0, 8, 4), 3586: (34, 17, 8, 6)}\n",
      "{236: (0, 24, 3, 5), 866: (54, 236, 29, 14)} {1573: (224, 245, 12, 11), 1650: (25, 191, 19, 10)}\n",
      "{4143: (126, 15, 6, 4)} {3768: (79, 14, 12, 5), 4938: (81, 50, 3, 6), 5168: (83, 17, 8, 8)}\n",
      "{2631: (226, 38, 4, 4), 3563: (223, 33, 5, 6)} {2632: (228, 42, 3, 2), 2633: (225, 40, 4, 3), 2634: (228, 39, 4, 3), 2635: (228, 33, 5, 5), 3562: (221, 36, 6, 5), 3564: (197, 44, 7, 7)}\n",
      "{1949: (244, 9, 3, 4), 3084: (233, 11, 5, 7), 3368: (55, 50, 5, 4)} {1919: (246, 11, 4, 5), 1920: (246, 14, 3, 5), 1921: (243, 18, 2, 2), 1950: (241, 11, 5, 8), 2317: (116, 62, 7, 7), 2318: (102, 41, 7, 8), 2319: (112, 65, 9, 8), 2324: (100, 22, 10, 10), 2563: (222, 0, 10, 4), 3085: (232, 15, 4, 4), 3086: (244, 13, 4, 6), 3367: (54, 45, 4, 4), 3369: (57, 47, 5, 5), 3370: (53, 48, 4, 4), 3371: (51, 51, 4, 5), 3372: (54, 52, 5, 4)}\n",
      "{675: (105, 131, 5, 8), 1235: (124, 188, 7, 8)} {708: (130, 185, 4, 3), 709: (140, 171, 9, 6), 1234: (120, 196, 7, 9)}\n",
      "{4907: (217, 194, 7, 15)} {4908: (255, 198, 1, 1)}\n",
      "{4006: (16, 105, 3, 2), 4696: (18, 104, 3, 3), 4697: (13, 101, 4, 3)} {4007: (18, 105, 3, 3), 4008: (14, 104, 3, 3), 4352: (14, 101, 3, 3), 4353: (19, 103, 1, 1), 4354: (10, 100, 4, 3), 4355: (7, 96, 3, 1), 4356: (8, 97, 3, 4), 4616: (6, 93, 3, 3), 4698: (17, 104, 2, 2), 4699: (15, 102, 4, 2)}\n",
      "{217: (242, 85, 7, 6), 1173: (226, 229, 6, 5), 1174: (251, 216, 4, 3)} {178: (253, 81, 3, 4), 216: (245, 76, 7, 8), 324: (250, 227, 6, 7), 325: (225, 232, 4, 4), 432: (36, 0, 11, 6), 859: (221, 246, 6, 5), 860: (226, 249, 5, 5), 861: (248, 226, 6, 7), 1508: (249, 80, 5, 5)}\n",
      "{5613: (186, 76, 28, 22)} {5614: (255, 90, 1, 5)}\n",
      "{3804: (209, 121, 4, 5)} {3805: (212, 121, 3, 5), 3806: (210, 139, 3, 4), 3807: (215, 129, 3, 3), 4729: (211, 141, 10, 8)}\n",
      "{95: (235, 123, 3, 2)} {96: (229, 168, 3, 3), 613: (240, 124, 3, 3), 615: (228, 169, 3, 3), 1618: (216, 115, 4, 3), 1620: (217, 111, 5, 4), 1621: (227, 102, 4, 3), 1622: (220, 102, 3, 3)}\n",
      "{3071: (57, 34, 9, 8), 3074: (60, 14, 5, 6)} {2429: (47, 73, 9, 9), 2430: (39, 0, 7, 3), 2431: (69, 36, 5, 6), 3072: (65, 38, 6, 5), 3073: (68, 42, 5, 6), 3075: (76, 32, 4, 4), 3437: (196, 212, 7, 6), 3438: (191, 210, 7, 5), 3439: (201, 215, 5, 4)}\n",
      "{3914: (224, 204, 3, 3), 5196: (255, 232, 1, 2)} {3912: (223, 210, 4, 4), 3913: (224, 211, 6, 6), 3915: (223, 206, 4, 4), 4062: (237, 209, 4, 7), 4063: (234, 210, 4, 3), 4476: (215, 155, 3, 3), 4477: (221, 196, 5, 4)}\n",
      "{4200: (159, 222, 3, 3), 4855: (217, 201, 3, 3), 5005: (177, 225, 5, 3), 5106: (215, 197, 2, 3)} {4201: (143, 244, 4, 3), 4202: (157, 226, 4, 4), 4203: (147, 244, 5, 3), 4852: (219, 203, 3, 3), 4853: (216, 200, 4, 2), 4854: (215, 196, 4, 2), 4856: (222, 206, 3, 3), 5006: (160, 224, 3, 2), 5007: (174, 228, 4, 3), 5008: (172, 225, 3, 4), 5107: (220, 204, 3, 3), 5108: (216, 198, 4, 3), 5109: (215, 193, 3, 4), 5110: (218, 201, 4, 3)}\n",
      "{3561: (227, 101, 8, 7)} {1711: (199, 172, 8, 9), 1712: (175, 138, 5, 6), 1713: (205, 102, 7, 8), 1714: (176, 141, 9, 10), 2026: (201, 162, 12, 15), 2027: (181, 114, 10, 13), 3239: (251, 67, 5, 10), 3243: (255, 77, 1, 2), 3560: (221, 93, 16, 14)}\n",
      "{5105: (255, 49, 1, 3)} {5187: (248, 35, 8, 6), 5188: (254, 30, 2, 5)}\n",
      "{628: (242, 238, 5, 8)} {629: (205, 206, 5, 5)}\n",
      "{6954: (35, 88, 8, 11)} {6956: (38, 98, 11, 9)}\n",
      "{1882: (124, 150, 6, 6)} {1881: (125, 163, 3, 4), 2209: (16, 0, 9, 8), 2893: (21, 24, 7, 6), 3593: (75, 0, 6, 4)}\n",
      "{911: (27, 92, 8, 16)} {910: (38, 61, 4, 4)}\n",
      "{2413: (193, 113, 3, 3)} {2197: (222, 143, 4, 3), 2347: (197, 113, 5, 7), 2412: (193, 110, 5, 4), 2605: (193, 116, 4, 4), 2606: (194, 114, 5, 4), 2607: (196, 118, 5, 5), 3167: (119, 234, 10, 7), 3289: (221, 10, 5, 5)}\n",
      "{2936: (119, 49, 4, 3), 2937: (115, 78, 3, 5), 3170: (96, 73, 6, 7), 3171: (73, 29, 10, 6)} {3172: (115, 40, 8, 6), 3387: (118, 119, 10, 12), 3388: (139, 59, 12, 8)}\n",
      "{3738: (247, 136, 9, 9), 5257: (136, 84, 5, 5)} {3737: (227, 163, 26, 21), 3739: (172, 70, 5, 5), 5258: (255, 150, 1, 4)}\n",
      "{2120: (111, 246, 5, 5)} {1886: (110, 204, 10, 10), 1887: (116, 180, 9, 8), 1888: (115, 232, 11, 11), 1889: (110, 153, 8, 5), 1890: (112, 141, 12, 13), 1891: (125, 145, 5, 4), 2034: (75, 164, 5, 5), 2122: (148, 166, 3, 4), 2800: (108, 135, 5, 5), 3226: (106, 136, 6, 5), 3466: (105, 245, 7, 8), 3467: (83, 142, 8, 8), 3468: (150, 164, 5, 5), 3470: (126, 178, 8, 8)}\n",
      "{479: (84, 90, 17, 9), 678: (121, 108, 6, 4), 813: (86, 95, 8, 6), 814: (125, 92, 5, 8), 1314: (75, 233, 6, 9)} {256: (116, 121, 14, 6), 257: (221, 118, 16, 10), 412: (80, 103, 10, 4), 462: (117, 119, 12, 6), 478: (106, 107, 1, 2), 480: (106, 101, 13, 15), 662: (70, 101, 30, 13), 676: (251, 108, 5, 6), 677: (129, 113, 3, 3), 679: (171, 173, 4, 4), 1027: (77, 92, 8, 5), 1122: (38, 219, 10, 6), 1199: (172, 23, 8, 6), 1573: (229, 0, 6, 3), 1649: (44, 10, 27, 14), 1651: (87, 223, 17, 13), 1667: (133, 105, 9, 6)}\n",
      "{620: (57, 146, 9, 8), 622: (29, 165, 5, 5), 1203: (53, 99, 7, 6), 1205: (52, 142, 7, 8)} {205: (102, 114, 9, 8), 621: (52, 152, 10, 8), 623: (0, 127, 6, 5), 1204: (46, 111, 7, 6), 1501: (90, 203, 8, 8), 1600: (37, 111, 9, 8), 1601: (33, 132, 7, 8), 1602: (5, 137, 7, 6)}\n",
      "{5929: (152, 134, 8, 9)} {5925: (42, 31, 4, 6), 5926: (44, 33, 6, 6), 5927: (37, 11, 9, 6), 5928: (44, 25, 7, 8), 5930: (147, 129, 8, 8)}\n",
      "{4044: (238, 131, 18, 19)} {4043: (165, 148, 23, 11), 4881: (83, 239, 14, 9), 4882: (51, 112, 13, 8), 4883: (74, 220, 11, 10)}\n",
      "{3944: (0, 214, 7, 8)} {3945: (0, 205, 2, 9)}\n",
      "{1022: (140, 196, 6, 7), 1023: (122, 193, 4, 4), 1192: (121, 187, 5, 7), 1389: (138, 218, 17, 8), 1391: (98, 231, 3, 2)} {73: (139, 207, 11, 5), 74: (96, 197, 3, 3), 75: (124, 203, 7, 4), 76: (103, 199, 4, 3), 77: (149, 213, 7, 4), 78: (154, 211, 6, 4), 1024: (136, 189, 5, 6), 1190: (130, 187, 5, 6), 1191: (135, 195, 7, 7), 1388: (81, 220, 9, 5), 1390: (79, 214, 17, 8), 1392: (80, 225, 9, 5)}\n",
      "{4868: (37, 64, 2, 2)} {4449: (37, 61, 2, 3)}\n",
      "{2879: (227, 0, 5, 4)} {2689: (249, 59, 4, 4), 2690: (245, 65, 5, 5), 2691: (188, 58, 8, 6), 2878: (241, 46, 7, 5), 2880: (192, 106, 6, 6), 3293: (232, 3, 5, 5)}\n",
      "{1761: (89, 85, 20, 20), 1766: (131, 69, 17, 10)} {1762: (99, 79, 10, 12), 1763: (115, 68, 10, 9), 1764: (144, 67, 8, 6), 1765: (105, 75, 10, 10), 1970: (83, 16, 9, 9), 2781: (97, 8, 2, 2), 2783: (95, 8, 8, 7), 2784: (89, 8, 5, 6), 3324: (206, 0, 3, 4)}\n",
      "{2032: (208, 117, 4, 5), 3600: (209, 122, 4, 4)} {1743: (74, 9, 6, 6), 1744: (130, 52, 6, 5), 1745: (50, 57, 11, 9), 1746: (98, 18, 6, 7), 2030: (154, 161, 3, 4), 2031: (155, 159, 6, 5), 2401: (133, 49, 9, 10), 2402: (95, 24, 4, 5), 2403: (51, 52, 13, 11), 2404: (77, 4, 6, 6), 3173: (66, 117, 4, 4), 3175: (60, 118, 4, 6), 3599: (153, 128, 4, 3)}\n",
      "{3881: (135, 183, 4, 4)} {3771: (136, 219, 20, 13), 3772: (127, 207, 10, 14), 4814: (148, 177, 12, 18), 4815: (172, 232, 13, 13)}\n",
      "{495: (172, 6, 5, 5), 547: (219, 54, 14, 20)} {270: (232, 8, 7, 8), 271: (183, 3, 6, 4), 550: (191, 4, 13, 15), 551: (215, 118, 4, 5), 552: (249, 21, 6, 7), 956: (240, 8, 9, 12), 957: (231, 22, 13, 20), 1528: (179, 4, 4, 5), 1530: (182, 7, 5, 5), 1532: (254, 17, 2, 4)}\n",
      "{6591: (43, 68, 5, 4), 6992: (195, 44, 6, 4), 6993: (188, 46, 6, 7)} {6589: (48, 71, 3, 5), 6590: (45, 74, 4, 4), 6592: (47, 65, 4, 5)}\n",
      "{1874: (222, 158, 4, 5), 2284: (214, 37, 6, 7), 3462: (213, 176, 6, 7)} {1875: (200, 217, 5, 6), 1876: (186, 188, 5, 7), 1892: (0, 221, 2, 3), 2283: (232, 9, 7, 8), 2286: (186, 74, 8, 7), 2692: (212, 34, 6, 6), 2694: (244, 44, 4, 4), 2920: (231, 52, 10, 11), 3026: (253, 164, 3, 5), 3027: (207, 237, 8, 7), 3463: (210, 182, 6, 6), 3464: (214, 221, 5, 9), 3488: (183, 80, 7, 7)}\n",
      "{4161: (146, 243, 1, 4), 4165: (146, 246, 3, 4), 4544: (140, 249, 6, 6), 4718: (140, 235, 4, 5), 4719: (139, 238, 3, 4), 4720: (141, 233, 4, 3), 4915: (148, 240, 4, 3), 4917: (147, 242, 4, 5), 5159: (19, 6, 4, 2)} {4082: (146, 236, 1, 1), 4083: (142, 230, 3, 4), 4084: (144, 233, 3, 3), 4085: (142, 236, 4, 6), 4162: (147, 248, 4, 3), 4163: (143, 244, 3, 4), 4164: (146, 241, 3, 4), 4166: (142, 248, 3, 2), 4543: (146, 249, 3, 4), 4545: (139, 249, 4, 5), 4546: (140, 245, 3, 4), 4914: (148, 244, 5, 5), 4916: (150, 240, 5, 5), 5158: (18, 7, 3, 3)}\n",
      "{3040: (67, 182, 10, 10), 3044: (73, 179, 7, 8), 3383: (86, 234, 8, 6)} {1727: (69, 242, 6, 7), 1728: (49, 245, 6, 6), 1747: (27, 254, 5, 2), 1748: (45, 242, 6, 7), 1750: (35, 246, 13, 10), 2084: (29, 46, 10, 10), 3042: (70, 181, 8, 9), 3043: (35, 185, 16, 18), 3288: (52, 240, 6, 6)}\n",
      "{3506: (18, 217, 7, 7)} {3505: (106, 255, 2, 1), 3507: (68, 188, 7, 10)}\n",
      "{1265: (0, 0, 10, 6)} {1287: (171, 196, 9, 7)}\n",
      "{6811: (30, 173, 4, 4), 6812: (27, 165, 6, 8)} {6809: (23, 169, 6, 4), 6810: (29, 175, 3, 5), 6813: (31, 176, 5, 4), 7076: (163, 45, 3, 8), 7077: (160, 45, 3, 8)}\n",
      "{6270: (104, 202, 3, 5)} {6271: (108, 206, 4, 3), 6272: (104, 199, 3, 4), 6273: (106, 208, 5, 5)}\n",
      "{7166: (152, 47, 7, 4)} {7165: (191, 54, 6, 7)}\n",
      "{109: (111, 249, 5, 6)} {45: (113, 248, 9, 8), 108: (113, 221, 6, 7)}\n",
      "{2488: (180, 120, 3, 3), 3267: (74, 213, 6, 5)} {2357: (53, 165, 6, 6), 2487: (158, 104, 4, 2), 2489: (165, 107, 5, 5), 2490: (159, 105, 4, 3), 2491: (150, 110, 6, 7), 2553: (73, 223, 5, 6), 2554: (87, 194, 6, 6), 2970: (9, 231, 7, 6), 3266: (72, 196, 7, 8), 3268: (82, 195, 9, 7), 3269: (52, 160, 6, 6)}\n",
      "{19: (52, 52, 7, 11), 21: (49, 179, 3, 4)} {18: (56, 245, 11, 7), 20: (73, 219, 5, 6), 22: (35, 228, 10, 5), 317: (32, 107, 13, 9), 318: (64, 213, 5, 4)}\n",
      "{277: (5, 40, 7, 9)} {275: (16, 24, 4, 5), 276: (12, 31, 4, 5), 1634: (0, 45, 7, 10), 1635: (6, 22, 12, 9)}\n",
      "{94: (0, 108, 1, 1)} {93: (44, 123, 3, 3), 614: (47, 117, 3, 4)}\n",
      "{13: (56, 67, 4, 5)} {14: (27, 106, 4, 7)}\n",
      "{925: (119, 137, 7, 6), 1059: (123, 172, 5, 7)} {789: (203, 205, 7, 6), 790: (228, 183, 8, 15), 791: (224, 221, 8, 5), 792: (132, 124, 4, 4), 793: (104, 193, 4, 4), 923: (212, 211, 6, 5), 924: (221, 217, 12, 8), 926: (230, 183, 8, 14), 1057: (127, 160, 8, 13), 1058: (139, 193, 4, 4), 1382: (186, 131, 6, 9), 1383: (117, 199, 4, 3), 1384: (251, 160, 5, 5), 1385: (205, 204, 7, 5)}\n",
      "{1895: (253, 51, 3, 3), 1896: (246, 27, 7, 10), 2278: (126, 254, 5, 2)} {1893: (225, 40, 13, 6), 1894: (183, 74, 7, 5), 2023: (182, 60, 11, 7), 2024: (183, 65, 9, 5), 2641: (231, 244, 8, 11)}\n",
      "{5557: (28, 204, 3, 6)} {6061: (25, 189, 6, 4)}\n",
      "{5745: (223, 161, 7, 3)} {5744: (201, 162, 15, 12), 5746: (238, 183, 9, 12), 5747: (210, 164, 12, 13), 5956: (200, 189, 8, 5), 5957: (196, 189, 4, 5), 5959: (197, 179, 5, 6), 5960: (217, 185, 11, 6)}\n",
      "{6739: (225, 94, 9, 5), 6754: (133, 72, 10, 15), 7069: (251, 130, 5, 2), 7070: (251, 135, 5, 3), 7259: (245, 126, 6, 16)} {6738: (233, 92, 7, 7), 6740: (218, 94, 7, 5), 6752: (140, 73, 15, 14)}\n",
      "{2165: (98, 232, 7, 5), 2169: (94, 133, 8, 5), 3366: (27, 160, 8, 8)} {2164: (87, 251, 5, 5), 2166: (87, 139, 3, 4), 2167: (103, 175, 4, 5), 2168: (94, 232, 5, 6), 3365: (15, 173, 10, 7)}\n",
      "{146: (4, 0, 6, 6), 148: (14, 24, 5, 5), 196: (13, 1, 8, 6)} {147: (13, 30, 6, 6), 193: (12, 4, 3, 3), 197: (15, 33, 5, 5), 198: (10, 36, 7, 6)}\n",
      "{6853: (94, 242, 5, 7), 6854: (81, 65, 5, 5), 6892: (91, 83, 6, 5)} {6636: (72, 88, 5, 5), 6637: (15, 70, 3, 4), 6638: (68, 86, 4, 5), 6852: (97, 241, 4, 6), 6959: (0, 156, 5, 4)}\n",
      "{3758: (92, 114, 4, 2), 3759: (86, 108, 7, 4), 3760: (92, 115, 5, 4)} {3761: (88, 109, 3, 3), 4204: (17, 105, 3, 2), 4205: (21, 110, 6, 5), 4206: (21, 108, 2, 2), 4207: (19, 105, 4, 3), 4208: (17, 106, 4, 6), 4561: (69, 80, 3, 1), 4562: (67, 81, 4, 3), 4563: (68, 83, 6, 2)}\n",
      "{2121: (68, 20, 6, 6)} {2123: (68, 13, 5, 6), 2649: (12, 140, 4, 5), 3465: (75, 19, 9, 8), 3469: (71, 23, 11, 10), 3473: (68, 55, 6, 8), 3474: (66, 106, 9, 9)}\n",
      "{4457: (115, 0, 3, 2)} {3769: (151, 4, 5, 5), 3770: (149, 5, 5, 5), 3823: (53, 33, 4, 4), 3824: (48, 33, 3, 4), 3825: (42, 35, 7, 5), 3826: (50, 34, 4, 3), 4090: (106, 12, 5, 4), 4453: (118, 0, 3, 3), 4456: (121, 0, 4, 4)}\n",
      "{3893: (222, 77, 3, 5), 4002: (191, 69, 3, 2), 4003: (193, 69, 5, 3), 5214: (209, 82, 6, 4)} {3890: (225, 78, 2, 3), 3891: (220, 74, 2, 3), 3892: (222, 74, 2, 3), 3894: (220, 77, 4, 4), 3895: (224, 74, 3, 4), 4000: (190, 70, 1, 2), 4001: (193, 71, 3, 3), 4004: (191, 71, 2, 2), 4005: (191, 70, 4, 2), 5055: (187, 74, 10, 8), 5056: (193, 81, 3, 4), 5057: (196, 83, 1, 2), 5058: (196, 80, 5, 3), 5059: (197, 82, 3, 3), 5060: (195, 77, 6, 4), 5210: (206, 90, 2, 1), 5211: (207, 86, 5, 5), 5212: (206, 88, 3, 2), 5213: (206, 90, 5, 3), 5215: (207, 83, 3, 3)}\n",
      "{3413: (113, 80, 9, 10), 3499: (109, 39, 8, 6)} {2796: (101, 43, 9, 9), 3414: (93, 77, 6, 7), 3415: (124, 43, 4, 6), 3500: (75, 8, 9, 7), 3517: (200, 0, 8, 4)}\n",
      "{6924: (1, 193, 7, 3), 7016: (3, 208, 6, 4), 7017: (47, 209, 4, 9)} {7015: (19, 215, 4, 2)}\n",
      "{6047: (95, 86, 7, 4)} {6048: (93, 86, 21, 12)}\n",
      "{414: (211, 62, 6, 6), 1525: (73, 242, 7, 6)} {49: (201, 136, 10, 5), 199: (213, 86, 3, 5), 200: (173, 126, 12, 6), 413: (216, 72, 9, 8), 415: (217, 64, 5, 6), 429: (203, 74, 6, 3), 430: (196, 71, 7, 3), 512: (209, 112, 4, 4), 513: (205, 109, 5, 3), 514: (217, 115, 4, 4), 515: (213, 114, 4, 3), 516: (204, 110, 5, 5), 517: (210, 111, 4, 3), 611: (234, 79, 3, 3), 612: (196, 68, 9, 4), 1423: (195, 69, 15, 7), 1424: (232, 75, 3, 3), 1425: (232, 72, 4, 3), 1526: (31, 222, 7, 4), 1527: (36, 225, 7, 5)}\n",
      "{744: (32, 37, 3, 4)} {126: (27, 35, 4, 4), 127: (23, 40, 5, 7), 128: (44, 16, 10, 9), 745: (29, 44, 4, 3), 1511: (25, 41, 5, 6), 1512: (28, 36, 4, 4)}\n",
      "{6189: (76, 185, 6, 4)} {6188: (70, 178, 14, 16), 6190: (59, 178, 14, 8), 6191: (58, 185, 13, 21)}\n",
      "{5412: (63, 189, 7, 8)} {5413: (64, 182, 5, 2), 5414: (63, 183, 5, 8), 5415: (68, 183, 5, 8)}\n",
      "{4122: (190, 237, 1, 2), 4123: (191, 236, 3, 3), 4124: (188, 234, 3, 3), 4895: (185, 236, 5, 5), 5250: (190, 233, 3, 4)} {4894: (183, 232, 4, 3), 4896: (184, 234, 5, 4)}\n",
      "{946: (237, 19, 9, 6), 947: (246, 18, 8, 6), 949: (204, 23, 9, 10), 1237: (82, 99, 6, 9)} {507: (78, 122, 7, 6), 508: (99, 128, 7, 6), 509: (85, 122, 14, 9), 510: (83, 125, 6, 6), 948: (225, 64, 7, 12), 1103: (143, 126, 6, 5), 1104: (161, 37, 9, 12), 1236: (84, 100, 8, 9), 1238: (149, 30, 5, 5), 1239: (151, 31, 15, 9), 1240: (87, 102, 7, 9)}\n",
      "{1816: (204, 160, 7, 7), 2520: (207, 207, 6, 7), 2742: (203, 183, 7, 7), 2744: (199, 203, 7, 6), 2745: (180, 178, 5, 6), 2884: (189, 156, 5, 4), 2886: (226, 203, 5, 4), 2887: (184, 157, 6, 7)} {1811: (215, 202, 7, 7), 1812: (210, 194, 9, 8), 1813: (214, 228, 4, 3), 1814: (221, 196, 5, 5), 1815: (210, 229, 6, 6), 1860: (163, 147, 3, 3), 2521: (234, 98, 5, 6), 2523: (208, 198, 7, 7), 2740: (175, 189, 6, 5), 2741: (201, 180, 5, 6), 2885: (244, 122, 2, 2), 3253: (217, 196, 4, 3), 3254: (210, 166, 7, 7), 3373: (185, 194, 5, 4), 3374: (224, 199, 7, 7), 3375: (215, 159, 9, 9), 3376: (215, 192, 8, 6)}\n",
      "{1101: (125, 111, 8, 15), 1227: (208, 69, 8, 4)} {779: (154, 192, 43, 11), 780: (114, 75, 8, 12), 1100: (132, 172, 6, 12), 1102: (217, 143, 9, 10), 1589: (117, 32, 32, 13)}\n",
      "{63: (35, 17, 7, 12), 64: (173, 113, 12, 28), 187: (134, 175, 6, 4), 189: (128, 193, 4, 5), 280: (134, 177, 6, 5), 282: (133, 193, 2, 3), 355: (13, 146, 10, 5)} {61: (9, 52, 11, 15), 186: (152, 190, 4, 5), 188: (115, 160, 8, 7), 190: (130, 184, 8, 7), 278: (150, 198, 2, 4), 279: (154, 188, 3, 3), 281: (118, 154, 7, 6), 356: (13, 155, 4, 8), 380: (20, 157, 6, 6), 1289: (0, 150, 1, 4)}\n",
      "{5128: (161, 14, 5, 9)} {3648: (74, 37, 8, 6), 3649: (109, 10, 4, 6), 3650: (121, 8, 4, 7), 3651: (81, 0, 6, 16), 4190: (151, 9, 11, 32), 4193: (134, 12, 5, 8), 4270: (86, 0, 12, 20), 4271: (25, 0, 9, 2), 4292: (120, 16, 4, 8), 4293: (30, 19, 15, 5), 4723: (25, 0, 24, 5), 4794: (26, 7, 12, 4), 4796: (52, 23, 23, 8), 4797: (92, 12, 5, 8), 5124: (146, 10, 6, 26), 5125: (113, 26, 3, 7), 5126: (112, 13, 4, 9)}\n",
      "{2110: (75, 62, 5, 6), 3118: (97, 31, 6, 7), 3119: (66, 67, 6, 6)} {1809: (216, 189, 6, 6), 1823: (236, 99, 11, 8), 1824: (234, 197, 5, 8), 2350: (231, 196, 7, 8), 2677: (239, 111, 6, 6), 2875: (223, 34, 7, 9), 2989: (144, 17, 6, 7), 2990: (150, 17, 6, 6), 3535: (246, 165, 10, 10), 3536: (217, 188, 8, 5), 3544: (108, 82, 5, 7), 3545: (94, 35, 6, 7), 3546: (70, 68, 5, 5), 3547: (108, 70, 3, 4), 3548: (103, 73, 4, 10), 3549: (97, 86, 10, 8)}\n",
      "{428: (62, 1, 8, 4)} {425: (109, 52, 4, 4), 426: (53, 0, 4, 6), 427: (105, 49, 4, 5)}\n",
      "{90: (181, 25, 7, 5), 92: (183, 38, 5, 5)} {2: (2, 208, 4, 5), 3: (95, 248, 5, 4), 91: (160, 32, 6, 7)}\n",
      "{5705: (0, 250, 6, 6)} {5706: (0, 229, 2, 8)}\n",
      "{5131: (188, 201, 4, 5)} {5044: (188, 196, 3, 5), 5045: (178, 197, 5, 5), 5046: (186, 196, 3, 4), 5047: (193, 197, 2, 4), 5048: (190, 196, 4, 4), 5049: (182, 197, 4, 4), 5129: (193, 201, 2, 3), 5130: (194, 204, 5, 3), 5132: (191, 204, 4, 2), 5133: (186, 200, 4, 5), 5134: (190, 200, 4, 5)}\n",
      "{6327: (107, 174, 6, 6), 7312: (112, 186, 6, 5)} {6326: (123, 164, 6, 5), 6328: (108, 170, 5, 6), 6723: (114, 173, 4, 4), 6724: (112, 171, 3, 5), 7309: (107, 197, 4, 7), 7310: (111, 179, 5, 5), 7311: (107, 178, 4, 5)}\n",
      "{492: (254, 221, 2, 3)} {358: (251, 209, 4, 4), 359: (249, 213, 4, 5), 490: (253, 212, 3, 4), 491: (245, 216, 7, 6), 564: (247, 206, 6, 6), 1045: (244, 225, 4, 4), 1046: (243, 202, 7, 6)}\n",
      "{226: (24, 71, 8, 7), 721: (40, 82, 6, 13)} {224: (54, 17, 7, 12), 225: (63, 10, 10, 14), 227: (54, 5, 7, 6), 719: (13, 78, 12, 25), 720: (71, 28, 8, 11)}\n",
      "{5908: (209, 154, 11, 12), 5999: (211, 172, 7, 15)} {5907: (215, 151, 13, 17), 6000: (222, 170, 12, 16)}\n",
      "{160: (82, 211, 3, 3), 732: (77, 210, 4, 3), 881: (112, 243, 6, 8), 1534: (0, 137, 15, 10)} {159: (65, 241, 6, 8), 298: (86, 210, 2, 2), 299: (79, 211, 4, 3), 300: (66, 237, 5, 5), 731: (84, 212, 4, 8), 733: (68, 236, 5, 5), 1535: (15, 137, 28, 16)}\n",
      "{2998: (59, 231, 4, 4), 2999: (17, 172, 8, 7), 3451: (64, 243, 3, 5), 3456: (60, 240, 6, 7)} {2997: (17, 165, 8, 8), 3452: (64, 243, 6, 7), 3454: (0, 235, 3, 7)}\n",
      "{6817: (252, 132, 4, 14), 6848: (229, 114, 8, 9), 7005: (152, 0, 5, 3), 7134: (185, 29, 7, 9), 7135: (48, 103, 11, 7), 7138: (60, 103, 6, 6)} {6771: (188, 35, 3, 5), 6779: (244, 121, 6, 11), 6780: (163, 137, 4, 4), 6781: (162, 92, 8, 8), 6814: (255, 139, 1, 3), 6815: (252, 122, 3, 10), 6847: (235, 114, 6, 9), 7136: (189, 32, 6, 10), 7137: (184, 49, 10, 10), 7139: (66, 102, 9, 11)}\n",
      "{67: (150, 201, 6, 6), 68: (199, 217, 6, 5), 69: (137, 195, 13, 10), 306: (42, 128, 3, 3), 387: (85, 131, 3, 2), 389: (81, 128, 4, 4), 687: (246, 143, 5, 5), 1090: (162, 145, 9, 7), 1092: (170, 183, 8, 6), 1352: (248, 92, 8, 7), 1396: (157, 168, 4, 6), 1398: (154, 169, 4, 4), 1420: (253, 166, 3, 4), 1504: (238, 83, 7, 5), 1505: (246, 74, 5, 5), 1584: (2, 149, 3, 3)} {70: (145, 221, 9, 10), 71: (146, 210, 13, 10), 72: (152, 223, 11, 10), 304: (61, 131, 3, 3), 305: (49, 130, 5, 6), 307: (45, 129, 3, 4), 308: (55, 130, 5, 4), 309: (53, 134, 4, 4), 388: (87, 132, 2, 3), 581: (224, 192, 6, 5), 582: (216, 196, 5, 5), 688: (223, 163, 5, 5), 689: (225, 158, 6, 6), 690: (231, 148, 6, 7), 691: (228, 153, 6, 7), 692: (226, 164, 4, 5), 1089: (177, 185, 9, 7), 1091: (225, 126, 4, 5), 1093: (170, 134, 7, 6), 1094: (176, 121, 9, 9), 1350: (172, 100, 6, 6), 1351: (192, 85, 4, 8), 1397: (159, 159, 5, 4), 1399: (161, 153, 4, 4), 1400: (159, 157, 6, 4), 1401: (151, 172, 4, 4), 1418: (255, 164, 1, 3), 1419: (251, 169, 4, 4), 1490: (243, 69, 6, 11), 1491: (236, 74, 6, 8), 1492: (229, 73, 7, 5), 1502: (242, 79, 5, 5), 1503: (249, 68, 3, 4), 1582: (0, 147, 3, 3), 1583: (0, 145, 1, 1)}\n",
      "{3224: (145, 130, 7, 7)} {3223: (140, 126, 8, 5), 3225: (223, 147, 7, 6)}\n",
      "{4329: (64, 214, 5, 6)} {4264: (62, 236, 6, 5)}\n",
      "{4462: (45, 137, 4, 4)} {3875: (147, 108, 6, 8), 4235: (133, 92, 10, 10), 4458: (50, 128, 5, 6), 4459: (20, 110, 5, 6), 4460: (55, 123, 4, 5), 4461: (50, 119, 4, 5), 4830: (26, 220, 4, 3), 4831: (29, 226, 4, 4), 4832: (30, 220, 5, 6), 4833: (25, 230, 4, 7), 4834: (28, 215, 3, 5), 4835: (34, 225, 7, 6), 4850: (164, 122, 7, 8), 5040: (135, 65, 4, 6), 5041: (133, 59, 4, 5)}\n",
      "{5296: (232, 88, 18, 17), 5821: (205, 59, 4, 5)} {5292: (254, 110, 2, 11), 5293: (234, 99, 22, 11), 5294: (255, 121, 1, 8), 5824: (204, 63, 5, 7), 5825: (205, 55, 7, 6)}\n",
      "{2791: (118, 37, 4, 5)} {2786: (131, 54, 6, 4), 2787: (127, 45, 8, 5), 2788: (120, 39, 6, 5), 2789: (131, 56, 6, 6), 2790: (124, 42, 5, 4), 2869: (220, 0, 7, 4), 2965: (125, 36, 12, 11), 2966: (131, 50, 6, 6), 2967: (125, 55, 6, 8), 3384: (137, 18, 3, 2), 3385: (139, 14, 4, 3), 3386: (136, 11, 4, 4)}\n",
      "{2533: (22, 20, 7, 7)} {2534: (64, 1, 5, 6), 2535: (69, 1, 9, 11), 2537: (59, 0, 3, 2), 2538: (58, 7, 6, 6), 2798: (47, 49, 8, 8), 2842: (70, 0, 7, 5), 2843: (56, 4, 6, 8), 2845: (73, 4, 7, 6)}\n",
      "{5304: (230, 49, 11, 14), 5813: (158, 86, 7, 4)} {5303: (228, 47, 8, 9), 5305: (224, 62, 7, 5), 5306: (227, 55, 5, 7), 5307: (237, 30, 14, 28), 5688: (151, 94, 5, 4), 5810: (51, 145, 9, 17), 5811: (159, 85, 7, 4), 5812: (50, 135, 9, 10), 5814: (159, 83, 7, 3), 6096: (59, 161, 11, 10)}\n",
      "{6307: (193, 146, 9, 3), 6388: (16, 195, 10, 4), 6391: (16, 198, 3, 7), 6479: (186, 206, 3, 8), 6744: (36, 243, 7, 3), 6745: (44, 247, 6, 5), 6747: (32, 248, 3, 5), 6800: (17, 206, 6, 4)} {6389: (12, 193, 5, 6), 6390: (7, 192, 5, 5), 6392: (14, 198, 4, 7), 6746: (36, 245, 7, 3), 6748: (37, 248, 7, 5), 6796: (8, 210, 5, 3), 6798: (16, 209, 7, 4), 6799: (23, 209, 11, 4), 6801: (0, 212, 2, 4), 6932: (0, 160, 2, 4), 6933: (30, 220, 7, 3), 6934: (27, 215, 8, 6)}\n",
      "{769: (0, 52, 2, 4), 770: (0, 48, 1, 2), 1318: (0, 84, 5, 8)} {772: (0, 44, 2, 5), 979: (25, 2, 10, 7), 980: (6, 117, 5, 7)}\n",
      "{6414: (142, 25, 15, 6), 6767: (117, 5, 5, 7)} {6415: (124, 27, 8, 4), 6768: (105, 1, 4, 3), 6769: (112, 0, 2, 3)}\n",
      "{4900: (1, 147, 3, 5)} {3652: (26, 188, 4, 4), 3653: (35, 169, 6, 2), 3654: (27, 159, 4, 3), 4877: (16, 168, 5, 4), 4901: (0, 144, 3, 4), 5227: (20, 164, 6, 5), 5229: (20, 168, 4, 5)}\n",
      "{6371: (65, 224, 6, 3), 6373: (56, 218, 5, 7), 6891: (203, 164, 5, 7)} {6369: (58, 223, 7, 5), 6370: (65, 209, 4, 4), 6372: (57, 226, 7, 5), 6374: (53, 217, 5, 7), 6841: (226, 140, 3, 6), 6888: (200, 184, 3, 4), 6889: (196, 184, 4, 4), 6890: (194, 215, 9, 41)}\n",
      "{6346: (241, 44, 5, 10), 6349: (229, 27, 6, 7)} {6348: (233, 28, 6, 6), 6350: (224, 27, 7, 6)}\n",
      "{5217: (131, 236, 4, 4)} {5216: (128, 240, 6, 5)}\n",
      "{6501: (0, 50, 4, 6)} {7308: (0, 116, 1, 3)}\n",
      "{4371: (152, 34, 7, 10), 4372: (235, 98, 9, 6)} {4823: (162, 0, 10, 10), 4825: (98, 102, 6, 4)}\n",
      "{5452: (246, 204, 4, 3), 5750: (212, 200, 7, 10)} {5453: (236, 182, 3, 8), 5454: (238, 207, 3, 5), 5455: (238, 200, 3, 7), 5456: (245, 198, 5, 4), 5751: (237, 197, 3, 3), 6152: (241, 191, 2, 2), 6153: (242, 192, 4, 3), 6156: (246, 192, 8, 5)}\n",
      "{6427: (185, 57, 4, 9)} {6426: (182, 65, 5, 5)}\n",
      "{3968: (28, 210, 3, 3), 3969: (34, 207, 3, 3), 4505: (129, 155, 6, 4), 5160: (237, 242, 6, 6)} {4246: (22, 187, 3, 3), 4247: (58, 158, 4, 7), 4248: (17, 188, 5, 3), 4249: (65, 165, 4, 5), 4331: (40, 254, 5, 2), 4332: (28, 251, 5, 5), 4493: (192, 183, 3, 3), 4494: (194, 183, 5, 5), 4501: (117, 155, 5, 5), 4502: (126, 160, 5, 3), 4503: (117, 148, 4, 6), 4504: (121, 150, 5, 5), 5161: (243, 240, 7, 5)}\n",
      "{5411: (179, 109, 4, 6), 5496: (168, 9, 6, 4)} {6092: (184, 14, 8, 6), 6093: (179, 104, 3, 7)}\n",
      "{5828: (64, 0, 3, 8)} {5827: (45, 6, 11, 6)}\n",
      "{332: (86, 113, 3, 3), 1168: (90, 53, 8, 11)} {333: (55, 76, 8, 6), 334: (60, 72, 5, 7), 1139: (50, 67, 8, 9), 1169: (88, 46, 6, 6)}\n",
      "{6508: (146, 199, 3, 4), 6509: (154, 192, 7, 3), 6601: (58, 165, 5, 7), 6766: (123, 231, 5, 5), 7181: (72, 199, 4, 3), 7182: (148, 196, 2, 5)} {6600: (135, 222, 3, 6), 6602: (114, 160, 5, 4), 6769: (112, 247, 5, 9), 7184: (60, 196, 5, 6), 7186: (50, 202, 4, 8)}\n",
      "{5676: (136, 0, 14, 12), 5881: (51, 21, 10, 16), 5883: (60, 10, 8, 11)} {5673: (128, 0, 10, 13), 5674: (109, 0, 21, 11), 5880: (66, 8, 8, 12), 5882: (59, 22, 11, 14)}\n",
      "{1803: (77, 97, 8, 8), 1821: (33, 239, 8, 8), 1825: (53, 159, 9, 7), 2330: (37, 168, 7, 6), 2349: (51, 162, 9, 7), 3219: (84, 166, 7, 8), 3614: (27, 134, 7, 7), 3615: (83, 138, 4, 4), 3616: (15, 146, 9, 6)} {1804: (74, 95, 7, 9), 1805: (110, 65, 9, 8), 1810: (2, 170, 10, 10), 1820: (18, 191, 10, 11), 1822: (52, 176, 7, 7), 2329: (32, 157, 6, 5), 2348: (56, 169, 12, 8), 2877: (15, 0, 7, 8), 3048: (49, 138, 11, 11), 3218: (79, 161, 9, 8), 3220: (68, 116, 4, 4), 3227: (81, 102, 4, 6), 3228: (85, 103, 5, 3), 3294: (34, 201, 5, 4), 3535: (0, 169, 2, 4), 3617: (57, 152, 7, 5)}\n",
      "{3660: (7, 220, 3, 4), 4089: (85, 237, 4, 19)} {3662: (22, 220, 8, 7), 4919: (17, 232, 8, 24)}\n",
      "{6825: (140, 242, 4, 5)} {6790: (144, 218, 5, 9), 6791: (102, 213, 7, 5), 6792: (124, 194, 10, 6), 6826: (137, 245, 3, 3), 6975: (133, 245, 4, 3)}\n",
      "{3221: (150, 239, 6, 7)} {3222: (140, 231, 6, 6)}\n",
      "{5488: (41, 23, 7, 5), 5785: (85, 49, 8, 8)} {5483: (44, 19, 5, 6), 5484: (37, 25, 6, 3), 5485: (39, 17, 6, 6), 5486: (46, 21, 13, 11), 5487: (38, 21, 6, 5), 5781: (79, 35, 6, 5), 5782: (81, 46, 8, 9), 5783: (79, 43, 6, 4), 5784: (77, 45, 7, 8), 5786: (86, 37, 8, 9)}\n",
      "{448: (85, 239, 8, 5)} {1049: (178, 240, 6, 8), 1672: (88, 237, 8, 5)}\n",
      "{1354: (40, 228, 9, 6)} {1353: (11, 232, 2, 3), 1355: (9, 231, 2, 3)}\n",
      "{4778: (43, 188, 1, 2), 4779: (41, 187, 2, 2), 4781: (38, 185, 2, 2)} {3916: (252, 220, 3, 4), 3918: (254, 220, 2, 5), 3919: (252, 228, 4, 4), 3920: (249, 219, 5, 5), 4777: (41, 186, 3, 3), 4782: (37, 185, 3, 2)}\n",
      "{52: (70, 80, 6, 5), 557: (79, 104, 4, 4), 1499: (44, 103, 5, 4)} {50: (77, 115, 4, 4), 51: (79, 112, 5, 5), 53: (82, 115, 8, 6), 54: (73, 78, 4, 4), 55: (75, 74, 4, 5), 558: (75, 113, 4, 3), 559: (83, 104, 1, 2), 560: (74, 109, 6, 5), 561: (76, 105, 4, 4), 562: (80, 103, 4, 3), 1290: (88, 90, 4, 3), 1291: (86, 80, 5, 9), 1292: (93, 91, 9, 7), 1496: (44, 114, 4, 2), 1497: (59, 115, 4, 5), 1498: (58, 107, 6, 6), 1500: (57, 116, 3, 3)}\n",
      "{4599: (69, 141, 3, 3)} {4595: (77, 139, 4, 4), 4596: (65, 140, 4, 2), 4597: (69, 139, 5, 3), 4598: (72, 140, 3, 3), 4600: (74, 139, 4, 3)}\n",
      "{6148: (218, 119, 12, 14)} {5657: (63, 130, 12, 6), 5658: (74, 129, 15, 9), 5659: (71, 136, 15, 5), 5787: (162, 172, 11, 9), 6234: (57, 120, 13, 8), 6235: (139, 82, 20, 20), 6236: (64, 119, 12, 8), 6237: (84, 103, 6, 8)}\n",
      "{6315: (0, 10, 1, 4), 6379: (97, 13, 7, 5)} {6380: (95, 16, 7, 7), 6782: (11, 0, 7, 6), 7256: (81, 14, 9, 8)}\n",
      "{6305: (210, 124, 5, 6), 6306: (213, 126, 4, 5), 7083: (193, 168, 5, 4)} {7082: (192, 167, 4, 4), 7084: (185, 174, 3, 4), 7085: (195, 163, 6, 6), 7086: (189, 168, 4, 6)}\n",
      "{3817: (71, 245, 6, 5), 4313: (129, 210, 3, 3), 4452: (115, 251, 4, 3), 4454: (118, 253, 2, 2), 4457: (115, 255, 3, 1)} {3813: (65, 249, 4, 4), 3814: (79, 246, 4, 4), 3815: (69, 248, 4, 4), 3816: (70, 250, 9, 3), 3818: (76, 246, 4, 5), 4312: (56, 193, 8, 9), 4314: (129, 209, 3, 2), 4315: (126, 211, 4, 6), 4316: (127, 204, 4, 6), 4317: (129, 207, 3, 3), 4455: (118, 250, 4, 6), 4456: (121, 254, 3, 2), 4804: (152, 206, 5, 5)}\n",
      "{4148: (214, 104, 3, 4)} {4147: (215, 107, 2, 1), 4149: (216, 104, 2, 3), 4225: (221, 101, 4, 4), 4226: (217, 104, 4, 4), 4227: (223, 102, 4, 3)}\n",
      "{6533: (108, 0, 4, 4)} {6532: (108, 2, 5, 5), 6640: (117, 5, 3, 2), 6641: (116, 2, 4, 3), 6642: (116, 0, 3, 2)}\n",
      "{180: (71, 50, 4, 6), 182: (80, 34, 7, 8), 404: (78, 19, 5, 5), 405: (77, 26, 3, 5), 408: (68, 18, 5, 6), 1280: (159, 0, 5, 3), 1377: (216, 12, 8, 12), 1447: (59, 26, 6, 5)} {179: (55, 59, 5, 6), 181: (83, 24, 4, 4), 403: (73, 16, 5, 6), 406: (65, 12, 5, 4), 795: (235, 43, 12, 7), 1378: (85, 45, 6, 7), 1380: (98, 10, 5, 7), 1445: (75, 21, 9, 6), 1446: (71, 24, 8, 5), 1448: (54, 17, 4, 5), 1449: (57, 17, 6, 6), 1450: (56, 61, 5, 6), 1454: (81, 19, 5, 6), 1455: (65, 36, 7, 6), 1456: (64, 27, 10, 7), 1457: (90, 23, 6, 6), 1458: (70, 27, 7, 4), 1459: (80, 32, 5, 7), 1463: (64, 2, 5, 7), 1464: (63, 0, 4, 2), 1465: (56, 20, 5, 4), 1466: (41, 7, 6, 5), 1467: (61, 10, 6, 4), 1468: (56, 9, 6, 4), 1673: (53, 26, 5, 4), 1674: (35, 0, 10, 10), 1675: (47, 20, 8, 7)}\n",
      "{1691: (7, 233, 13, 7), 2079: (20, 247, 14, 8)} {1690: (39, 254, 3, 2), 2078: (57, 253, 4, 3), 2280: (130, 180, 5, 5), 2281: (0, 166, 3, 4), 3350: (24, 232, 8, 6), 3351: (37, 239, 11, 5)}\n",
      "{6955: (144, 125, 11, 4)} {6953: (144, 127, 9, 10)}\n",
      "{5363: (94, 64, 7, 9), 6192: (151, 189, 13, 8)} {5364: (88, 64, 8, 9), 6178: (150, 164, 16, 9), 6193: (161, 188, 4, 9)}\n",
      "{5690: (57, 92, 7, 4)} {5689: (93, 72, 8, 14), 5693: (57, 84, 7, 9)}\n",
      "{6611: (194, 189, 8, 5), 6612: (184, 144, 8, 6), 6710: (202, 184, 8, 6), 7034: (215, 181, 6, 9)} {6610: (220, 191, 5, 4)}\n",
      "{5985: (94, 120, 11, 10)} {5939: (133, 144, 10, 3)}\n",
      "{6557: (209, 46, 4, 5)} {6553: (212, 48, 7, 4), 6554: (208, 54, 4, 3), 6555: (212, 46, 3, 3), 6556: (211, 53, 9, 5), 6558: (208, 50, 5, 5)}\n",
      "{5401: (43, 184, 6, 6), 5472: (241, 238, 7, 7)} {5400: (65, 182, 8, 6), 5402: (43, 176, 5, 10), 5403: (48, 175, 8, 11), 5404: (41, 176, 3, 5), 5549: (53, 189, 7, 12), 5551: (44, 186, 11, 13)}\n",
      "{7054: (204, 164, 5, 5), 7055: (227, 249, 13, 6), 7313: (254, 211, 2, 6), 7314: (239, 246, 6, 7), 7316: (233, 169, 17, 6)} {7190: (221, 254, 6, 2), 7194: (231, 166, 7, 5), 7195: (247, 203, 5, 6)}\n",
      "{3690: (93, 253, 3, 3)} {5231: (93, 255, 2, 1)}\n",
      "{6520: (108, 161, 5, 7), 6522: (0, 160, 3, 5), 6548: (99, 198, 7, 4), 6983: (0, 190, 6, 5)} {6521: (113, 155, 5, 5), 6523: (103, 154, 7, 7), 6547: (151, 150, 4, 6), 6549: (32, 205, 4, 4), 7004: (250, 122, 4, 5)}\n",
      "{6115: (72, 134, 11, 15)} {5434: (74, 221, 8, 8), 6116: (77, 129, 11, 6)}\n",
      "{5497: (219, 247, 6, 7)} {5498: (219, 253, 6, 3), 5499: (224, 242, 8, 14), 5754: (198, 244, 13, 12), 5755: (213, 240, 12, 10)}\n",
      "{930: (153, 53, 8, 6)} {929: (144, 49, 3, 4), 931: (147, 51, 14, 6), 932: (149, 46, 13, 10), 933: (145, 47, 8, 5)}\n",
      "{584: (193, 75, 6, 6)} {585: (212, 77, 5, 4), 586: (185, 70, 7, 7), 587: (220, 77, 5, 5), 588: (204, 74, 4, 3), 589: (201, 72, 5, 3), 1062: (197, 68, 4, 5), 1063: (207, 74, 4, 4), 1064: (202, 68, 5, 5), 1065: (214, 80, 5, 4)}\n",
      "{635: (79, 144, 4, 7), 636: (37, 166, 8, 6), 639: (30, 165, 6, 5), 1231: (80, 111, 4, 4), 1233: (99, 86, 6, 5)} {634: (34, 171, 5, 8), 637: (82, 136, 6, 9), 638: (97, 140, 6, 11), 943: (164, 166, 5, 5), 1136: (116, 43, 5, 8), 1137: (89, 25, 6, 5), 1138: (110, 42, 3, 5), 1230: (102, 116, 5, 5), 1232: (67, 91, 5, 5)}\n",
      "{5860: (37, 237, 5, 7), 5952: (183, 244, 8, 12)} {5858: (42, 244, 3, 7), 5859: (37, 243, 5, 8), 5861: (41, 237, 4, 8), 5862: (34, 244, 4, 6), 5950: (188, 246, 7, 10), 5953: (180, 244, 6, 12), 5954: (175, 245, 7, 11), 6233: (35, 237, 3, 8)}\n",
      "{6605: (14, 177, 11, 7), 6651: (48, 190, 8, 4), 6652: (59, 219, 8, 7)} {6607: (81, 222, 5, 4)}\n",
      "{1786: (96, 24, 9, 7), 2883: (161, 0, 3, 1), 2912: (194, 77, 5, 5)} {1789: (94, 27, 10, 9), 1931: (85, 30, 5, 5), 2910: (213, 97, 6, 4), 2911: (226, 73, 7, 5), 3412: (222, 28, 5, 6), 3567: (0, 3, 3, 3)}\n",
      "{272: (223, 222, 5, 6), 985: (152, 82, 7, 5)} {125: (249, 92, 6, 8), 494: (252, 170, 4, 7), 498: (248, 185, 6, 4), 499: (251, 178, 5, 6), 984: (159, 68, 5, 5), 986: (193, 96, 8, 10)}\n",
      "{1985: (74, 132, 5, 3), 2953: (64, 134, 6, 5), 2954: (108, 57, 6, 5)} {1984: (104, 31, 8, 5), 2952: (93, 143, 6, 6), 3345: (110, 125, 6, 6), 3346: (55, 84, 5, 7), 3347: (106, 61, 5, 7)}\n",
      "{3932: (61, 111, 1, 4), 3933: (57, 112, 2, 1), 3935: (63, 110, 2, 4), 3937: (59, 111, 2, 4), 4417: (54, 110, 2, 3), 4419: (56, 110, 3, 2)} {3934: (61, 110, 3, 4), 3936: (57, 113, 3, 2), 4420: (58, 110, 2, 2)}\n",
      "{2063: (51, 43, 7, 4)} {2062: (23, 29, 5, 8), 2636: (16, 8, 10, 9)}\n",
      "{6470: (9, 38, 9, 6), 6471: (33, 99, 4, 7), 6705: (86, 179, 3, 3)} {6473: (35, 99, 5, 7), 6474: (30, 100, 5, 6)}\n",
      "{2014: (226, 208, 5, 7), 2119: (210, 213, 6, 4)} {1864: (149, 179, 8, 9), 1867: (135, 177, 4, 5), 1965: (124, 155, 6, 7), 1966: (211, 214, 4, 4), 1967: (225, 249, 2, 3), 1968: (174, 168, 6, 4), 2001: (203, 235, 4, 4), 2002: (219, 245, 7, 7), 2003: (223, 222, 7, 6), 2004: (199, 236, 14, 12), 2015: (229, 208, 6, 8), 2016: (225, 245, 10, 5), 2017: (220, 226, 6, 7), 2117: (230, 216, 6, 5), 2118: (226, 220, 6, 6), 2217: (63, 169, 5, 5), 2218: (128, 203, 5, 6), 2219: (117, 141, 7, 3), 2220: (85, 198, 7, 7), 2221: (90, 160, 8, 8), 2364: (142, 184, 6, 7), 2365: (137, 183, 6, 6), 2366: (135, 186, 6, 6), 2558: (179, 220, 4, 5), 2559: (198, 227, 5, 6), 2560: (214, 247, 9, 8), 2561: (221, 213, 9, 8), 2562: (195, 232, 9, 8), 2563: (222, 249, 12, 7), 3206: (131, 188, 4, 4), 3207: (144, 201, 10, 7), 3208: (128, 182, 6, 5), 3209: (125, 184, 12, 5), 3210: (142, 207, 10, 7)}\n",
      "{3113: (243, 53, 4, 4), 3115: (247, 79, 6, 7)} {3567: (254, 2, 2, 3), 3568: (211, 63, 4, 6)}\n",
      "{6163: (91, 97, 6, 4)} {6164: (88, 99, 6, 9), 6165: (92, 91, 6, 7)}\n",
      "{4931: (112, 233, 4, 4)} {3765: (101, 223, 5, 4), 3766: (108, 254, 3, 2), 3767: (104, 253, 4, 3), 3955: (101, 232, 3, 4), 3956: (109, 235, 3, 2), 3957: (102, 230, 8, 8), 3958: (114, 229, 3, 4), 3959: (100, 227, 4, 4), 3960: (100, 219, 3, 4), 4785: (131, 255, 3, 1), 4929: (107, 226, 4, 5), 4930: (110, 229, 4, 6), 4932: (110, 238, 4, 6), 4933: (103, 224, 4, 5), 4934: (108, 237, 3, 4)}\n",
      "{2087: (134, 161, 5, 8), 3272: (75, 85, 7, 7)} {1778: (3, 40, 5, 5), 2086: (51, 93, 6, 6), 2088: (131, 170, 4, 2), 3014: (79, 98, 6, 5), 3015: (77, 105, 7, 7), 3270: (70, 78, 7, 9), 3271: (131, 171, 4, 5), 3273: (135, 77, 6, 5), 3274: (123, 152, 8, 9)}\n",
      "{2179: (225, 14, 5, 7), 2301: (206, 42, 10, 13)} {2046: (225, 11, 12, 9), 2180: (211, 19, 7, 7), 2302: (211, 44, 8, 9), 2303: (182, 5, 15, 13), 2304: (181, 0, 6, 4)}\n",
      "{2926: (209, 181, 15, 19), 2928: (210, 176, 7, 7)} {1838: (97, 180, 4, 3), 1839: (95, 181, 4, 4), 1840: (60, 218, 6, 6), 2841: (60, 205, 6, 8), 2927: (226, 184, 6, 6), 3407: (32, 174, 4, 3), 3408: (19, 192, 3, 3), 3409: (21, 189, 5, 3), 3410: (30, 172, 4, 3), 3411: (21, 191, 4, 3)}\n",
      "{4210: (98, 38, 3, 3)} {4209: (99, 35, 4, 4), 4211: (97, 39, 5, 4)}\n",
      "{1828: (250, 16, 6, 8), 2233: (196, 60, 14, 6), 2235: (226, 0, 6, 3), 3049: (195, 25, 4, 7)} {2234: (247, 54, 4, 8), 2601: (239, 0, 6, 3), 2602: (245, 13, 2, 4), 2603: (193, 25, 5, 8), 3051: (239, 0, 2, 1)}\n",
      "{5061: (29, 155, 6, 5)} {3659: (94, 18, 3, 7)}\n",
      "{6069: (162, 116, 4, 11), 6072: (138, 144, 8, 4)} {6070: (147, 159, 10, 5), 6071: (175, 165, 5, 14)}\n",
      "{6438: (216, 155, 5, 5), 6439: (218, 149, 6, 5), 6500: (15, 109, 7, 7), 6751: (3, 86, 5, 5), 7069: (0, 130, 3, 2), 7070: (0, 135, 4, 3), 7261: (3, 116, 11, 7)} {6753: (30, 76, 7, 6), 7258: (22, 118, 16, 7), 7260: (23, 110, 10, 9)}\n",
      "{616: (13, 124, 13, 11), 617: (9, 130, 8, 12), 1265: (254, 0, 2, 4)} {1341: (138, 85, 8, 7), 1393: (2, 12, 9, 6), 1431: (126, 216, 7, 8)}\n",
      "{6662: (68, 114, 6, 7), 6664: (11, 137, 12, 5), 6665: (2, 139, 6, 8)} {6458: (220, 130, 3, 4), 6459: (244, 129, 5, 5), 6460: (242, 125, 3, 4), 6461: (232, 125, 5, 3), 6663: (1, 127, 7, 6), 6666: (13, 162, 4, 9), 7045: (51, 168, 4, 7), 7047: (8, 148, 5, 4)}\n",
      "{6626: (227, 24, 5, 8)} {6627: (213, 15, 14, 5), 7024: (202, 104, 10, 4)}\n",
      "{3645: (233, 195, 3, 2), 3677: (211, 190, 5, 6), 3678: (204, 190, 3, 2), 3679: (203, 188, 4, 3), 3711: (226, 210, 3, 2), 3712: (226, 212, 3, 4), 4172: (234, 208, 4, 2), 4173: (231, 207, 2, 3), 4266: (232, 221, 3, 3), 4268: (237, 215, 3, 4), 4539: (235, 192, 2, 3), 4540: (234, 189, 3, 3), 4541: (230, 192, 5, 4), 4542: (229, 196, 4, 2), 4606: (161, 90, 5, 5), 4836: (93, 103, 4, 3), 4837: (95, 105, 3, 5), 4909: (151, 88, 11, 8), 5081: (238, 211, 3, 2)} {3643: (236, 190, 5, 4), 3644: (235, 194, 3, 3), 3676: (203, 186, 3, 3), 3713: (235, 216, 4, 3), 4174: (231, 205, 5, 3), 4265: (239, 216, 3, 2), 4269: (236, 218, 4, 3), 4607: (160, 88, 6, 4), 5079: (238, 213, 4, 2), 5080: (241, 211, 5, 4), 5082: (240, 209, 4, 4), 5083: (239, 208, 4, 3)}\n",
      "{6669: (171, 73, 3, 4), 6962: (229, 55, 3, 5), 6963: (225, 54, 5, 5)} {6667: (216, 26, 2, 2), 6668: (169, 76, 4, 5), 6670: (173, 71, 3, 4), 6964: (230, 56, 5, 4), 6965: (231, 62, 5, 4)}\n",
      "{6675: (224, 28, 7, 6), 6845: (2, 4, 6, 7)} {6674: (107, 26, 6, 5)}\n",
      "{377: (211, 244, 15, 12), 776: (99, 17, 5, 4)} {378: (230, 210, 4, 3), 775: (88, 42, 5, 4), 777: (115, 7, 2, 3), 1460: (8, 159, 2, 2), 1461: (22, 25, 9, 6)}\n",
      "{575: (225, 103, 7, 6), 1245: (217, 86, 8, 13), 1591: (153, 91, 5, 5)} {437: (183, 110, 13, 9), 438: (167, 106, 8, 6), 439: (176, 106, 8, 6), 573: (189, 101, 5, 5), 574: (193, 103, 4, 4), 576: (176, 95, 5, 4), 1241: (126, 61, 12, 14), 1243: (213, 90, 7, 9), 1244: (212, 99, 4, 5), 1246: (216, 97, 4, 6), 1590: (201, 125, 7, 9), 1592: (170, 64, 17, 10), 1593: (193, 138, 10, 7), 1594: (157, 87, 4, 6), 1595: (122, 39, 7, 8)}\n",
      "{6384: (69, 239, 3, 3)} {6385: (65, 240, 4, 5), 6386: (69, 241, 6, 6)}\n",
      "{4440: (241, 200, 1, 1), 4442: (238, 197, 1, 1), 4478: (232, 102, 4, 4), 4612: (238, 192, 2, 2), 4705: (245, 195, 4, 3), 4706: (241, 195, 5, 4), 4707: (239, 198, 3, 2), 4708: (237, 193, 5, 5)} {3981: (224, 97, 5, 3), 4030: (247, 103, 2, 1), 4031: (246, 104, 3, 3), 4032: (247, 100, 3, 3), 4079: (211, 33, 5, 5), 4080: (229, 54, 4, 3), 4479: (228, 102, 5, 3), 4480: (235, 103, 5, 3), 5195: (188, 22, 2, 6)}\n",
      "{401: (9, 94, 7, 7)} {800: (172, 0, 10, 13)}\n",
      "{1330: (9, 19, 4, 5)} {1329: (0, 21, 6, 10), 1331: (16, 6, 7, 6)}\n",
      "{5105: (0, 45, 8, 7)} {3675: (3, 23, 6, 9), 3878: (7, 25, 13, 10), 3879: (2, 35, 7, 7), 3910: (11, 33, 8, 8), 3911: (17, 29, 8, 8), 4233: (10, 36, 5, 8), 4234: (8, 45, 6, 11), 5187: (0, 35, 1, 5), 5188: (0, 30, 6, 5)}\n",
      "{7102: (46, 242, 5, 3), 7118: (0, 169, 5, 6), 7204: (15, 167, 4, 4), 7205: (14, 170, 4, 4), 7325: (1, 173, 8, 7)} {6722: (9, 231, 7, 3), 7119: (26, 171, 3, 11), 7148: (55, 49, 9, 4), 7154: (80, 242, 3, 3), 7155: (72, 230, 6, 7), 7156: (74, 238, 6, 4), 7326: (30, 170, 2, 13), 7327: (0, 164, 4, 8)}\n",
      "{5341: (58, 240, 4, 5), 5342: (124, 249, 13, 6), 5343: (151, 177, 9, 17), 5830: (125, 243, 11, 9), 5832: (146, 177, 10, 17), 5833: (156, 243, 9, 5), 6266: (78, 207, 8, 12), 6267: (143, 252, 4, 4), 6269: (81, 191, 7, 18)} {5340: (52, 243, 10, 13), 5831: (57, 239, 5, 5), 6238: (144, 249, 6, 3), 6268: (138, 191, 15, 10)}\n",
      "{3610: (93, 64, 4, 3)} {2039: (89, 155, 5, 5), 2040: (96, 158, 7, 7), 2432: (117, 173, 5, 5), 2433: (121, 176, 9, 7), 2716: (64, 42, 7, 8), 3609: (146, 55, 16, 14)}\n",
      "{239: (0, 56, 2, 2)} {237: (1, 61, 3, 3), 241: (0, 64, 2, 3), 877: (2, 58, 2, 3), 878: (0, 59, 2, 3)}\n",
      "{2042: (37, 195, 7, 8), 2654: (123, 166, 8, 10), 2655: (121, 158, 12, 10), 2939: (156, 95, 7, 7), 3311: (61, 122, 6, 5)} {2041: (95, 108, 13, 14), 2043: (21, 164, 10, 13), 2044: (128, 149, 12, 16), 2388: (175, 189, 8, 5), 2389: (212, 114, 6, 3), 2441: (63, 165, 7, 7), 2442: (52, 166, 5, 5), 2443: (60, 165, 5, 5), 2506: (213, 147, 7, 6), 2507: (202, 141, 11, 8), 2508: (194, 138, 9, 7), 2652: (116, 171, 13, 11), 2653: (116, 163, 11, 10), 2820: (62, 156, 9, 10), 2922: (209, 131, 5, 5), 2923: (180, 76, 8, 10), 2924: (149, 118, 6, 7), 2925: (217, 135, 4, 7), 2938: (211, 135, 7, 9), 2940: (153, 102, 10, 8), 2941: (192, 63, 9, 9), 3309: (72, 42, 7, 7), 3310: (59, 173, 9, 8)}\n",
      "{3811: (212, 219, 6, 9), 3812: (207, 220, 5, 7)} {3810: (201, 222, 4, 4)}\n",
      "{6898: (172, 80, 11, 6)} {6772: (125, 112, 12, 5), 6773: (126, 116, 11, 4), 6893: (134, 59, 7, 8), 6894: (191, 62, 6, 6), 6895: (163, 36, 8, 4), 6896: (149, 46, 8, 5), 6897: (205, 69, 6, 7), 6991: (105, 101, 5, 7)}\n",
      "{1808: (97, 232, 4, 4)} {1725: (135, 152, 5, 5), 1726: (137, 151, 4, 4), 1806: (99, 238, 3, 5), 1807: (98, 234, 4, 5), 2309: (97, 248, 5, 7), 2310: (98, 254, 4, 2), 2750: (168, 166, 6, 6), 2751: (141, 187, 8, 10), 2824: (138, 252, 2, 4), 3581: (138, 147, 6, 7)}\n",
      "{2951: (93, 155, 5, 4)} {2335: (96, 153, 4, 3), 3152: (193, 128, 6, 9), 3153: (195, 129, 7, 10)}\n",
      "{3405: (176, 185, 6, 9)} {3401: (180, 197, 4, 4), 3404: (247, 228, 5, 6)}\n",
      "{2868: (144, 212, 4, 4)} {2869: (220, 254, 3, 2), 2870: (153, 221, 4, 3)}\n",
      "{6200: (0, 195, 3, 6)} {6196: (18, 144, 8, 9), 6197: (5, 188, 11, 6), 6198: (0, 199, 5, 11), 6199: (5, 137, 7, 6), 6201: (22, 140, 8, 9)}\n",
      "{3697: (175, 137, 15, 27), 3700: (98, 100, 14, 6), 4927: (0, 167, 7, 21)} {3698: (88, 129, 11, 27), 3699: (126, 54, 23, 18)}\n",
      "{5459: (102, 186, 5, 4)} {5457: (141, 233, 15, 14)}\n",
      "{4230: (212, 59, 7, 6)} {3666: (236, 47, 3, 4), 3667: (233, 46, 4, 8), 3668: (230, 54, 3, 5), 4231: (207, 37, 5, 5), 4232: (206, 48, 6, 3), 4637: (195, 27, 5, 5), 4638: (195, 8, 5, 7), 4639: (190, 31, 5, 5), 5154: (214, 38, 6, 5), 5155: (219, 34, 5, 4), 5156: (211, 36, 4, 5)}\n",
      "{5288: (235, 0, 15, 7), 5652: (54, 115, 15, 15)} {5650: (43, 125, 10, 12), 5651: (51, 107, 9, 12), 5868: (210, 46, 13, 7), 5869: (231, 33, 9, 19), 5871: (225, 49, 9, 11)}\n",
      "{4746: (182, 22, 3, 3), 4870: (210, 21, 2, 3), 4871: (206, 21, 3, 4), 4872: (188, 20, 4, 4), 4874: (208, 21, 3, 4)} {4745: (184, 23, 4, 7), 4747: (185, 20, 4, 4), 4869: (193, 18, 4, 6), 4873: (201, 20, 4, 4)}\n",
      "{2986: (213, 29, 6, 4), 3001: (109, 63, 10, 8), 3160: (155, 53, 8, 8), 3161: (207, 45, 4, 5)} {2984: (208, 60, 4, 5), 2985: (122, 68, 4, 4), 2988: (118, 65, 5, 5), 3000: (118, 70, 6, 5), 3031: (110, 113, 2, 5), 3032: (164, 114, 2, 2), 3033: (165, 111, 5, 5), 3034: (111, 113, 3, 4), 3035: (164, 115, 5, 5), 3036: (106, 113, 4, 5), 3126: (144, 85, 4, 3), 3127: (150, 83, 4, 4), 3128: (144, 81, 6, 5), 3129: (148, 85, 4, 4), 3158: (160, 53, 5, 8), 3159: (212, 45, 6, 7), 3162: (149, 52, 2, 6), 3163: (150, 52, 6, 7)}\n",
      "{6295: (204, 20, 11, 8)} {6296: (202, 18, 8, 7), 6297: (208, 19, 7, 5), 6298: (212, 22, 7, 7)}\n",
      "{1798: (173, 213, 6, 6)} {1799: (252, 137, 2, 4), 1800: (149, 197, 4, 3), 2174: (70, 37, 8, 9), 3501: (241, 205, 10, 7), 3502: (176, 225, 5, 6)}\n",
      "{6285: (53, 210, 11, 8)} {5572: (58, 149, 9, 10), 5573: (19, 178, 1, 1), 5574: (17, 168, 19, 12), 5642: (228, 166, 7, 7), 5853: (154, 122, 14, 9)}\n",
      "{4644: (91, 132, 8, 7)} {4640: (92, 143, 4, 3), 4641: (93, 129, 7, 7), 4642: (89, 137, 8, 7), 4643: (91, 120, 5, 4), 4645: (92, 123, 6, 4)}\n",
      "{1011: (220, 180, 13, 9), 1014: (223, 173, 9, 6)} {58: (50, 136, 9, 11), 874: (192, 43, 5, 5), 875: (150, 4, 3, 4), 1012: (167, 0, 6, 7), 1013: (217, 17, 13, 10), 1665: (37, 187, 26, 16), 1666: (13, 100, 14, 11)}\n",
      "{6793: (73, 220, 8, 8)} {6794: (61, 166, 6, 6)}\n",
      "{2962: (36, 147, 10, 12)} {2005: (199, 109, 8, 6), 2006: (179, 172, 4, 4), 2007: (180, 175, 5, 5), 2008: (176, 171, 4, 4), 2009: (173, 170, 5, 4), 2638: (252, 237, 4, 8), 2961: (50, 184, 5, 6), 3068: (30, 115, 6, 7), 3069: (97, 81, 5, 6), 3070: (50, 240, 11, 7)}\n",
      "{1194: (196, 74, 25, 12), 1197: (141, 47, 5, 4)} {950: (104, 98, 6, 4), 951: (102, 103, 4, 2), 1193: (143, 220, 15, 8), 1195: (169, 148, 3, 5), 1198: (135, 217, 7, 6)}\n",
      "{1989: (210, 222, 11, 12)} {1990: (205, 217, 11, 10), 2629: (233, 234, 8, 10), 2630: (223, 232, 6, 6)}\n",
      "{2345: (14, 111, 5, 5), 2852: (206, 41, 5, 5)} {2222: (14, 96, 7, 7), 2223: (47, 105, 3, 3), 2224: (60, 117, 7, 7), 2344: (58, 119, 8, 7), 2346: (49, 107, 4, 4), 2992: (14, 121, 2, 4), 2993: (56, 135, 5, 4), 2994: (54, 130, 3, 4), 2995: (15, 119, 5, 6), 2996: (41, 125, 4, 5), 3080: (248, 11, 8, 13), 3216: (0, 87, 7, 7), 3217: (31, 79, 7, 7), 3244: (56, 122, 7, 8), 3298: (24, 103, 8, 8), 3299: (52, 123, 9, 10)}\n",
      "{5429: (61, 229, 11, 10)} {5430: (62, 212, 13, 11)}\n",
      "{5718: (30, 81, 14, 15), 5724: (27, 59, 16, 12), 5924: (62, 67, 8, 7)} {5717: (27, 59, 3, 7), 5719: (27, 201, 13, 9), 5721: (213, 86, 21, 14), 5722: (39, 194, 20, 20), 5723: (33, 146, 17, 16), 6275: (0, 71, 19, 15), 6276: (68, 70, 5, 5)}\n",
      "{2809: (104, 245, 5, 4), 3608: (7, 221, 3, 4)} {2555: (47, 214, 4, 6), 2557: (19, 243, 4, 6), 2807: (117, 249, 5, 5), 3606: (13, 249, 7, 7)}\n",
      "{4058: (199, 69, 11, 14), 4321: (35, 218, 10, 11)} {3753: (35, 209, 19, 3), 3754: (42, 141, 9, 12), 3755: (60, 145, 4, 7), 4180: (31, 209, 9, 10), 4322: (59, 123, 15, 14), 4721: (93, 140, 12, 11), 4722: (93, 149, 9, 8)}\n",
      "{5694: (136, 192, 15, 6), 6209: (154, 203, 17, 8), 6210: (152, 172, 12, 21)} {5695: (151, 167, 6, 8), 6208: (156, 191, 14, 6)}\n",
      "{1999: (20, 244, 2, 3)} {2000: (20, 249, 7, 6), 3552: (18, 243, 2, 3), 3553: (25, 250, 8, 6)}\n",
      "{4038: (66, 26, 2, 3), 4125: (122, 241, 7, 4), 4126: (123, 244, 5, 3), 4601: (112, 233, 4, 3), 4602: (110, 235, 6, 3), 4682: (58, 90, 2, 3)} {4033: (63, 26, 2, 3), 4034: (62, 22, 2, 3), 4035: (64, 22, 2, 2), 4036: (65, 26, 2, 3), 4037: (64, 24, 2, 2), 4681: (59, 91, 2, 2), 4683: (55, 92, 3, 3), 4684: (56, 91, 2, 3), 4685: (57, 92, 3, 2), 4691: (58, 87, 4, 2), 4692: (59, 89, 2, 2), 4693: (57, 89, 3, 2), 4694: (61, 89, 3, 3), 5009: (63, 30, 2, 4), 5010: (59, 35, 2, 1), 5011: (59, 32, 3, 3), 5012: (62, 31, 2, 3), 5013: (60, 30, 2, 3)}\n",
      "{274: (199, 248, 3, 4), 296: (180, 211, 5, 3), 505: (174, 201, 4, 6), 1202: (82, 118, 9, 4), 1485: (196, 241, 3, 2)} {292: (183, 218, 4, 4), 293: (181, 214, 4, 7), 294: (180, 213, 4, 5), 295: (184, 214, 5, 4), 342: (141, 65, 6, 11), 502: (168, 200, 8, 6), 503: (163, 194, 12, 9), 577: (18, 59, 6, 5), 583: (142, 50, 7, 15), 920: (186, 234, 3, 4), 921: (181, 247, 1, 3), 1185: (182, 246, 2, 4), 1187: (128, 253, 7, 3), 1200: (42, 53, 8, 5), 1201: (41, 47, 5, 4), 1483: (196, 240, 4, 2), 1486: (197, 238, 3, 3), 1487: (187, 240, 7, 7)}\n",
      "{848: (182, 239, 7, 6), 884: (125, 179, 5, 5), 885: (126, 169, 7, 6), 886: (127, 184, 4, 4)} {674: (224, 152, 6, 5)}\n",
      "{4240: (240, 198, 7, 7)} {3723: (237, 212, 4, 4), 3724: (250, 212, 6, 10), 3725: (235, 214, 5, 7), 4242: (243, 201, 6, 5), 4243: (246, 198, 4, 4), 4244: (245, 197, 3, 3), 4413: (247, 206, 9, 6)}\n",
      "{2132: (230, 0, 7, 5)} {1877: (227, 0, 2, 1), 1879: (224, 0, 2, 2), 1981: (234, 250, 5, 6), 1982: (234, 246, 4, 5), 1983: (225, 243, 4, 5), 2094: (249, 255, 3, 1), 2133: (235, 0, 2, 2), 2546: (219, 240, 5, 6)}\n",
      "{475: (167, 46, 7, 8), 829: (182, 34, 7, 4), 832: (157, 72, 3, 3), 1051: (158, 67, 6, 5), 1214: (49, 78, 7, 3)} {444: (55, 86, 1, 1), 445: (49, 69, 5, 7), 446: (59, 68, 4, 5), 447: (68, 74, 5, 3), 474: (148, 36, 4, 4), 476: (181, 80, 5, 3), 830: (178, 94, 9, 5), 831: (170, 77, 6, 4), 833: (160, 73, 8, 5), 834: (176, 96, 9, 7), 1050: (154, 80, 5, 4), 1052: (178, 44, 6, 4), 1053: (54, 43, 6, 5), 1114: (137, 77, 10, 8), 1115: (148, 95, 7, 8), 1116: (178, 27, 12, 8), 1215: (50, 64, 3, 5), 1216: (50, 80, 9, 5), 1217: (53, 65, 7, 5), 1218: (70, 8, 6, 5), 1219: (51, 83, 9, 4), 1668: (74, 74, 9, 4), 1669: (60, 66, 3, 3), 1670: (68, 72, 6, 3), 1671: (71, 79, 6, 5)}\n",
      "{5972: (82, 197, 8, 5)} {5679: (185, 213, 10, 9), 5969: (56, 254, 10, 2)}\n",
      "{7271: (150, 251, 5, 4)} {6578: (112, 176, 6, 9), 6579: (103, 175, 10, 9), 6580: (118, 178, 8, 8), 7269: (133, 242, 2, 5), 7270: (144, 249, 3, 4), 7272: (133, 248, 3, 3)}\n",
      "{5529: (202, 104, 20, 9), 5948: (72, 74, 14, 21)} {5530: (202, 95, 20, 11), 5568: (99, 52, 30, 15), 5569: (115, 44, 14, 11), 5571: (100, 48, 12, 6)}\n",
      "{541: (220, 24, 11, 7)} {12: (214, 39, 11, 9), 543: (201, 102, 17, 9)}\n",
      "{2812: (65, 247, 8, 7)} {2188: (186, 147, 7, 8), 2189: (189, 149, 6, 8), 2190: (191, 150, 7, 9), 2811: (185, 216, 5, 5), 2929: (175, 236, 7, 8), 2930: (179, 238, 8, 9)}\n",
      "{4133: (149, 3, 2, 3), 4134: (150, 6, 2, 3)} {4130: (148, 7, 3, 1), 4131: (149, 5, 1, 2), 4132: (150, 3, 3, 3), 4135: (150, 5, 2, 2), 5144: (147, 8, 2, 2), 5145: (147, 10, 2, 1), 5146: (148, 12, 3, 3), 5147: (149, 10, 2, 2), 5148: (147, 11, 2, 4), 5149: (149, 8, 3, 2)}\n",
      "{3846: (189, 136, 3, 2), 4905: (59, 216, 5, 7)} {4506: (235, 251, 3, 3), 4508: (237, 251, 4, 3), 4509: (229, 251, 5, 3), 4520: (235, 255, 3, 1), 4522: (229, 255, 5, 1), 4523: (240, 255, 3, 1), 4903: (76, 216, 4, 5), 4904: (63, 213, 3, 5), 4906: (60, 211, 5, 6), 5247: (80, 223, 3, 3)}\n",
      "{25: (2, 42, 3, 4)} {23: (0, 41, 1, 3), 24: (0, 44, 2, 3)}\n",
      "{6783: (108, 247, 11, 9), 6816: (13, 110, 5, 5), 6817: (0, 133, 1, 5), 7168: (43, 234, 6, 13)} {6351: (34, 232, 7, 7), 6382: (118, 250, 6, 6), 6469: (112, 243, 6, 7), 6814: (0, 136, 5, 6), 6846: (0, 111, 8, 10), 7169: (24, 218, 4, 4), 7222: (14, 243, 8, 5), 7223: (55, 246, 6, 6)}\n",
      "{3801: (9, 196, 1, 5), 4171: (54, 133, 9, 10), 4197: (109, 14, 4, 10), 4651: (114, 67, 6, 5), 4822: (9, 190, 19, 6)} {3845: (71, 179, 9, 6), 3971: (68, 66, 15, 6), 4170: (10, 164, 19, 9), 4195: (112, 50, 4, 4), 4196: (116, 45, 9, 6), 4198: (108, 22, 4, 9), 4650: (97, 63, 9, 8), 4652: (99, 78, 7, 7), 4864: (14, 129, 6, 6), 4865: (76, 141, 10, 12)}\n",
      "{2207: (18, 242, 4, 5), 3590: (110, 237, 4, 5)} {2208: (46, 245, 12, 9), 2209: (20, 251, 7, 5), 2210: (20, 243, 5, 5), 2892: (51, 241, 9, 7), 2894: (52, 235, 12, 11), 3592: (58, 247, 5, 5)}\n",
      "{2382: (186, 187, 8, 7), 3379: (198, 244, 16, 12), 3485: (180, 181, 6, 7)} {2320: (179, 204, 14, 12), 2321: (187, 232, 15, 14), 2322: (188, 219, 11, 12), 2378: (193, 194, 6, 6), 2380: (193, 240, 14, 10), 3330: (184, 216, 10, 11), 3377: (194, 227, 8, 7), 3378: (182, 207, 13, 15), 3486: (203, 202, 5, 8)}\n",
      "{2476: (155, 234, 6, 6), 3201: (108, 215, 15, 13)} {1845: (160, 231, 4, 4), 1846: (146, 231, 5, 5), 1847: (171, 205, 5, 5), 2461: (131, 214, 6, 5), 2463: (123, 216, 5, 4), 3543: (126, 218, 4, 4)}\n",
      "{1755: (78, 121, 5, 5)} {1756: (81, 184, 7, 7), 1757: (64, 133, 6, 6), 1758: (64, 140, 5, 6), 1759: (95, 195, 8, 8), 2328: (112, 247, 5, 5), 2645: (80, 185, 7, 5)}\n",
      "{4229: (183, 105, 7, 10), 4538: (153, 97, 7, 6), 4840: (60, 209, 7, 15), 4841: (53, 219, 9, 6)} {4228: (188, 109, 6, 9), 4445: (148, 95, 7, 6), 4446: (147, 99, 10, 7), 4537: (157, 98, 5, 6)}\n",
      "{5018: (191, 249, 3, 4)} {5019: (189, 248, 3, 3), 5021: (193, 251, 2, 4), 5022: (192, 251, 1, 5), 5023: (188, 250, 4, 5)}\n",
      "{2485: (161, 10, 4, 5), 2979: (156, 247, 5, 6)} {2486: (195, 95, 3, 4), 2981: (175, 235, 4, 5), 3391: (176, 95, 6, 5)}\n",
      "{5632: (230, 141, 17, 31)} {5633: (236, 173, 10, 13)}\n",
      "{7317: (220, 185, 3, 4)} {7318: (217, 225, 9, 5)}\n",
      "{2376: (166, 151, 5, 5), 2377: (163, 134, 6, 6), 2857: (229, 60, 5, 4), 3527: (97, 70, 7, 5)} {1801: (168, 152, 5, 6), 2058: (166, 136, 5, 6), 2059: (138, 131, 5, 5), 2425: (167, 98, 4, 5), 2427: (179, 102, 18, 12), 2874: (133, 28, 7, 8), 3440: (143, 60, 8, 7), 3528: (164, 97, 5, 5)}\n",
      "{2391: (131, 198, 7, 11)} {2390: (185, 253, 3, 3), 2392: (199, 248, 3, 3), 2680: (27, 242, 6, 10), 2681: (16, 226, 7, 12), 2682: (34, 246, 7, 10)}\n",
      "{7146: (211, 164, 6, 6), 7147: (162, 234, 4, 5)} {6676: (216, 165, 8, 6), 6677: (212, 162, 4, 3), 7280: (174, 165, 4, 8), 7281: (182, 163, 8, 5), 7282: (189, 160, 10, 6), 7283: (179, 166, 4, 4)}\n",
      "{260: (64, 208, 4, 6)} {259: (62, 202, 5, 11), 794: (29, 253, 8, 3)}\n",
      "{945: (208, 192, 5, 10)} {36: (213, 181, 5, 6), 553: (181, 85, 14, 12), 889: (174, 149, 3, 3), 944: (201, 226, 4, 4), 1647: (193, 133, 9, 7), 1648: (203, 139, 5, 5)}\n",
      "{5887: (126, 95, 11, 20)} {5318: (96, 67, 8, 13), 5886: (117, 114, 20, 7), 5888: (42, 141, 10, 12), 5889: (91, 115, 6, 5)}\n",
      "{603: (33, 105, 3, 4), 714: (17, 147, 4, 6), 715: (25, 90, 3, 3)} {384: (110, 51, 12, 7), 385: (75, 14, 10, 8), 601: (10, 127, 6, 4), 680: (53, 150, 6, 5), 681: (77, 104, 4, 5), 717: (21, 202, 6, 11), 900: (10, 116, 4, 5)}\n",
      "{1735: (43, 147, 6, 8), 3103: (40, 144, 5, 8), 3177: (116, 205, 4, 4)} {1734: (52, 141, 6, 8), 2516: (89, 229, 5, 4), 2517: (118, 204, 3, 3), 3012: (50, 140, 6, 8), 3013: (41, 146, 6, 8), 3096: (115, 203, 3, 4), 3097: (87, 230, 6, 5), 3102: (68, 127, 5, 4), 3104: (47, 139, 8, 8), 3176: (91, 227, 4, 4)}\n",
      "{6366: (2, 170, 5, 11), 7092: (114, 241, 9, 8)} {6362: (18, 230, 5, 4), 6363: (23, 231, 7, 4)}\n",
      "{6195: (200, 51, 6, 6)} {6194: (156, 175, 4, 5)}\n",
      "{1856: (199, 95, 5, 8), 1858: (194, 95, 5, 4), 2414: (231, 93, 4, 3), 3398: (198, 208, 3, 3)} {1692: (234, 92, 4, 4), 1857: (193, 97, 7, 4), 3396: (183, 184, 4, 4), 3397: (182, 180, 5, 4)}\n",
      "{5610: (0, 133, 6, 9)} {5609: (121, 38, 21, 7)}\n",
      "{648: (64, 2, 8, 10)} {542: (56, 58, 7, 7), 646: (66, 0, 3, 2), 647: (2, 103, 11, 7)}\n",
      "{2232: (109, 177, 13, 8), 2235: (226, 250, 9, 6)} {2236: (155, 204, 6, 13), 2600: (215, 243, 7, 5), 2601: (242, 254, 3, 2), 3050: (216, 238, 6, 6), 3051: (238, 252, 6, 4)}\n",
      "{2231: (222, 203, 5, 6), 3091: (212, 135, 8, 15), 3093: (224, 141, 5, 7)} {2230: (232, 162, 8, 9), 3090: (219, 171, 7, 15), 3092: (223, 172, 12, 15)}\n",
      "{7191: (218, 7, 7, 5), 7193: (220, 1, 6, 5), 7315: (229, 30, 12, 7)} {7190: (221, 0, 6, 2)}\n",
      "{5933: (230, 39, 10, 8), 5935: (223, 50, 12, 9)} {5932: (225, 44, 5, 8), 5934: (229, 45, 11, 9)}\n",
      "{1155: (123, 156, 8, 7), 1630: (100, 147, 6, 9)} {630: (149, 63, 8, 9), 1152: (125, 154, 7, 6), 1153: (81, 163, 5, 5), 1154: (128, 151, 7, 6), 1631: (63, 149, 9, 13), 1632: (134, 158, 10, 15)}\n",
      "{2360: (42, 221, 4, 4)} {2358: (45, 186, 13, 13), 2359: (36, 225, 6, 6), 3556: (112, 132, 6, 6), 3557: (127, 139, 5, 4), 3558: (104, 128, 7, 6), 3559: (125, 131, 7, 5), 3601: (132, 117, 10, 10)}\n",
      "{5995: (190, 0, 5, 5), 6076: (169, 46, 7, 8), 6077: (163, 52, 9, 7), 6078: (170, 43, 5, 5), 6259: (252, 83, 4, 4), 6264: (247, 15, 9, 11)} {5265: (244, 21, 11, 13), 5266: (229, 0, 10, 3), 5698: (252, 42, 4, 5), 5993: (194, 8, 5, 5), 5994: (190, 4, 5, 9), 5996: (192, 12, 9, 7), 5997: (185, 0, 6, 5), 5998: (185, 4, 6, 9), 6075: (163, 47, 7, 7), 6079: (162, 58, 12, 7), 6080: (193, 41, 5, 4), 6257: (246, 85, 10, 5), 6258: (235, 90, 21, 10), 6263: (237, 18, 10, 15)}\n",
      "{1553: (19, 14, 4, 4), 1557: (54, 0, 8, 8)} {1282: (58, 29, 5, 6), 1283: (7, 57, 3, 3), 1284: (30, 75, 3, 7), 1285: (29, 81, 5, 5), 1554: (22, 9, 4, 4), 1555: (10, 20, 5, 5), 1556: (2, 32, 5, 5), 1558: (6, 28, 4, 4)}\n",
      "{4811: (66, 148, 6, 3)} {3901: (18, 155, 5, 3), 3902: (22, 154, 3, 2), 3903: (25, 153, 5, 3), 4716: (17, 168, 7, 11), 4808: (68, 146, 3, 3), 4809: (56, 146, 4, 6), 4810: (64, 147, 3, 4), 4812: (59, 146, 5, 6), 4813: (65, 145, 3, 4)}\n",
      "{2184: (46, 41, 5, 5), 3139: (83, 170, 6, 6)} {1863: (186, 48, 8, 8), 2145: (10, 35, 4, 4), 2182: (62, 58, 5, 7), 2183: (77, 66, 4, 7), 2185: (75, 67, 1, 1), 2186: (74, 67, 5, 9), 2187: (64, 57, 4, 7), 2440: (68, 190, 7, 7), 2931: (73, 238, 5, 6), 2934: (66, 249, 4, 5), 3138: (92, 161, 4, 4), 3140: (100, 187, 6, 9)}\n",
      "{7079: (0, 21, 4, 3)} {7078: (0, 16, 3, 3), 7080: (0, 19, 3, 3)}\n",
      "{993: (219, 210, 8, 5)} {802: (194, 154, 6, 5), 803: (195, 184, 3, 4), 1120: (188, 180, 9, 7)}\n",
      "{251: (3, 178, 5, 4), 748: (43, 222, 3, 3), 1604: (61, 188, 3, 5)} {249: (8, 180, 4, 3), 746: (24, 181, 2, 5), 747: (89, 251, 3, 5), 749: (96, 250, 5, 4), 750: (116, 170, 4, 11), 751: (25, 175, 3, 7), 1130: (87, 144, 3, 3), 1131: (80, 145, 4, 4), 1363: (26, 171, 5, 4), 1364: (38, 214, 3, 4), 1365: (22, 171, 5, 3), 1366: (107, 174, 9, 6), 1367: (33, 219, 4, 5), 1603: (2, 181, 3, 4), 1605: (0, 174, 4, 6), 1606: (62, 182, 4, 3)}\n",
      "{3622: (27, 170, 9, 8)} {2134: (0, 163, 8, 7), 2586: (0, 239, 6, 7), 2587: (3, 182, 7, 8), 3621: (35, 182, 5, 6)}\n",
      "{5495: (184, 147, 11, 10)} {5494: (246, 190, 8, 5), 6279: (255, 127, 1, 5)}\n",
      "{6866: (205, 214, 8, 6)} {6364: (233, 183, 9, 6), 6365: (212, 187, 5, 7), 6405: (193, 178, 7, 5), 6406: (192, 181, 7, 5), 6413: (197, 224, 6, 9), 6868: (195, 216, 10, 9), 6870: (137, 255, 2, 1)}\n",
      "{4437: (37, 222, 3, 4), 4438: (1, 209, 2, 8)} {4434: (31, 221, 4, 2), 4670: (34, 223, 6, 8), 4672: (0, 206, 3, 4), 4674: (38, 227, 2, 4), 4918: (249, 20, 7, 5)}\n",
      "{2960: (95, 134, 4, 5)} {2959: (98, 195, 5, 7), 3399: (90, 39, 13, 14), 3400: (122, 21, 14, 12)}\n",
      "{213: (216, 68, 5, 4), 1623: (207, 0, 7, 2)} {214: (218, 72, 5, 4), 215: (222, 53, 5, 6), 519: (182, 133, 9, 10), 867: (198, 166, 10, 9), 1568: (171, 144, 10, 19), 1624: (224, 183, 7, 5), 1625: (246, 78, 10, 8), 1687: (196, 175, 8, 5), 1688: (175, 135, 5, 3), 1689: (160, 133, 5, 3)}\n",
      "{4845: (74, 0, 2, 2), 5027: (71, 0, 3, 4)} {3977: (78, 0, 4, 2), 4074: (215, 231, 3, 3), 4075: (217, 235, 1, 3), 4076: (214, 234, 3, 4), 4318: (213, 238, 3, 3), 4319: (212, 238, 2, 2), 4320: (213, 236, 3, 2), 4846: (70, 0, 4, 1), 5028: (77, 1, 4, 5), 5203: (213, 231, 2, 2), 5204: (211, 233, 4, 3), 5205: (210, 235, 4, 5)}\n",
      "{4039: (97, 28, 9, 10), 4289: (116, 113, 9, 12), 4290: (123, 11, 12, 8), 4395: (219, 124, 6, 11), 4397: (104, 35, 7, 10)} {4040: (118, 15, 5, 5), 4041: (97, 32, 12, 10), 4396: (213, 132, 10, 9)}\n",
      "{2725: (132, 227, 5, 5), 2726: (128, 224, 4, 6)} {2727: (130, 219, 6, 6), 2728: (130, 223, 3, 3), 2729: (134, 221, 6, 5), 2730: (130, 227, 4, 4)}\n",
      "{2081: (166, 74, 10, 9), 2163: (145, 26, 6, 7)} {2080: (162, 35, 7, 9), 2082: (184, 80, 6, 7), 2083: (157, 61, 5, 6), 2160: (143, 21, 6, 7), 2161: (147, 44, 10, 12), 2162: (162, 78, 7, 6), 3154: (63, 103, 1, 1), 3155: (91, 159, 10, 11), 3156: (125, 158, 5, 10), 3157: (63, 103, 9, 5)}\n",
      "{4695: (102, 94, 3, 5), 4772: (102, 129, 3, 11)} {4771: (104, 97, 7, 11), 4773: (110, 103, 4, 5)}\n",
      "{888: (108, 188, 11, 6)} {228: (92, 172, 15, 7), 229: (88, 169, 5, 4), 887: (79, 181, 21, 9), 1586: (54, 240, 8, 10), 1587: (41, 199, 9, 7), 1588: (64, 213, 10, 22)}\n",
      "{1700: (7, 197, 3, 6), 2639: (37, 135, 3, 7), 3095: (8, 143, 5, 7)} {1698: (29, 201, 4, 8), 1699: (19, 154, 7, 9), 1701: (22, 201, 9, 8)}\n",
      "{2306: (113, 37, 5, 6), 2825: (100, 20, 5, 6)} {1724: (172, 8, 5, 5), 2305: (91, 11, 4, 3), 2307: (99, 1, 4, 4), 2308: (107, 24, 9, 8), 2310: (98, 0, 4, 3), 2719: (131, 41, 7, 7), 2720: (130, 29, 5, 7), 2721: (133, 38, 5, 4), 2722: (133, 35, 5, 4), 2723: (132, 28, 5, 7), 2724: (129, 35, 4, 5), 2752: (189, 5, 8, 7), 2824: (139, 0, 1, 2), 2826: (101, 15, 4, 6), 3260: (40, 94, 4, 5), 3580: (169, 7, 6, 5)}\n",
      "{5705: (252, 0, 4, 8)} {5667: (106, 71, 5, 9), 5669: (113, 34, 5, 4), 5671: (78, 70, 5, 4), 5704: (168, 0, 12, 8), 6020: (71, 3, 9, 10), 6021: (21, 5, 8, 12)}\n",
      "{2704: (207, 203, 3, 5), 2757: (201, 202, 5, 4)} {2325: (225, 194, 7, 5), 2326: (200, 207, 7, 3), 2327: (211, 209, 4, 7), 2703: (199, 208, 8, 5), 2705: (232, 183, 7, 9), 2755: (208, 233, 9, 5), 2756: (217, 225, 3, 4), 2758: (215, 210, 5, 6), 2759: (210, 221, 8, 6), 2760: (209, 227, 8, 6)}\n",
      "{658: (152, 24, 5, 8), 659: (159, 33, 20, 8), 1126: (69, 140, 11, 7)} {656: (135, 36, 10, 11), 657: (196, 128, 9, 6), 661: (187, 51, 8, 14), 1124: (78, 143, 10, 7), 1125: (12, 106, 6, 8), 1576: (54, 113, 13, 5), 1577: (55, 109, 10, 6), 1578: (125, 24, 4, 9), 1579: (50, 106, 6, 9)}\n",
      "{897: (107, 247, 5, 5)} {899: (100, 242, 8, 6)}\n",
      "{2312: (33, 191, 5, 6)} {2311: (35, 190, 6, 8), 2313: (36, 186, 6, 4), 2314: (35, 187, 4, 6), 2315: (29, 188, 7, 8), 2316: (29, 183, 8, 6), 2501: (18, 252, 5, 4)}\n",
      "{286: (15, 41, 14, 9), 287: (112, 97, 11, 9), 1032: (74, 122, 6, 7)} {57: (109, 109, 8, 9), 192: (104, 15, 15, 10), 983: (91, 139, 5, 6), 1033: (77, 114, 5, 8), 1034: (70, 114, 5, 4), 1070: (16, 35, 17, 12), 1071: (9, 28, 4, 3), 1175: (120, 40, 6, 7), 1176: (95, 134, 7, 5), 1432: (86, 137, 7, 6), 1433: (94, 141, 5, 5)}\n",
      "{1826: (54, 33, 8, 7), 2061: (5, 210, 9, 6)} {1827: (51, 31, 5, 5), 1922: (18, 10, 4, 4), 1923: (19, 17, 4, 3), 1924: (13, 7, 6, 5), 2060: (7, 227, 5, 4), 2638: (0, 237, 3, 7), 3141: (124, 224, 4, 4), 3142: (122, 222, 5, 5), 3143: (125, 225, 4, 5), 3144: (119, 226, 7, 7), 3145: (117, 224, 6, 6), 3380: (69, 230, 9, 9), 3381: (11, 238, 11, 10), 3427: (16, 12, 3, 4), 3428: (21, 63, 7, 6), 3429: (11, 9, 6, 6), 3430: (17, 61, 6, 5), 3431: (17, 13, 5, 5)}\n",
      "{5170: (8, 178, 4, 3), 5173: (6, 179, 4, 3)} {3917: (2, 227, 3, 2), 3918: (0, 220, 3, 5), 3921: (2, 223, 5, 4), 5169: (8, 179, 4, 4), 5171: (7, 223, 3, 3), 5172: (11, 177, 3, 3), 5174: (6, 226, 4, 2)}\n",
      "{6899: (198, 209, 5, 9)} {6900: (208, 185, 5, 6)}\n",
      "{6542: (57, 145, 6, 5), 6863: (193, 3, 6, 7)} {6487: (253, 37, 3, 8), 6960: (227, 4, 3, 3), 6961: (226, 1, 3, 3), 6994: (240, 6, 2, 1)}\n",
      "{219: (203, 152, 3, 5), 220: (205, 147, 5, 5), 221: (205, 151, 6, 6), 222: (210, 146, 3, 3), 273: (138, 45, 3, 5), 959: (207, 153, 6, 6), 1140: (229, 55, 5, 6), 1142: (231, 50, 5, 6), 1186: (136, 3, 9, 6), 1189: (146, 8, 4, 3), 1334: (180, 233, 9, 10), 1336: (184, 228, 7, 6)} {218: (207, 145, 5, 8), 454: (187, 192, 6, 4), 504: (244, 24, 5, 4), 506: (229, 17, 16, 10), 799: (15, 184, 16, 10), 919: (146, 7, 4, 4), 922: (178, 27, 3, 5), 938: (211, 144, 3, 2), 958: (211, 146, 6, 6), 1072: (205, 149, 2, 4), 1073: (204, 149, 2, 3), 1074: (205, 148, 3, 1), 1075: (200, 152, 5, 4), 1076: (204, 143, 6, 5), 1077: (201, 147, 5, 6), 1141: (232, 54, 6, 12), 1187: (127, 0, 2, 3), 1188: (128, 0, 6, 5), 1335: (178, 241, 7, 11), 1337: (186, 223, 7, 7), 1469: (212, 218, 5, 5), 1470: (210, 221, 5, 6), 1484: (226, 35, 7, 4)}\n",
      "{151: (99, 149, 3, 4), 289: (51, 72, 8, 6), 291: (63, 49, 4, 4), 546: (38, 63, 5, 5), 847: (94, 160, 5, 4)} {149: (108, 97, 10, 9), 150: (41, 120, 6, 11), 288: (30, 64, 6, 11), 290: (54, 45, 5, 5), 544: (70, 59, 5, 5), 545: (77, 56, 4, 5), 846: (100, 162, 5, 4), 1207: (32, 65, 7, 10), 1208: (50, 48, 3, 3), 1471: (60, 173, 7, 6), 1472: (89, 187, 6, 8), 1473: (97, 178, 5, 5), 1474: (43, 120, 6, 11)}\n",
      "{7213: (37, 30, 6, 6), 7215: (39, 23, 9, 9)} {6428: (139, 82, 3, 6), 6429: (140, 79, 3, 2), 7212: (33, 26, 5, 7), 7214: (28, 24, 6, 7)}\n",
      "{5086: (230, 134, 3, 4)} {5084: (231, 139, 4, 2), 5085: (230, 137, 2, 3), 5087: (227, 137, 3, 3), 5088: (232, 134, 4, 5), 5089: (227, 133, 4, 4)}\n",
      "{1172: (1, 232, 9, 8)} {1657: (1, 223, 4, 5)}\n",
      "{2614: (28, 46, 5, 5), 3251: (1, 41, 12, 11), 3598: (8, 6, 6, 6)} {2275: (208, 32, 8, 7), 2276: (191, 42, 10, 12), 2612: (29, 68, 5, 7), 2802: (182, 42, 11, 9), 2803: (211, 53, 8, 9), 2804: (203, 54, 9, 9), 2805: (244, 0, 5, 2), 3080: (0, 10, 5, 9), 3597: (11, 1, 6, 8)}\n",
      "{1113: (207, 177, 13, 8)} {1111: (235, 211, 14, 18), 1112: (198, 140, 10, 16)}\n",
      "{4589: (121, 109, 3, 6), 4590: (122, 100, 4, 10)} {4586: (119, 115, 5, 6), 4587: (122, 109, 3, 7), 4588: (121, 100, 3, 9), 4591: (120, 108, 3, 7)}\n",
      "{1828: (0, 18, 1, 6), 1884: (139, 150, 9, 10), 1885: (94, 121, 9, 10)} {1883: (141, 161, 8, 5), 1991: (82, 2, 6, 6)}\n",
      "{7072: (79, 74, 4, 3), 7074: (132, 78, 4, 5), 7075: (79, 76, 4, 6)} {6678: (102, 56, 6, 6), 6679: (107, 66, 5, 3), 6681: (107, 60, 5, 6), 7071: (73, 67, 4, 5), 7073: (77, 85, 6, 7)}\n",
      "{6970: (62, 58, 3, 6)} {6971: (36, 45, 6, 6)}\n",
      "{5001: (212, 16, 4, 5)} {5000: (210, 26, 3, 6), 5002: (211, 21, 3, 6), 5003: (182, 18, 4, 4)}\n",
      "{3944: (251, 214, 5, 7), 5186: (232, 220, 20, 15)} {3945: (252, 205, 4, 9), 3974: (212, 192, 21, 19)}\n",
      "{1836: (229, 216, 5, 5), 1837: (226, 220, 5, 6), 2334: (232, 105, 6, 6)} {2333: (231, 205, 6, 6)}\n",
      "{5605: (160, 252, 9, 4)} {5604: (209, 207, 10, 13)}\n",
      "{2737: (201, 53, 8, 9)} {2474: (251, 83, 5, 6), 2475: (204, 56, 8, 8), 2732: (165, 106, 7, 7), 2733: (170, 93, 6, 6), 2734: (193, 61, 8, 7), 2735: (241, 68, 10, 9), 2736: (247, 79, 8, 7)}\n",
      "{3630: (227, 182, 8, 12), 3634: (125, 211, 6, 5)} {3058: (235, 19, 4, 5), 3631: (138, 126, 4, 5), 3632: (168, 71, 8, 7), 3633: (166, 67, 4, 8), 3635: (104, 206, 7, 8)}\n",
      "{6452: (165, 22, 11, 7), 6453: (171, 9, 8, 6), 6454: (184, 69, 4, 10), 6850: (148, 34, 9, 9)} {6308: (223, 217, 3, 5), 6455: (156, 10, 11, 9), 6635: (194, 0, 6, 4), 6849: (153, 23, 8, 6), 6967: (167, 11, 8, 6), 6968: (168, 0, 6, 4), 7035: (194, 63, 5, 19), 7036: (170, 10, 7, 6), 7062: (154, 118, 8, 4), 7063: (128, 96, 20, 3), 7240: (212, 255, 3, 1)}\n",
      "{424: (179, 36, 3, 3), 520: (90, 50, 3, 4), 521: (100, 38, 4, 7)} {423: (104, 108, 14, 10), 522: (85, 23, 9, 13), 523: (91, 51, 5, 6), 524: (99, 44, 4, 7)}\n",
      "{5681: (170, 219, 12, 3), 5976: (139, 205, 7, 6)} {5344: (78, 190, 9, 31), 5345: (121, 246, 5, 10), 5346: (122, 228, 17, 10), 5974: (126, 216, 20, 7), 5975: (134, 204, 6, 14), 5977: (142, 221, 16, 8), 5978: (107, 216, 5, 11), 6205: (83, 191, 10, 31), 6206: (126, 239, 8, 17), 6207: (139, 249, 11, 7)}\n",
      "{6918: (35, 174, 3, 4)} {6447: (110, 38, 3, 4), 6448: (109, 33, 4, 5), 6606: (25, 22, 6, 4), 6757: (7, 146, 11, 5), 6758: (49, 152, 4, 10), 6759: (40, 146, 10, 12), 6916: (37, 182, 5, 4), 6917: (40, 188, 9, 5), 6919: (41, 179, 12, 8), 7010: (21, 8, 4, 6), 7303: (25, 195, 7, 5), 7304: (6, 164, 16, 15), 7305: (23, 198, 11, 10), 7306: (37, 170, 4, 10)}\n",
      "{3684: (186, 193, 6, 5), 5165: (127, 229, 5, 4)} {3680: (181, 202, 5, 3), 3681: (180, 190, 5, 4), 3682: (180, 206, 3, 2), 3683: (177, 204, 5, 4), 3685: (182, 203, 5, 5), 4514: (78, 201, 8, 6), 4516: (84, 197, 5, 6), 5166: (129, 232, 4, 2), 5167: (127, 232, 3, 3)}\n",
      "{2564: (237, 15, 7, 5)} {2245: (176, 73, 8, 8), 2567: (155, 68, 10, 10)}\n",
      "{5236: (238, 105, 4, 4)} {4127: (51, 181, 5, 3), 4892: (50, 175, 5, 6), 4893: (131, 193, 3, 3), 5234: (204, 170, 5, 7), 5235: (210, 172, 3, 3)}\n",
      "{5759: (140, 7, 10, 8), 5764: (59, 101, 9, 5), 6058: (247, 170, 9, 13), 6105: (168, 240, 5, 12)} {5760: (195, 47, 11, 9), 5762: (127, 5, 7, 8), 5763: (134, 7, 7, 6), 6035: (141, 90, 15, 14), 6103: (164, 251, 5, 5), 6104: (169, 251, 4, 5)}\n",
      "{4614: (234, 20, 6, 8)} {4613: (230, 21, 6, 5), 4615: (237, 21, 5, 7)}\n",
      "{2969: (127, 72, 8, 6)} {2706: (61, 153, 4, 5), 2968: (53, 25, 6, 4), 2978: (72, 127, 5, 5)}\n",
      "{433: (101, 177, 6, 7), 434: (116, 169, 7, 9), 436: (82, 190, 5, 6), 1509: (106, 120, 6, 7), 1510: (133, 119, 8, 6), 1659: (117, 84, 6, 4)} {134: (76, 107, 8, 5), 176: (121, 85, 5, 5), 177: (135, 107, 6, 4), 435: (119, 158, 4, 5), 697: (128, 110, 10, 6), 698: (105, 101, 12, 12), 1223: (128, 111, 10, 7), 1658: (129, 106, 11, 7)}\n",
      "{5585: (129, 169, 9, 9), 5666: (242, 191, 14, 8)} {6281: (33, 6, 12, 9), 6282: (22, 1, 13, 15)}\n",
      "{2556: (249, 52, 5, 5), 3605: (235, 35, 6, 7)} {3278: (228, 62, 9, 9), 3607: (236, 15, 7, 6)}\n",
      "{1475: (236, 11, 3, 4), 1476: (242, 13, 5, 4)} {896: (68, 95, 10, 11), 898: (65, 100, 7, 6), 1247: (230, 244, 3, 4), 1248: (204, 242, 5, 7), 1477: (239, 14, 3, 3), 1478: (241, 15, 3, 4), 1479: (235, 10, 2, 3), 1480: (238, 13, 2, 3)}\n",
      "{4963: (207, 38, 4, 6), 4964: (224, 9, 9, 5), 4966: (208, 40, 4, 4)} {3952: (215, 27, 7, 5), 3953: (210, 26, 2, 5), 3954: (213, 25, 5, 3), 4665: (137, 216, 7, 5), 4667: (154, 220, 7, 3), 4965: (237, 27, 4, 4), 4967: (239, 28, 5, 6)}\n",
      "{6760: (86, 11, 5, 5)} {6761: (110, 2, 7, 24)}\n",
      "{6352: (86, 16, 7, 3)} {6353: (24, 4, 1, 1), 6382: (118, 0, 6, 6), 6383: (134, 71, 5, 8), 6468: (137, 71, 3, 4), 6598: (244, 115, 8, 4), 7170: (40, 60, 2, 1)}\n",
      "{169: (226, 221, 8, 15), 618: (95, 236, 12, 16)} {244: (249, 228, 7, 8), 619: (110, 245, 6, 8), 915: (252, 221, 4, 8)}\n",
      "{4566: (72, 72, 6, 5), 4569: (91, 48, 7, 6), 5092: (163, 36, 10, 8)} {4251: (21, 181, 5, 6), 4564: (65, 62, 9, 8), 4565: (104, 45, 6, 7), 4567: (106, 42, 5, 5), 4568: (64, 60, 6, 6), 5090: (163, 41, 10, 7), 5091: (128, 0, 10, 11), 5093: (135, 2, 8, 11), 5094: (148, 44, 11, 5), 5095: (148, 48, 10, 6)}\n",
      "{99: (2, 176, 7, 7), 1520: (115, 113, 5, 4), 1523: (101, 112, 9, 9)} {97: (12, 189, 5, 6), 98: (68, 118, 3, 4), 100: (104, 134, 6, 7), 934: (115, 136, 4, 4), 1519: (124, 108, 5, 6), 1521: (117, 105, 10, 10), 1522: (98, 112, 6, 6)}\n",
      "{4328: (6, 137, 4, 2), 4428: (8, 132, 4, 3), 4715: (5, 45, 10, 5)} {3691: (84, 22, 7, 7), 3692: (114, 40, 3, 4), 3693: (120, 40, 2, 4), 3694: (75, 24, 5, 6), 3695: (117, 40, 3, 4), 3696: (80, 20, 6, 8), 3802: (13, 132, 2, 3), 3803: (10, 130, 4, 5), 4327: (9, 136, 4, 5), 4427: (7, 130, 3, 3), 4678: (18, 140, 3, 3), 4754: (32, 141, 5, 3), 4755: (18, 143, 3, 5), 4886: (27, 139, 2, 6), 4887: (21, 138, 6, 7), 4891: (8, 49, 8, 12), 4949: (129, 39, 2, 3), 4950: (127, 38, 2, 4), 4951: (128, 35, 3, 4), 4952: (125, 38, 2, 4), 4953: (123, 38, 3, 4)}\n",
      "{2708: (113, 235, 7, 7), 2711: (125, 172, 4, 4), 2879: (228, 255, 3, 1)} {1979: (142, 86, 8, 6), 2444: (81, 244, 5, 6), 2615: (124, 133, 5, 6), 2616: (83, 238, 7, 7), 2617: (112, 130, 6, 6), 2709: (143, 169, 6, 5), 2710: (150, 161, 5, 8), 2712: (86, 108, 8, 8)}\n",
      "{5564: (210, 42, 13, 9), 5600: (33, 88, 10, 5), 5601: (42, 89, 4, 5), 5707: (234, 74, 12, 5), 5793: (253, 148, 3, 4)} {5599: (34, 83, 8, 7), 5602: (46, 84, 5, 9), 5603: (32, 80, 9, 5), 5708: (225, 78, 21, 6), 6179: (87, 19, 5, 5), 6180: (97, 21, 6, 7), 6181: (83, 21, 5, 5)}\n",
      "{2448: (138, 6, 3, 3), 2942: (184, 60, 9, 7), 2944: (134, 21, 6, 5), 3198: (65, 62, 4, 5)} {2509: (122, 99, 7, 10), 2943: (153, 18, 6, 6), 2945: (187, 42, 6, 5), 2946: (188, 70, 8, 6), 2947: (187, 58, 11, 11), 3151: (214, 53, 5, 6), 3197: (98, 121, 6, 6)}\n",
      "{5479: (24, 11, 20, 15), 5482: (11, 1, 16, 10)} {5477: (14, 26, 9, 12), 5478: (20, 36, 13, 10), 5481: (58, 43, 11, 18)}\n",
      "{3909: (23, 155, 3, 3)} {3904: (23, 153, 4, 3), 3905: (24, 161, 2, 2), 3906: (23, 159, 3, 2), 3907: (20, 161, 4, 4), 3908: (24, 157, 2, 3), 5220: (10, 132, 11, 16)}\n",
      "{6321: (227, 228, 5, 6), 6514: (140, 141, 8, 7), 6620: (181, 148, 6, 3), 6621: (143, 157, 9, 12), 6622: (125, 137, 7, 11), 6657: (115, 112, 10, 11), 6659: (112, 117, 3, 5), 6660: (91, 97, 11, 14)} {6322: (227, 221, 9, 5), 6323: (204, 238, 14, 11), 6324: (223, 233, 5, 9), 6325: (216, 238, 6, 10), 6340: (182, 250, 7, 6), 6511: (135, 146, 10, 9), 6512: (142, 169, 13, 12), 6513: (151, 155, 9, 4), 6515: (132, 139, 6, 11), 6516: (150, 158, 7, 7), 6618: (165, 162, 10, 5), 6619: (178, 158, 5, 3), 6655: (101, 119, 12, 7), 6656: (99, 112, 12, 9), 6658: (108, 113, 7, 5)}\n",
      "{39: (229, 107, 5, 5), 597: (183, 93, 12, 8), 599: (221, 95, 9, 6)} {38: (225, 109, 10, 6), 40: (242, 118, 9, 6), 41: (221, 111, 5, 5), 42: (233, 114, 5, 4), 43: (227, 120, 6, 8), 312: (211, 137, 7, 6), 313: (223, 141, 13, 7), 314: (224, 144, 10, 6), 315: (217, 139, 7, 7), 316: (243, 131, 5, 4), 579: (221, 210, 14, 7), 595: (179, 91, 5, 8), 596: (227, 102, 10, 8), 598: (219, 97, 10, 8), 600: (218, 102, 9, 6), 664: (255, 67, 1, 1), 665: (212, 134, 11, 6), 666: (175, 128, 8, 5), 667: (229, 65, 7, 9), 668: (193, 110, 14, 9), 913: (203, 5, 18, 11), 1569: (207, 170, 6, 12)}\n",
      "{3792: (103, 237, 7, 7), 3990: (45, 214, 4, 4), 5184: (66, 204, 5, 5)} {3793: (110, 239, 4, 6), 3794: (108, 238, 3, 7), 3972: (68, 205, 5, 5)}\n",
      "{2244: (2, 252, 3, 3)} {2243: (22, 248, 5, 5), 2566: (35, 239, 7, 4)}\n",
      "{3983: (240, 63, 3, 7)} {3982: (249, 64, 1, 2), 4398: (65, 124, 6, 10), 4679: (240, 55, 9, 15), 4926: (74, 121, 5, 8)}\n",
      "{928: (210, 58, 13, 29), 1327: (29, 56, 3, 3), 1517: (63, 77, 7, 15), 1542: (238, 31, 8, 17)} {682: (22, 110, 6, 5), 683: (32, 140, 9, 16), 684: (40, 131, 4, 8), 685: (28, 108, 9, 5), 686: (14, 105, 5, 6), 725: (43, 28, 2, 2), 927: (168, 14, 19, 28), 1060: (143, 0, 3, 1), 1061: (132, 6, 10, 15), 1323: (24, 103, 8, 4), 1324: (41, 107, 4, 5), 1325: (24, 61, 3, 4), 1326: (14, 99, 9, 5), 1328: (43, 110, 10, 5), 1515: (0, 103, 3, 2), 1516: (36, 66, 3, 8)}\n",
      "{6903: (88, 236, 3, 3), 7065: (98, 213, 3, 5), 7066: (94, 215, 5, 4), 7068: (100, 213, 4, 5)} {6566: (95, 229, 3, 3), 6567: (90, 225, 4, 4), 6568: (90, 236, 4, 2), 6569: (95, 222, 4, 5), 6881: (80, 253, 4, 3), 6901: (88, 232, 5, 5), 6902: (86, 233, 4, 5), 7067: (94, 209, 10, 7)}\n",
      "{5546: (198, 213, 5, 8), 6052: (109, 92, 5, 4), 6053: (147, 125, 5, 8)} {5547: (203, 224, 5, 7)}\n",
      "{2353: (87, 82, 6, 7)} {1951: (49, 76, 2, 2), 1952: (51, 74, 9, 6), 1953: (40, 66, 6, 5), 2351: (39, 69, 6, 4), 2352: (74, 58, 6, 7), 2354: (68, 60, 7, 5), 2355: (92, 72, 6, 6), 2356: (45, 70, 7, 7), 2624: (58, 63, 4, 4), 2625: (60, 64, 6, 5)}\n",
      "{2834: (219, 141, 5, 9)} {1733: (231, 155, 6, 7)}\n",
      "{5073: (2, 208, 3, 3)} {4547: (0, 213, 2, 2), 4548: (0, 209, 3, 4), 4888: (4, 206, 2, 2), 4910: (1, 209, 3, 3), 4911: (1, 207, 3, 3)}\n",
      "{4182: (122, 127, 6, 3), 4183: (123, 129, 5, 4)} {4181: (125, 134, 5, 4), 4185: (125, 131, 4, 4), 4186: (117, 132, 9, 5), 4255: (246, 108, 7, 4), 4256: (254, 99, 2, 3), 4257: (252, 101, 4, 6), 4258: (248, 106, 8, 5), 5014: (183, 59, 4, 3), 5015: (176, 63, 5, 6), 5016: (180, 61, 3, 6), 5017: (183, 62, 6, 7)}\n",
      "{1149: (94, 161, 36, 15)} {173: (221, 135, 4, 6), 174: (218, 145, 14, 7), 234: (248, 137, 6, 7), 529: (181, 190, 5, 5), 1147: (56, 95, 11, 21), 1148: (120, 218, 4, 8), 1150: (123, 240, 7, 4), 1151: (105, 232, 20, 10)}\n",
      "{5847: (0, 170, 6, 12), 6085: (0, 11, 3, 4)} {5539: (59, 158, 8, 11), 5775: (56, 206, 4, 5), 5776: (56, 211, 4, 4), 5777: (52, 208, 5, 2), 5778: (56, 215, 4, 5), 5779: (51, 215, 5, 5), 5780: (51, 210, 6, 5)}\n",
      "{6491: (196, 65, 8, 6), 7237: (56, 75, 7, 6), 7267: (100, 98, 7, 5)} {6492: (194, 63, 4, 2), 6493: (203, 66, 6, 6), 7028: (102, 106, 5, 5), 7029: (109, 138, 6, 7), 7030: (105, 118, 8, 12), 7031: (43, 157, 14, 16), 7236: (52, 74, 6, 5), 7268: (196, 192, 5, 5)}\n",
      "{7057: (6, 223, 5, 5), 7313: (0, 211, 7, 7)} {7053: (0, 235, 6, 12), 7056: (27, 193, 4, 7), 7192: (12, 192, 3, 5)}\n",
      "{3809: (236, 225, 11, 3), 4529: (151, 246, 7, 9)} {3721: (64, 202, 8, 8), 3722: (56, 206, 10, 9), 3808: (237, 211, 12, 6), 3930: (225, 188, 5, 6), 4527: (146, 243, 7, 9), 4623: (253, 216, 3, 4), 4624: (253, 208, 3, 7), 4625: (223, 185, 6, 8), 4654: (220, 164, 7, 7), 5179: (228, 170, 4, 4), 5180: (71, 211, 5, 5)}\n",
      "{252: (54, 243, 2, 3)} {121: (51, 79, 5, 5), 122: (54, 76, 4, 3), 253: (53, 197, 7, 13), 254: (48, 229, 5, 9), 255: (38, 178, 15, 8), 837: (17, 189, 8, 9), 839: (228, 139, 6, 7), 840: (230, 135, 6, 5), 868: (22, 255, 3, 1), 869: (52, 250, 8, 6), 870: (168, 129, 7, 7), 871: (154, 147, 13, 7), 1029: (149, 162, 11, 20), 1030: (154, 160, 3, 3), 1253: (205, 28, 14, 7)}\n",
      "{238: (184, 64, 6, 7), 311: (14, 26, 5, 5), 916: (134, 178, 9, 7)} {153: (214, 81, 6, 7), 154: (207, 77, 8, 5), 240: (181, 76, 8, 8), 241: (255, 65, 1, 1), 242: (201, 105, 6, 5), 310: (9, 29, 7, 6), 876: (196, 102, 6, 5), 878: (254, 59, 2, 3), 917: (105, 146, 5, 7), 918: (105, 126, 8, 13), 1016: (71, 245, 4, 5), 1017: (104, 223, 7, 10), 1273: (207, 79, 7, 5), 1275: (218, 83, 4, 4), 1536: (221, 70, 5, 4), 1537: (220, 75, 6, 7), 1538: (221, 64, 4, 3)}\n",
      "{7257: (16, 243, 6, 8)} {6782: (14, 255, 3, 1)}\n",
      "{236: (250, 22, 6, 6)} {231: (175, 50, 8, 4), 232: (203, 4, 4, 7), 527: (170, 60, 4, 9), 528: (172, 56, 4, 3)}\n",
      "{1165: (179, 15, 8, 7)} {1166: (184, 17, 15, 9)}\n",
      "{3656: (68, 200, 4, 4)} {3655: (71, 201, 3, 3), 3852: (65, 201, 3, 2), 3853: (65, 199, 3, 2), 3854: (65, 196, 3, 3), 4753: (190, 208, 5, 10)}\n",
      "{2013: (95, 121, 7, 5), 2424: (98, 151, 6, 8), 2673: (28, 195, 3, 4), 2675: (142, 139, 4, 5)} {1705: (27, 197, 4, 3), 1706: (140, 141, 6, 6), 2010: (10, 13, 9, 9), 2011: (63, 128, 7, 7), 2012: (148, 178, 6, 10), 2144: (195, 126, 8, 6), 2421: (183, 131, 7, 5), 2422: (27, 182, 6, 5), 2423: (95, 119, 7, 6), 2672: (120, 111, 5, 4), 2888: (31, 185, 7, 5), 2889: (101, 146, 7, 8), 2890: (96, 119, 7, 5), 2891: (184, 128, 8, 6)}\n",
      "{6433: (129, 117, 4, 4)} {6988: (192, 36, 5, 7), 7216: (126, 108, 2, 6)}\n",
      "{2399: (237, 10, 8, 4), 2545: (253, 18, 3, 3), 2905: (211, 97, 12, 9)} {2094: (248, 0, 8, 5), 2095: (254, 1, 2, 5), 2398: (235, 24, 4, 6), 2400: (244, 17, 6, 8), 2904: (240, 34, 9, 5), 2906: (192, 98, 8, 11), 2907: (242, 46, 5, 5), 2908: (225, 97, 5, 4)}\n",
      "{6644: (234, 221, 4, 4), 6836: (230, 91, 5, 12), 7059: (244, 220, 8, 3)} {6834: (212, 88, 4, 10), 6835: (215, 84, 6, 14)}\n",
      "{6343: (74, 240, 14, 3)} {6335: (145, 24, 5, 4), 6342: (74, 242, 9, 4), 6344: (66, 254, 9, 2), 6345: (73, 248, 7, 3), 7198: (53, 223, 5, 7), 7199: (50, 236, 5, 3), 7200: (49, 227, 5, 3), 7227: (110, 132, 3, 4), 7228: (110, 138, 4, 3)}\n",
      "{5301: (109, 211, 14, 14)} {5299: (112, 228, 24, 17), 5300: (116, 193, 14, 15), 5302: (132, 218, 9, 14), 5643: (93, 154, 15, 6), 6251: (170, 165, 11, 7), 6252: (146, 174, 9, 13)}\n",
      "{2074: (247, 164, 8, 7), 2547: (234, 185, 5, 5), 2551: (232, 189, 5, 9), 2991: (129, 224, 5, 6), 3061: (154, 180, 6, 6), 3121: (52, 187, 4, 4)} {1817: (152, 159, 7, 5), 2073: (176, 202, 7, 8), 2076: (199, 200, 9, 9), 2105: (39, 178, 2, 4), 2106: (49, 191, 6, 9), 2107: (51, 187, 4, 3), 2108: (16, 160, 4, 3), 2109: (9, 142, 8, 9), 2192: (40, 178, 3, 5), 2552: (160, 172, 4, 4), 3059: (158, 156, 5, 6), 3116: (17, 158, 4, 3), 3117: (48, 190, 6, 9), 3120: (13, 144, 8, 7)}\n",
      "{4768: (104, 77, 5, 8), 4769: (80, 102, 6, 7), 4770: (41, 29, 5, 7)} {3714: (21, 96, 7, 5), 3715: (35, 48, 7, 6), 3716: (179, 145, 6, 7)}\n",
      "{3876: (143, 23, 5, 11)} {3781: (0, 127, 2, 5), 3985: (69, 169, 9, 7), 3986: (62, 171, 8, 4), 3987: (57, 175, 7, 5), 3988: (56, 172, 6, 4), 4463: (21, 145, 6, 9), 4880: (0, 148, 3, 4)}\n",
      "{4862: (1, 67, 4, 4), 5068: (47, 185, 6, 5)} {4187: (24, 68, 4, 2), 4188: (28, 65, 5, 6), 4863: (0, 65, 3, 3), 5069: (48, 189, 2, 2), 5070: (45, 185, 5, 3), 5071: (41, 188, 3, 3), 5072: (43, 188, 6, 4)}\n",
      "{3940: (194, 194, 4, 6), 3941: (192, 193, 2, 3)} {3939: (192, 196, 3, 3), 3942: (196, 195, 3, 5), 3943: (193, 193, 3, 4)}\n",
      "{5846: (245, 168, 8, 6), 5847: (251, 169, 5, 13), 6085: (252, 11, 4, 4), 6303: (89, 160, 11, 7)} {5848: (242, 171, 11, 9), 5913: (71, 13, 7, 13), 5914: (141, 60, 8, 26), 6081: (160, 137, 13, 18), 6082: (170, 129, 9, 11), 6083: (153, 117, 17, 20), 6084: (137, 160, 21, 13), 6086: (178, 174, 7, 8), 6299: (120, 81, 10, 18), 6300: (82, 137, 11, 9), 6301: (141, 15, 13, 13), 6302: (92, 136, 11, 11), 6304: (98, 160, 10, 7)}\n",
      "{904: (28, 224, 3, 5), 1543: (47, 242, 6, 6)} {139: (151, 179, 4, 4), 140: (61, 209, 4, 7), 141: (99, 221, 5, 6), 143: (47, 153, 3, 5), 901: (39, 235, 3, 3), 905: (87, 202, 9, 5), 1544: (47, 230, 3, 3), 1545: (54, 198, 6, 8), 1546: (88, 179, 37, 20)}\n",
      "{6507: (54, 141, 10, 7), 6805: (60, 139, 4, 6)} {6462: (39, 159, 6, 4), 6463: (34, 148, 12, 8), 6464: (36, 162, 7, 3), 6465: (45, 161, 6, 3), 6466: (42, 165, 3, 4), 6803: (46, 137, 11, 7), 6804: (54, 145, 5, 10), 7051: (62, 145, 7, 5), 7121: (87, 152, 7, 7), 7122: (78, 158, 8, 5), 7123: (70, 140, 4, 7)}\n",
      "{891: (35, 188, 4, 3), 892: (0, 203, 4, 4)} {643: (36, 187, 3, 3), 644: (8, 207, 3, 2), 645: (3, 204, 3, 3), 895: (62, 224, 1, 2), 1565: (35, 189, 3, 3), 1566: (58, 223, 4, 3)}\n",
      "{6267: (143, 0, 5, 6)} {6239: (177, 57, 14, 13)}\n",
      "{3279: (82, 215, 9, 10)} {2593: (236, 30, 7, 6), 2594: (194, 84, 9, 10)}\n",
      "{1752: (140, 23, 6, 7)} {1694: (205, 53, 4, 4), 1753: (141, 25, 7, 8)}\n",
      "{4011: (12, 16, 2, 3)} {4009: (17, 10, 3, 4), 4010: (15, 11, 3, 4), 4012: (18, 9, 2, 3), 4013: (11, 14, 3, 3), 4014: (13, 16, 2, 2)}\n",
      "{4049: (233, 230, 5, 7)} {3669: (226, 227, 6, 6), 3670: (225, 225, 5, 6), 4047: (236, 231, 5, 8), 4048: (240, 232, 4, 7), 4050: (243, 233, 5, 6)}\n",
      "{6749: (41, 244, 3, 5), 7279: (14, 217, 4, 5), 7293: (152, 247, 6, 4)} {6599: (71, 83, 4, 3), 6750: (36, 224, 8, 3), 7294: (147, 243, 6, 7)}\n",
      "{2468: (61, 242, 10, 9)} {2467: (86, 206, 11, 8), 2536: (60, 245, 14, 10), 2537: (58, 253, 5, 3), 2842: (70, 254, 4, 2), 2847: (61, 248, 7, 6)}\n",
      "{3707: (26, 194, 5, 6)} {3706: (23, 198, 4, 4), 4285: (19, 199, 4, 5)}\n",
      "{7041: (101, 231, 7, 6)} {6762: (110, 238, 6, 10), 6763: (101, 147, 9, 10), 7042: (112, 143, 9, 14), 7044: (105, 192, 6, 7)}\n",
      "{2225: (39, 205, 7, 8)} {2157: (0, 154, 2, 4), 2226: (40, 199, 9, 9), 2227: (7, 190, 12, 10)}\n",
      "{2862: (32, 253, 5, 3)} {2772: (185, 0, 2, 1)}\n",
      "{6654: (56, 68, 15, 6)} {6505: (123, 81, 10, 11), 6506: (109, 65, 10, 10), 6653: (26, 39, 9, 6), 6827: (48, 58, 4, 6)}\n",
      "{1315: (44, 214, 11, 18)} {1008: (0, 189, 4, 4), 1317: (0, 210, 1, 4)}\n",
      "{1702: (69, 217, 8, 14), 1704: (93, 211, 11, 11)} {1703: (77, 225, 9, 11), 1829: (10, 235, 10, 7), 1992: (85, 216, 10, 11)}\n",
      "{4020: (105, 194, 4, 6), 4845: (74, 253, 3, 3)} {3976: (94, 238, 2, 3), 3977: (78, 255, 3, 1), 4019: (103, 198, 4, 6), 4021: (109, 192, 4, 4), 4022: (105, 207, 4, 6), 4023: (103, 206, 3, 6), 4379: (96, 211, 2, 3), 4380: (97, 206, 4, 6), 4381: (98, 212, 2, 4), 4382: (100, 201, 3, 4), 4383: (99, 204, 3, 3), 4846: (70, 253, 5, 3)}\n",
      "{2743: (23, 100, 6, 6)} {1859: (2, 94, 4, 4), 1861: (3, 98, 8, 9), 1862: (5, 97, 8, 8), 2717: (17, 112, 9, 9), 3255: (36, 106, 6, 6)}\n",
      "{5329: (171, 117, 2, 4)} {5327: (185, 135, 11, 7), 5328: (121, 133, 16, 11), 5331: (160, 117, 17, 16), 5332: (124, 124, 11, 11), 5333: (180, 142, 19, 5), 5559: (12, 8, 19, 26), 5560: (42, 0, 14, 21), 5561: (45, 44, 9, 11), 5562: (62, 112, 13, 13), 5563: (45, 19, 12, 34), 5980: (124, 119, 13, 5), 5981: (113, 132, 10, 12), 5982: (131, 137, 7, 7), 5984: (135, 123, 6, 12)}\n",
      "{5737: (17, 109, 22, 11)} {5735: (117, 147, 15, 13), 5736: (22, 84, 8, 17)}\n",
      "{2410: (153, 130, 5, 2), 2746: (122, 103, 7, 7), 2747: (168, 138, 6, 6), 3180: (188, 140, 6, 4), 3624: (139, 109, 5, 6)} {2279: (129, 135, 6, 7), 2408: (159, 110, 8, 4), 2409: (219, 166, 7, 7), 2748: (171, 83, 9, 10), 2749: (170, 125, 6, 7), 3181: (208, 142, 4, 4), 3623: (147, 96, 4, 6), 3625: (143, 118, 4, 7)}\n",
      "{2851: (20, 245, 6, 11)} {2091: (19, 243, 5, 13), 2288: (173, 83, 2, 1), 2610: (24, 238, 5, 9)}\n",
      "{1960: (8, 69, 3, 4)} {1961: (4, 67, 6, 6)}\n",
      "{2067: (114, 131, 5, 2), 2262: (85, 146, 6, 6)} {2068: (83, 142, 5, 4), 2069: (117, 120, 4, 2), 2070: (61, 40, 6, 3), 2071: (102, 119, 5, 3), 2261: (91, 119, 6, 3), 2263: (116, 129, 4, 2), 2264: (82, 138, 5, 5), 2265: (84, 117, 8, 8)}\n",
      "{5441: (60, 59, 9, 13), 6064: (189, 19, 16, 9)} {5819: (126, 74, 24, 19), 5820: (142, 66, 15, 15), 6024: (166, 51, 9, 10), 6026: (148, 89, 7, 7), 6027: (160, 53, 8, 9), 6029: (149, 55, 13, 12), 6067: (213, 23, 13, 8), 6068: (121, 98, 8, 7)}\n",
      "{5063: (100, 125, 4, 5)} {5062: (97, 128, 4, 2), 5065: (98, 129, 3, 2), 5066: (99, 130, 4, 3), 5067: (101, 128, 3, 3)}\n",
      "{2097: (89, 107, 9, 4), 2588: (53, 46, 5, 4), 2762: (58, 19, 8, 7)} {1980: (0, 18, 2, 4), 2095: (0, 1, 8, 6), 2096: (16, 75, 9, 9), 2098: (16, 90, 6, 6), 2761: (146, 91, 6, 9), 3204: (219, 63, 7, 10), 3441: (232, 97, 10, 9), 3531: (101, 59, 3, 7), 3532: (92, 58, 3, 4)}\n",
      "{5909: (174, 16, 7, 8), 5940: (95, 12, 7, 11)} {5469: (162, 3, 9, 4), 5903: (162, 13, 10, 6), 5904: (168, 16, 7, 9), 5910: (162, 7, 10, 7), 5941: (90, 6, 8, 7), 5988: (167, 41, 10, 11)}\n",
      "{2494: (16, 25, 10, 6)} {2191: (18, 8, 5, 3), 2495: (15, 32, 7, 5), 2496: (15, 28, 8, 6)}\n",
      "{1895: (0, 51, 5, 4)} {1897: (13, 58, 4, 3), 3331: (17, 67, 4, 5)}\n",
      "{7142: (78, 36, 5, 3), 7144: (73, 28, 12, 4), 7159: (85, 82, 5, 4), 7160: (75, 80, 10, 7), 7247: (69, 118, 11, 7)} {7161: (79, 77, 6, 6), 7162: (83, 79, 4, 4), 7249: (39, 84, 11, 12)}\n",
      "{6573: (180, 107, 6, 5), 6905: (151, 92, 7, 6)} {6571: (184, 108, 6, 6), 6572: (190, 107, 7, 5), 6725: (138, 19, 6, 4), 6726: (134, 26, 5, 5), 6727: (139, 15, 6, 6), 6728: (130, 29, 7, 5), 6838: (174, 127, 7, 4), 6839: (180, 112, 8, 6), 6840: (190, 113, 5, 5), 6906: (151, 88, 5, 6), 6907: (151, 92, 2, 5), 6908: (146, 93, 5, 4), 6909: (146, 88, 6, 6)}\n",
      "{4980: (26, 178, 3, 4), 5150: (7, 48, 16, 12)} {4218: (35, 15, 3, 3), 4219: (33, 16, 2, 4), 4220: (34, 18, 3, 3), 4306: (16, 209, 19, 5), 4978: (25, 181, 3, 3), 4979: (19, 182, 3, 1), 4981: (17, 184, 3, 3), 4982: (20, 179, 3, 3), 4983: (19, 183, 2, 2), 5152: (30, 9, 7, 5)}\n",
      "{7301: (69, 4, 10, 11)} {6784: (250, 63, 5, 5), 7300: (65, 2, 6, 6), 7302: (67, 5, 10, 12)}\n",
      "{6404: (119, 38, 4, 9), 6673: (143, 15, 11, 4), 7049: (203, 26, 3, 4)} {6403: (118, 38, 3, 5), 6672: (153, 7, 9, 10), 7048: (206, 20, 5, 5), 7050: (202, 20, 4, 7), 7064: (207, 16, 7, 4)}\n",
      "{183: (12, 173, 4, 3), 360: (23, 177, 3, 3), 492: (0, 218, 4, 7), 566: (32, 227, 5, 4), 1044: (2, 223, 4, 4)} {185: (2, 169, 8, 7), 361: (0, 210, 3, 4), 362: (0, 204, 6, 5), 489: (12, 195, 7, 7), 490: (0, 213, 2, 3), 493: (6, 203, 6, 6), 563: (11, 200, 4, 5), 565: (3, 221, 4, 5)}\n",
      "{2541: (189, 13, 3, 2)} {2539: (187, 5, 5, 5), 2540: (188, 12, 1, 3), 2827: (167, 30, 3, 4), 2828: (189, 11, 3, 3), 2829: (169, 28, 7, 5), 3423: (166, 11, 5, 4), 3424: (163, 7, 6, 5), 3425: (180, 5, 2, 3), 3426: (177, 4, 4, 3), 3626: (183, 11, 5, 4), 3627: (165, 14, 5, 4), 3628: (156, 5, 8, 6), 3629: (183, 8, 5, 5)}\n",
      "{6490: (120, 32, 7, 12)} {6887: (115, 15, 6, 4)}\n",
      "{1557: (57, 254, 5, 2)} {301: (112, 229, 2, 2), 302: (105, 225, 7, 6), 303: (109, 230, 4, 3)}\n",
      "{7087: (154, 167, 8, 11), 7091: (186, 178, 8, 8)} {7088: (110, 254, 7, 2), 7089: (91, 189, 11, 9), 7090: (97, 198, 7, 5)}\n",
      "{5389: (200, 104, 6, 11), 5390: (199, 90, 6, 6)} {5391: (106, 104, 7, 7), 5392: (244, 203, 4, 9), 5393: (142, 98, 7, 7)}\n",
      "{2369: (148, 225, 9, 6), 2370: (151, 238, 3, 8), 2371: (145, 249, 5, 4), 2372: (137, 192, 5, 12)} {2373: (147, 207, 8, 3)}\n",
      "{1768: (131, 72, 4, 5), 3475: (143, 0, 7, 9)} {1933: (193, 44, 5, 6), 2099: (98, 1, 6, 6), 2342: (53, 15, 5, 5), 2343: (98, 21, 5, 6), 3300: (130, 0, 3, 2), 3301: (109, 0, 4, 3), 3302: (113, 0, 1, 1), 3476: (133, 0, 5, 3), 3503: (101, 83, 6, 11), 3504: (138, 81, 8, 11)}\n",
      "{590: (8, 197, 5, 4), 593: (11, 202, 4, 4), 819: (92, 128, 4, 5), 1347: (13, 169, 5, 6)} {591: (8, 187, 4, 5), 592: (1, 194, 6, 5), 693: (0, 216, 7, 5), 818: (90, 132, 5, 8)}\n",
      "{391: (195, 85, 5, 5), 1636: (247, 67, 4, 4)} {392: (203, 56, 3, 3), 393: (211, 33, 8, 11), 817: (183, 24, 9, 8), 1633: (246, 71, 4, 4), 1634: (255, 52, 1, 2)}\n",
      "{129: (93, 196, 4, 5), 283: (217, 30, 4, 4), 285: (183, 0, 13, 10), 534: (115, 210, 1, 3), 537: (110, 210, 2, 3), 754: (9, 221, 5, 4), 783: (108, 209, 3, 3), 784: (113, 211, 2, 3), 786: (102, 209, 6, 5), 787: (86, 187, 11, 8), 806: (148, 177, 3, 5), 1095: (105, 206, 4, 3), 1096: (133, 244, 6, 10), 1098: (142, 179, 6, 6), 1211: (54, 228, 5, 4), 1212: (7, 224, 5, 5), 1213: (0, 220, 3, 3)} {131: (113, 210, 2, 2), 133: (111, 211, 3, 2), 284: (186, 0, 5, 2), 449: (149, 250, 3, 3), 450: (131, 228, 7, 6), 451: (142, 114, 5, 4), 452: (112, 195, 3, 2), 453: (161, 245, 5, 5), 535: (95, 198, 5, 3), 536: (104, 208, 5, 3), 538: (116, 254, 6, 2), 710: (149, 190, 8, 5), 711: (152, 188, 6, 5), 712: (144, 184, 3, 4), 713: (116, 196, 2, 2), 752: (0, 220, 1, 3), 753: (54, 230, 4, 4), 755: (51, 226, 5, 4), 785: (95, 194, 11, 7), 788: (115, 255, 2, 1), 807: (115, 192, 5, 2), 808: (146, 181, 4, 5), 1097: (145, 177, 5, 4), 1099: (137, 241, 6, 4), 1210: (50, 229, 5, 4), 1652: (115, 170, 7, 8), 1654: (114, 193, 5, 3), 1655: (76, 246, 7, 10)}\n",
      "{6693: (119, 42, 6, 5), 7131: (2, 165, 4, 5)} {6529: (3, 165, 4, 5), 6692: (110, 33, 12, 10)}\n",
      "{4422: (252, 60, 4, 4), 4426: (244, 65, 4, 4), 4714: (223, 90, 4, 5), 4997: (240, 63, 4, 6)} {4421: (246, 66, 3, 2), 4423: (249, 60, 5, 4), 4424: (246, 62, 2, 4), 4425: (248, 62, 4, 5), 4713: (220, 88, 6, 6), 4993: (242, 64, 3, 5), 4994: (243, 63, 3, 3), 4995: (237, 66, 2, 4), 4996: (239, 64, 3, 5)}\n",
      "{6649: (189, 153, 3, 3), 7040: (152, 145, 5, 5)} {6650: (189, 155, 3, 6)}\n",
      "{267: (183, 154, 14, 10), 606: (118, 154, 5, 5), 607: (115, 165, 5, 6)} {265: (157, 138, 7, 7), 266: (160, 135, 6, 5), 605: (112, 158, 8, 12), 608: (117, 152, 10, 15), 609: (126, 145, 5, 8), 610: (120, 145, 8, 12)}\n",
      "{6100: (71, 0, 13, 7)} {6099: (86, 3, 10, 7), 6101: (87, 9, 7, 16), 6102: (82, 0, 6, 8)}\n",
      "{4139: (92, 248, 4, 3), 4141: (90, 245, 5, 5), 5197: (81, 247, 3, 5), 5198: (84, 248, 4, 3), 5201: (83, 245, 3, 3)} {4138: (89, 254, 6, 2), 5200: (85, 245, 4, 4)}\n",
      "{7043: (49, 18, 5, 12)} {6764: (57, 24, 6, 5)}\n",
      "{2287: (23, 145, 2, 2), 2289: (17, 156, 2, 2), 3291: (23, 148, 2, 2)} {3434: (24, 150, 1, 2), 3435: (20, 156, 2, 3)}\n",
      "{4572: (219, 6, 3, 2), 4574: (217, 8, 4, 5), 4575: (219, 4, 2, 3)} {4573: (220, 4, 2, 3)}\n",
      "{5360: (189, 0, 10, 9), 5395: (46, 142, 6, 6), 6007: (246, 69, 6, 7), 6050: (22, 144, 9, 8)} {5269: (203, 94, 6, 7), 5270: (184, 71, 11, 16), 5361: (81, 97, 9, 10), 5362: (224, 83, 5, 5), 5394: (50, 133, 11, 6), 5396: (43, 148, 8, 8), 5397: (77, 43, 11, 13), 5447: (162, 21, 8, 16), 5448: (176, 50, 9, 5), 5449: (172, 86, 6, 4), 5450: (113, 99, 12, 11), 5626: (209, 92, 7, 8), 5627: (148, 65, 18, 17), 6006: (228, 60, 4, 7), 6008: (116, 90, 15, 7), 6049: (17, 132, 7, 10), 6051: (22, 107, 9, 8), 6131: (162, 114, 9, 5), 6132: (154, 135, 11, 8), 6133: (165, 137, 10, 13), 6134: (142, 87, 7, 8), 6135: (204, 100, 7, 5), 6283: (216, 221, 9, 18), 6284: (222, 231, 7, 8)}\n",
      "{3187: (188, 233, 7, 7)} {3188: (164, 186, 6, 6)}\n",
      "{2865: (218, 128, 8, 13)} {2866: (247, 154, 6, 6), 3448: (135, 229, 10, 8)}\n",
      "{262: (147, 38, 5, 2), 741: (144, 199, 5, 8), 742: (105, 253, 6, 3), 743: (143, 83, 3, 1)} {263: (152, 27, 3, 3), 390: (225, 124, 7, 8), 739: (105, 43, 3, 4), 740: (141, 199, 4, 7)}\n",
      "{1453: (216, 219, 5, 3)} {902: (168, 13, 5, 16), 903: (164, 5, 2, 4), 906: (166, 11, 2, 4), 1386: (37, 78, 5, 8), 1387: (35, 84, 3, 3), 1451: (246, 241, 10, 10), 1452: (226, 214, 11, 9)}\n"
     ]
    }
   ],
   "source": [
    "for idx in chips_intersection:\n",
    "    test_fids = test_areas_fids[idx]\n",
    "    train_fids = train_areas_fids[idx]\n",
    "\n",
    "    print(test_fids, train_fids)"
   ]
  },
  {
   "cell_type": "code",
   "execution_count": null,
   "metadata": {},
   "outputs": [],
   "source": []
  }
 ],
 "metadata": {
  "kernelspec": {
   "display_name": "Python 3.10.4 ('aic')",
   "language": "python",
   "name": "python3"
  },
  "language_info": {
   "codemirror_mode": {
    "name": "ipython",
    "version": 3
   },
   "file_extension": ".py",
   "mimetype": "text/x-python",
   "name": "python",
   "nbconvert_exporter": "python",
   "pygments_lexer": "ipython3",
   "version": "3.9.13"
  },
  "orig_nbformat": 4,
  "vscode": {
   "interpreter": {
    "hash": "343d5314fc48f5bfb4cd63254b1e722eb3b6098face60236b2a96d94efec6dd0"
   }
  }
 },
 "nbformat": 4,
 "nbformat_minor": 2
}
