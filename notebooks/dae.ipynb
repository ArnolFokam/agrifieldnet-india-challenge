{
 "cells": [
  {
   "cell_type": "markdown",
   "metadata": {},
   "source": [
    "- Chips distribution (source, train, test)\n",
    "    - [How many chips are there for the test, train and overall dataset?](#how-many-chips-are-there-for-the-test-train-and-overall-dataset)\n",
    "    - [Are there some unused chips in different splits as well as the overall dataset?](#are-there-some-unused-chips-in-different-splits-as-well-as-the-overall-dataset)\n",
    "- Fields distribution\n",
    "    - [What is the total number of fields in different splits?](#what-is-the-total-number-of-fields-in-different-splits)\n",
    "    - [What are the chips with overlapping field ids?](#what-are-the-chips-with-overlapping-field-ids)\n",
    "- Crops distribution\n",
    "    - [What is the crop distribution per chip?]()\n",
    "    - [What is the crop distribution per field id?]()\n",
    "    - [What is the crop distribution per pixels?]()"
   ]
  },
  {
   "cell_type": "code",
   "execution_count": 82,
   "metadata": {},
   "outputs": [],
   "source": [
    "import json\n",
    "import rasterio\n",
    "import pandas as pd\n",
    "import numpy as np\n",
    "from matplotlib import pyplot as plt\n",
    "import seaborn as sns\n",
    "import glob\n",
    "from tqdm import tqdm\n",
    "from collections import defaultdict\n"
   ]
  },
  {
   "cell_type": "code",
   "execution_count": 31,
   "metadata": {},
   "outputs": [],
   "source": [
    "bands = ['B01', 'B02', 'B03', 'B04','B05', 'B06', 'B07', 'B08','B8A', 'B09', 'B11', 'B12']\n",
    "\n",
    "data_dir = '../data/train_test'\n",
    "\n",
    "main = 'ref_agrifieldnet_competition_v1'\n",
    "\n",
    "source_collection = f'{main}_source'\n",
    "train_label_collection = f'{main}_labels_train'\n",
    "test_label_collection = f'{main}_labels_test'"
   ]
  },
  {
   "cell_type": "code",
   "execution_count": 35,
   "metadata": {},
   "outputs": [],
   "source": [
    "with open (f'{data_dir}/{main}/{source_collection}/collection.json') as f:\n",
    "    source_json = json.load(f)\n",
    "    source_folder_ids = [i['href'].split('_')[-1].split('.')[0] for i in source_json['links'][4:]]\n",
    "    source_band_paths = [[f'{data_dir}/{main}/{source_collection}/{source_collection}_{i}/{band}.tif'  for band in bands ] for i in source_folder_ids]\n",
    "    \n",
    "with open (f'{data_dir}/{main}/{train_label_collection}/collection.json') as f:\n",
    "    train_json = json.load(f)\n",
    "    train_folder_ids = [i['href'].split('_')[-1].split('.')[0] for i in train_json['links'][4:]]\n",
    "    train_field_paths = [f'{data_dir}/{main}/{train_label_collection}/{train_label_collection}_{i}/field_ids.tif' for i in train_folder_ids]\n",
    "    train_label_paths = [f'{data_dir}/{main}/{train_label_collection}/{train_label_collection}_{i}/raster_labels.tif' for i in train_folder_ids]\n",
    "\n",
    "with open (f'{data_dir}/{main}/{test_label_collection}/collection.json') as f: \n",
    "    test_json = json.load(f)\n",
    "    test_folder_ids = [i['href'].split('_')[-1].split('.')[0] for i in test_json['links'][4:]]\n",
    "    test_field_paths = [f'{data_dir}/{main}/{test_label_collection}/{test_label_collection}_{i}/field_ids.tif' for i in test_folder_ids]\n",
    "    test_label_paths = [f'{data_dir}/{main}/{test_label_collection}/{test_label_collection}_{i}/raster_labels.tif' for i in test_folder_ids]"
   ]
  },
  {
   "cell_type": "markdown",
   "metadata": {},
   "source": [
    "## Chips distribution"
   ]
  },
  {
   "cell_type": "markdown",
   "metadata": {},
   "source": [
    "### How many chips are there for the test, train and overall dataset?"
   ]
  },
  {
   "cell_type": "code",
   "execution_count": 33,
   "metadata": {},
   "outputs": [
    {
     "name": "stdout",
     "output_type": "stream",
     "text": [
      "number of train chips:  1165\n"
     ]
    }
   ],
   "source": [
    "assert len(train_folder_ids) == len(train_field_paths) == len(train_label_paths)\n",
    "print(\"number of train chips: \", len(train_folder_ids))"
   ]
  },
  {
   "cell_type": "code",
   "execution_count": 34,
   "metadata": {},
   "outputs": [
    {
     "name": "stdout",
     "output_type": "stream",
     "text": [
      "number of test chips:  707\n"
     ]
    }
   ],
   "source": [
    "assert len(test_folder_ids) == len(test_field_paths) == len(test_label_paths)\n",
    "print(\"number of test chips: \", len(test_folder_ids))"
   ]
  },
  {
   "cell_type": "code",
   "execution_count": 36,
   "metadata": {},
   "outputs": [
    {
     "name": "stdout",
     "output_type": "stream",
     "text": [
      "number of source chips:  1217\n"
     ]
    }
   ],
   "source": [
    "assert len(source_folder_ids) == len(source_band_paths)\n",
    "print(\"number of source chips: \", len(source_folder_ids))"
   ]
  },
  {
   "cell_type": "markdown",
   "metadata": {},
   "source": [
    "### Are there some unused chips in different splits as well as the overall dataset?"
   ]
  },
  {
   "cell_type": "code",
   "execution_count": 59,
   "metadata": {},
   "outputs": [
    {
     "name": "stdout",
     "output_type": "stream",
     "text": [
      "1212 total chips used in train/test splits\n"
     ]
    }
   ],
   "source": [
    "print(f\"{len(set(test_folder_ids).union(set(train_folder_ids)))} total chips used in train/test splits\")"
   ]
  },
  {
   "cell_type": "code",
   "execution_count": 43,
   "metadata": {},
   "outputs": [
    {
     "name": "stdout",
     "output_type": "stream",
     "text": [
      "5 unused chips from the source collection\n"
     ]
    }
   ],
   "source": [
    "print(f\"{len(source_folder_ids) - len(set(source_folder_ids).intersection(set(test_folder_ids).union(set(train_folder_ids))))} unused chips from the source collection\")"
   ]
  },
  {
   "cell_type": "code",
   "execution_count": 47,
   "metadata": {},
   "outputs": [
    {
     "name": "stdout",
     "output_type": "stream",
     "text": [
      "52 unused chips from the source collection (by the train split).\n"
     ]
    }
   ],
   "source": [
    "print(f\"{len(source_folder_ids) - len(set(source_folder_ids).intersection(set(train_folder_ids)))} unused chips from the source collection (by the train split).\")"
   ]
  },
  {
   "cell_type": "code",
   "execution_count": 52,
   "metadata": {},
   "outputs": [
    {
     "name": "stdout",
     "output_type": "stream",
     "text": [
      "505 unused chips from the train collection (by the test split).\n"
     ]
    }
   ],
   "source": [
    "print(f\"{len(train_folder_ids) - len(set(train_folder_ids).intersection(set(test_folder_ids)))} unused chips from the train collection (by the test split).\")"
   ]
  },
  {
   "cell_type": "code",
   "execution_count": 49,
   "metadata": {},
   "outputs": [
    {
     "name": "stdout",
     "output_type": "stream",
     "text": [
      "510 unused chips from the source collection (by the test split).\n"
     ]
    }
   ],
   "source": [
    "print(f\"{len(source_folder_ids) - len(set(source_folder_ids).intersection(set(test_folder_ids)))} unused chips from the source collection (by the test split).\")\n"
   ]
  },
  {
   "cell_type": "markdown",
   "metadata": {},
   "source": [
    "(505) missing chips from the train + (5) chips missing from both splits  = 510 from source collection."
   ]
  },
  {
   "cell_type": "code",
   "execution_count": 61,
   "metadata": {},
   "outputs": [
    {
     "name": "stdout",
     "output_type": "stream",
     "text": [
      "47 chips in the test data but absent in the train data.\n"
     ]
    }
   ],
   "source": [
    "print(f\"{len(test_folder_ids) - len(set(test_folder_ids).intersection(train_folder_ids))} chips in the test data but absent in the train data.\")"
   ]
  },
  {
   "cell_type": "markdown",
   "metadata": {},
   "source": [
    "## Fields distribution"
   ]
  },
  {
   "cell_type": "code",
   "execution_count": 89,
   "metadata": {},
   "outputs": [],
   "source": [
    "\n",
    "def get_field_ids_per_chips(collection, folder_ids):\n",
    "\n",
    "    chips = {}\n",
    "\n",
    "    pbar = tqdm(folder_ids)\n",
    "    pbar.set_description(f'Extracting {collection}',)\n",
    "\n",
    "    for idx in pbar:\n",
    "        with rasterio.open(f'{data_dir}/{main}/{collection}/{collection}_{idx}/field_ids.tif') as src:\n",
    "            field_data = src.read()\n",
    "            field_data = list(np.unique(field_data))\n",
    "            field_data.remove(0)\n",
    "            chips[idx] = field_data\n",
    "\n",
    "    return chips"
   ]
  },
  {
   "cell_type": "code",
   "execution_count": 95,
   "metadata": {},
   "outputs": [
    {
     "name": "stderr",
     "output_type": "stream",
     "text": [
      "Extracting ref_agrifieldnet_competition_v1_labels_train: 100%|██████████| 1165/1165 [00:02<00:00, 507.52it/s]\n",
      "Extracting ref_agrifieldnet_competition_v1_labels_test: 100%|██████████| 707/707 [00:01<00:00, 506.13it/s]\n"
     ]
    }
   ],
   "source": [
    "train_field_ids_per_chip = get_field_ids_per_chips(train_label_collection, train_folder_ids)\n",
    "test_field_ids_per_chip = get_field_ids_per_chips(test_label_collection, test_folder_ids)"
   ]
  },
  {
   "cell_type": "code",
   "execution_count": 96,
   "metadata": {},
   "outputs": [],
   "source": [
    "train_field_ids = [field for fields in train_field_ids_per_chip.values() for field in fields]\n",
    "test_field_ids = [field for fields in test_field_ids_per_chip.values() for field in fields]"
   ]
  },
  {
   "cell_type": "markdown",
   "metadata": {},
   "source": [
    "### What is the total number of fields in different splits?"
   ]
  },
  {
   "cell_type": "markdown",
   "metadata": {},
   "source": [
    "- The same chips from source collection may have both training and testing fields. An elegant way to seperate them might be nice."
   ]
  },
  {
   "cell_type": "code",
   "execution_count": 92,
   "metadata": {},
   "outputs": [
    {
     "name": "stdout",
     "output_type": "stream",
     "text": [
      "5551 fields in the train split\n"
     ]
    }
   ],
   "source": [
    "print(f\"{len(np.unique(train_field_ids))} fields in the train split\")"
   ]
  },
  {
   "cell_type": "code",
   "execution_count": 98,
   "metadata": {},
   "outputs": [
    {
     "name": "stdout",
     "output_type": "stream",
     "text": [
      "1530 fields in the test split\n"
     ]
    }
   ],
   "source": [
    "print(f\"{len(np.unique(test_field_ids))} fields in the test split\")"
   ]
  },
  {
   "cell_type": "code",
   "execution_count": 99,
   "metadata": {},
   "outputs": [
    {
     "name": "stdout",
     "output_type": "stream",
     "text": [
      "7081 fields in the dataset\n"
     ]
    }
   ],
   "source": [
    "print(f\"{len(np.unique(test_field_ids)) + len(np.unique(train_field_ids))} fields in the dataset\")"
   ]
  },
  {
   "cell_type": "markdown",
   "metadata": {},
   "source": [
    "### What are the chips with overlapping field ids?"
   ]
  },
  {
   "cell_type": "code",
   "execution_count": 110,
   "metadata": {},
   "outputs": [],
   "source": [
    "def get_overlapping_chips_per_field(field_ids_per_chip):\n",
    "    field_ids = np.unique([field for fields in field_ids_per_chip.values() for field in fields])\n",
    "\n",
    "    chips = {}\n",
    "\n",
    "    for idx in tqdm(field_ids):\n",
    "        chips[idx] = [chip for chip in field_ids_per_chip.keys() if idx in field_ids_per_chip[chip]]\n",
    "\n",
    "    return chips"
   ]
  },
  {
   "cell_type": "code",
   "execution_count": 125,
   "metadata": {},
   "outputs": [
    {
     "name": "stderr",
     "output_type": "stream",
     "text": [
      "100%|██████████| 5551/5551 [00:00<00:00, 8078.83it/s]"
     ]
    },
    {
     "name": "stdout",
     "output_type": "stream",
     "text": [
      "5285 sets of 1 overlapping training chips\n",
      "264 sets of 2 overlapping training chips\n",
      "1 sets of 3 overlapping training chips\n",
      "1 sets of 4 overlapping training chips\n"
     ]
    },
    {
     "name": "stderr",
     "output_type": "stream",
     "text": [
      "\n"
     ]
    }
   ],
   "source": [
    "overlapping_train_chips = get_overlapping_chips_per_field(train_field_ids_per_chip)\n",
    "sets, counts = np.unique([len(chips) for chips in overlapping_train_chips.values()], return_counts=True)\n",
    "\n",
    "for v, c in zip(sets, counts):\n",
    "    print(f\"{c} sets of {v} overlapping training chips\")"
   ]
  },
  {
   "cell_type": "code",
   "execution_count": 126,
   "metadata": {},
   "outputs": [
    {
     "name": "stderr",
     "output_type": "stream",
     "text": [
      "100%|██████████| 1530/1530 [00:00<00:00, 19568.95it/s]"
     ]
    },
    {
     "name": "stdout",
     "output_type": "stream",
     "text": [
      "1458 sets of 1 overlapping testing chips\n",
      "70 sets of 2 overlapping testing chips\n",
      "2 sets of 4 overlapping testing chips\n"
     ]
    },
    {
     "name": "stderr",
     "output_type": "stream",
     "text": [
      "\n"
     ]
    }
   ],
   "source": [
    "overlapping_test_chips = get_overlapping_chips_per_field(test_field_ids_per_chip)\n",
    "sets, counts = np.unique([len(chips) for chips in overlapping_test_chips.values()], return_counts=True)\n",
    "\n",
    "for v, c in zip(sets, counts):\n",
    "    print(f\"{c} sets of {v} overlapping testing chips\")"
   ]
  },
  {
   "cell_type": "markdown",
   "metadata": {},
   "source": [
    "## Crops distribution"
   ]
  },
  {
   "cell_type": "code",
   "execution_count": 129,
   "metadata": {},
   "outputs": [],
   "source": [
    "crops = {\n",
    "    \"1\": \"Wheat\",\n",
    "    \"2\": \"Mustard\",\n",
    "    \"3\": \"Lentil\",\n",
    "    \"4\": \"No Crop/Fallow\",\n",
    "    \"5\": \"Green pea\",\n",
    "    \"6\": \"Sugarcane\",\n",
    "    \"8\": \"Garlic\",\n",
    "    \"9\": \"Maize\",\n",
    "    \"13\": \"Gram\",\n",
    "    \"14\": \"Coriander\",\n",
    "    \"15\": \"Potato\",\n",
    "    \"16\": \"Bersem\",\n",
    "    \"36\": \"Rice\",\n",
    "}"
   ]
  },
  {
   "cell_type": "markdown",
   "metadata": {},
   "source": [
    "### What is the crop distribution per chip?"
   ]
  },
  {
   "cell_type": "code",
   "execution_count": 187,
   "metadata": {},
   "outputs": [],
   "source": [
    "def get_crop_labels_per_chips(collection, folder_ids):\n",
    "\n",
    "    chips = {}\n",
    "\n",
    "    pbar = tqdm(folder_ids)\n",
    "    pbar.set_description(f'Extracting {collection}',)\n",
    "\n",
    "    for idx in pbar:\n",
    "        with rasterio.open(f'{data_dir}/{main}/{collection}/{collection}_{idx}/raster_labels.tif') as src:\n",
    "            label_data = src.read()\n",
    "            label_data = list(np.unique(label_data))\n",
    "            label_data.remove(0)\n",
    "            chips[idx] = [crops[str(label_idx)] for label_idx in label_data]\n",
    "\n",
    "    return chips\n",
    "\n",
    "\n",
    "def get_overlapping_crops_in_chips(train_crops_per_chip):\n",
    "\n",
    "    chips = {}\n",
    "\n",
    "    pbar = tqdm(crops.values())\n",
    "\n",
    "    for crop in pbar:\n",
    "        pbar.set_description(f\"Extracting {crop}\")\n",
    "        chips[crop] = [chip for chip in train_crops_per_chip.keys() if crop in train_crops_per_chip[chip]]\n",
    "\n",
    "    return chips"
   ]
  },
  {
   "cell_type": "code",
   "execution_count": 164,
   "metadata": {},
   "outputs": [
    {
     "name": "stderr",
     "output_type": "stream",
     "text": [
      "Extracting ref_agrifieldnet_competition_v1_labels_train: 100%|██████████| 1165/1165 [00:02<00:00, 486.37it/s]"
     ]
    },
    {
     "name": "stdout",
     "output_type": "stream",
     "text": [
      "586 chips containing 1 crops type(s)\n",
      "313 chips containing 2 crops type(s)\n",
      "178 chips containing 3 crops type(s)\n",
      "69 chips containing 4 crops type(s)\n",
      "14 chips containing 5 crops type(s)\n",
      "3 chips containing 6 crops type(s)\n",
      "2 chips containing 7 crops type(s)\n"
     ]
    },
    {
     "name": "stderr",
     "output_type": "stream",
     "text": [
      "\n"
     ]
    }
   ],
   "source": [
    "train_crops_per_chip = get_crop_labels_per_chips(train_label_collection, train_folder_ids)\n",
    "\n",
    "sets, counts = np.unique([len(crops_set) for crops_set in train_crops_per_chip.values()], return_counts=True)\n",
    "\n",
    "for v, c in zip(sets, counts):\n",
    "    print(f\"{c} chips containing {v} crops type(s)\")"
   ]
  },
  {
   "cell_type": "code",
   "execution_count": 191,
   "metadata": {},
   "outputs": [
    {
     "name": "stderr",
     "output_type": "stream",
     "text": [
      "Extracting Rice: 100%|██████████| 13/13 [00:00<00:00, 1978.66it/s]"
     ]
    },
    {
     "name": "stdout",
     "output_type": "stream",
     "text": [
      "Wheat can be found in 661 chips\n",
      "Mustard can be found in 479 chips\n",
      "Lentil can be found in 82 chips\n",
      "No Crop/Fallow can be found in 446 chips\n",
      "Green pea can be found in 24 chips\n",
      "Sugarcane can be found in 111 chips\n",
      "Garlic can be found in 40 chips\n",
      "Maize can be found in 119 chips\n",
      "Gram can be found in 42 chips\n",
      "Coriander can be found in 11 chips\n",
      "Potato can be found in 38 chips\n",
      "Bersem can be found in 16 chips\n",
      "Rice can be found in 55 chips\n"
     ]
    },
    {
     "name": "stderr",
     "output_type": "stream",
     "text": [
      "\n"
     ]
    }
   ],
   "source": [
    "overlapping_crops_in_chips = get_overlapping_crops_in_chips(train_crops_per_chip)\n",
    "\n",
    "crop_counts_chip = {crop: len(chips) for crop, chips in overlapping_crops_in_chips.items()}\n",
    "\n",
    "for crop, count in crop_counts_chip.items():\n",
    "    print(f\"{crop} can be found in {count} chips\")"
   ]
  },
  {
   "cell_type": "markdown",
   "metadata": {},
   "source": [
    "### What is the crop distribution per field id?"
   ]
  },
  {
   "cell_type": "code",
   "execution_count": 189,
   "metadata": {},
   "outputs": [],
   "source": [
    "def get_crop_labels_per_field_ids(collection, folder_ids):\n",
    "\n",
    "    crop_labels_per_field_ids = defaultdict(lambda: set())\n",
    "\n",
    "    pbar = tqdm(folder_ids)\n",
    "    pbar.set_description(f'Extracting {collection}',)\n",
    "\n",
    "    for idx in pbar:\n",
    "\n",
    "        with rasterio.open(f'{data_dir}/{main}/{collection}/{collection}_{idx}/raster_labels.tif') as src:\n",
    "            label_data = src.read()[0]\n",
    "\n",
    "        with rasterio.open(f'{data_dir}/{main}/{collection}/{collection}_{idx}/field_ids.tif') as src:\n",
    "            field_data = src.read()[0]\n",
    "\n",
    "        field_ids = list(np.unique(field_data))\n",
    "        field_ids.remove(0)\n",
    "\n",
    "        for fidx in field_ids:\n",
    "            crop_labels_per_field_ids[fidx] = crop_labels_per_field_ids[fidx].union(set([crops[str(cidx)] for cidx in np.unique(label_data[field_data == fidx])]))\n",
    "\n",
    "    return crop_labels_per_field_ids\n",
    "\n",
    "\n",
    "def get_overlapping_crops_in_field_ids(train_crops_per_field_ids):\n",
    "\n",
    "    chips = {}\n",
    "\n",
    "    pbar = tqdm(crops.values())\n",
    "\n",
    "    for crop in pbar:\n",
    "        pbar.set_description(f\"Extracting {crop}\")\n",
    "        chips[crop] = [chip for chip in train_crops_per_field_ids.keys() if crop in train_crops_per_field_ids[chip]]\n",
    "\n",
    "    return chips"
   ]
  },
  {
   "cell_type": "code",
   "execution_count": 190,
   "metadata": {},
   "outputs": [
    {
     "name": "stderr",
     "output_type": "stream",
     "text": [
      "Extracting ref_agrifieldnet_competition_v1_labels_train: 100%|██████████| 1165/1165 [00:04<00:00, 259.17it/s]"
     ]
    },
    {
     "name": "stdout",
     "output_type": "stream",
     "text": [
      "5551 fields containing 1 crops type(s)\n"
     ]
    },
    {
     "name": "stderr",
     "output_type": "stream",
     "text": [
      "\n"
     ]
    }
   ],
   "source": [
    "crop_labels_per_field_ids = get_crop_labels_per_field_ids(train_label_collection, train_folder_ids)\n",
    "\n",
    "sets, counts = np.unique([len(crops_set) for crops_set in crop_labels_per_field_ids.values()], return_counts=True)\n",
    "\n",
    "for v, c in zip(sets, counts):\n",
    "    print(f\"{c} fields containing {v} crops type(s)\")"
   ]
  },
  {
   "cell_type": "code",
   "execution_count": 196,
   "metadata": {},
   "outputs": [
    {
     "name": "stderr",
     "output_type": "stream",
     "text": [
      "Extracting Rice: 100%|██████████| 13/13 [00:00<00:00, 1624.29it/s]"
     ]
    },
    {
     "name": "stdout",
     "output_type": "stream",
     "text": [
      "Wheat can be found in 2031 fields\n",
      "Mustard can be found in 990 fields\n",
      "Lentil can be found in 103 fields\n",
      "No Crop/Fallow can be found in 1641 fields\n",
      "Green pea can be found in 23 fields\n",
      "Sugarcane can be found in 163 fields\n",
      "Garlic can be found in 48 fields\n",
      "Maize can be found in 293 fields\n",
      "Gram can be found in 59 fields\n",
      "Coriander can be found in 14 fields\n",
      "Potato can be found in 41 fields\n",
      "Bersem can be found in 16 fields\n",
      "Rice can be found in 129 fields\n"
     ]
    },
    {
     "name": "stderr",
     "output_type": "stream",
     "text": [
      "\n"
     ]
    }
   ],
   "source": [
    "overlapping_crops_in_field_ids = get_overlapping_crops_in_field_ids(crop_labels_per_field_ids)\n",
    "\n",
    "crop_counts_field = {crop: len(chips) for crop, chips in overlapping_crops_in_field_ids.items()}\n",
    "\n",
    "for crop, count in crop_counts_field.items():\n",
    "    print(f\"{crop} can be found in {count} fields\")"
   ]
  },
  {
   "cell_type": "markdown",
   "metadata": {},
   "source": [
    "### What is the crop distribution per pixels?"
   ]
  },
  {
   "cell_type": "code",
   "execution_count": 197,
   "metadata": {},
   "outputs": [],
   "source": [
    "def get_num_pixels_per_crops_in_each_chip(collection, folder_ids):\n",
    "\n",
    "    num_pixels_per_field_ids = defaultdict(lambda: {})\n",
    "\n",
    "    pbar = tqdm(folder_ids)\n",
    "    pbar.set_description(f'Extracting {collection}',)\n",
    "\n",
    "    for idx in pbar:\n",
    "\n",
    "        with rasterio.open(f'{data_dir}/{main}/{collection}/{collection}_{idx}/raster_labels.tif') as src:\n",
    "            label_data = src.read()[0]\n",
    "\n",
    "        for crop in crops.keys():\n",
    "            num_pixels_per_field_ids[idx][crops[crop]] = len(label_data[label_data == int(crop)])\n",
    "\n",
    "    return num_pixels_per_field_ids"
   ]
  },
  {
   "cell_type": "code",
   "execution_count": 198,
   "metadata": {},
   "outputs": [
    {
     "name": "stderr",
     "output_type": "stream",
     "text": [
      "Extracting ref_agrifieldnet_competition_v1_labels_train: 100%|██████████| 1165/1165 [00:02<00:00, 552.11it/s]\n"
     ]
    }
   ],
   "source": [
    "num_pixels_per_field_ids = get_num_pixels_per_crops_in_each_chip(train_label_collection, train_folder_ids)"
   ]
  },
  {
   "cell_type": "code",
   "execution_count": 210,
   "metadata": {},
   "outputs": [
    {
     "name": "stdout",
     "output_type": "stream",
     "text": [
      "'Wheat' can be found in 75118 pixels\n",
      "'Mustard' can be found in 46818 pixels\n",
      "'Lentil' can be found in 2883 pixels\n",
      "'No Crop/Fallow' can be found in 36397 pixels\n",
      "'Green pea' can be found in 531 pixels\n",
      "'Sugarcane' can be found in 5820 pixels\n",
      "'Garlic' can be found in 3150 pixels\n",
      "'Maize' can be found in 8773 pixels\n",
      "'Gram' can be found in 3503 pixels\n",
      "'Coriander' can be found in 678 pixels\n",
      "'Potato' can be found in 886 pixels\n",
      "'Bersem' can be found in 261 pixels\n",
      "'Rice' can be found in 3410 pixels\n"
     ]
    }
   ],
   "source": [
    "pixel_dist = np.asarray([list(num_pixels_per_field_ids[idx].values())  for idx in num_pixels_per_field_ids.keys()]).sum(axis=0)\n",
    "\n",
    "for i in range(len(crops.keys())):\n",
    "    print(f\"'{crops[list(crops.keys())[i]]}' can be found in {pixel_dist[i]} pixels\")"
   ]
  },
  {
   "cell_type": "code",
   "execution_count": null,
   "metadata": {},
   "outputs": [],
   "source": []
  }
 ],
 "metadata": {
  "kernelspec": {
   "display_name": "Python 3.10.4 ('aic')",
   "language": "python",
   "name": "python3"
  },
  "language_info": {
   "codemirror_mode": {
    "name": "ipython",
    "version": 3
   },
   "file_extension": ".py",
   "mimetype": "text/x-python",
   "name": "python",
   "nbconvert_exporter": "python",
   "pygments_lexer": "ipython3",
   "version": "3.10.4"
  },
  "orig_nbformat": 4,
  "vscode": {
   "interpreter": {
    "hash": "343d5314fc48f5bfb4cd63254b1e722eb3b6098face60236b2a96d94efec6dd0"
   }
  }
 },
 "nbformat": 4,
 "nbformat_minor": 2
}
